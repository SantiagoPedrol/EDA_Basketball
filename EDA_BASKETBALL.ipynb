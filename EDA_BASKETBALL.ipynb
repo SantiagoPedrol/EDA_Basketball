{
  "cells": [
    {
      "cell_type": "markdown",
      "metadata": {
        "id": "12EE0CmoxKpd"
      },
      "source": [
        "![project1.jpg](data:image/jpeg;base64,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)"
      ]
    },
    {
      "cell_type": "markdown",
      "metadata": {
        "id": "ZR0jmEefxKi-"
      },
      "source": [
        "# Objetivos y Dataset\n",
        "\n",
        "El dataset contiene aproximadamente unos 55 mil datos, en el cual cada fila se representa a un jugador de Basketball y las columnas estan compuestas por estadisticas del juego tales como las siguientes:\n",
        "\n",
        "\n",
        "*  League = Nombre de la liga\n",
        "*  Season = Año de la temporada YYYY-YYYY\n",
        "*  Stage = Internacional, NBA:Playoffs,Temporada regular\n",
        "*  Player = Nombre completo del jugador\n",
        "*  Team = Nombre del equipo\n",
        "*  GP = Partidos jugados\n",
        "*  MIN = Minutos jugados\n",
        "*  FGM = Tiros dobles anotados\n",
        "*  FGA = Tiros de doble intentados\n",
        "*  3PM = Tiros triples anotados\n",
        "*  3PA = Tiros triples intentados\n",
        "*  FTM = Tiros libres anotados\n",
        "*  FTA = Tiros libres intentados\n",
        "*  TOV = Cambio de posesión\n",
        "*  PF = Faltas personales\n",
        "*  ORB = Rebotes Offensivos\n",
        "*  DRB = Rebotes Defensivos\n",
        "*  REB = Rebotes\n",
        "*  AST = Asistencia\n",
        "*  STL = Robos\n",
        "*  BLK = Bloqueos\n",
        "*  PTS = Puntos\n",
        "*  birth_year = Año de nacimiento\n",
        "*  birth_month = Mes de nacimiento\n",
        "*  birth_date = Fecha de nacimiento\n",
        "*  height = Estatura en pies\n",
        "*  height_cm = Estatura en CM\n",
        "*  weight = Peso\n",
        "*  weight_kg = Peso en KG\n",
        "*  nationality = Nacionalidad\n",
        "*  high_school = Escuela Secundaria\n",
        "\n"
      ]
    },
    {
      "cell_type": "markdown",
      "metadata": {
        "id": "MWVzr-grxKLI"
      },
      "source": [
        "# **En este analisis solo se utilizara los datos de la liga NBA durante los años 2002-03**"
      ]
    },
    {
      "cell_type": "code",
      "execution_count": 2,
      "metadata": {
        "id": "mGh8T1AQwdRm"
      },
      "outputs": [],
      "source": [
        "import numpy as np\n",
        "import pandas as pd\n",
        "import matplotlib.pyplot as plt\n",
        "import seaborn as sns\n",
        "# Plotly Libraris\n",
        "import plotly.express as px\n",
        "import plotly.graph_objects as go\n",
        "from plotly.subplots import make_subplots"
      ]
    },
    {
      "cell_type": "code",
      "execution_count": 3,
      "metadata": {
        "id": "ebOubyLkwgbt"
      },
      "outputs": [],
      "source": [
        "data_set = pd.read_csv('players_stats_by_season_full_details.csv')"
      ]
    },
    {
      "cell_type": "code",
      "execution_count": 4,
      "metadata": {
        "colab": {
          "base_uri": "https://localhost:8080/"
        },
        "id": "fkzzRCWrxHtv",
        "outputId": "6789a8e8-7fa0-4629-9105-4c12a8616f38"
      },
      "outputs": [
        {
          "data": {
            "text/plain": [
              "(53949, 34)"
            ]
          },
          "execution_count": 4,
          "metadata": {},
          "output_type": "execute_result"
        }
      ],
      "source": [
        "data_set.shape"
      ]
    },
    {
      "cell_type": "code",
      "execution_count": 5,
      "metadata": {
        "colab": {
          "base_uri": "https://localhost:8080/",
          "height": 236
        },
        "id": "OtchEvBlw60s",
        "outputId": "903eba74-a151-43c4-bfb8-d41e4481b39a"
      },
      "outputs": [
        {
          "data": {
            "text/html": [
              "<div>\n",
              "<style scoped>\n",
              "    .dataframe tbody tr th:only-of-type {\n",
              "        vertical-align: middle;\n",
              "    }\n",
              "\n",
              "    .dataframe tbody tr th {\n",
              "        vertical-align: top;\n",
              "    }\n",
              "\n",
              "    .dataframe thead th {\n",
              "        text-align: right;\n",
              "    }\n",
              "</style>\n",
              "<table border=\"1\" class=\"dataframe\">\n",
              "  <thead>\n",
              "    <tr style=\"text-align: right;\">\n",
              "      <th></th>\n",
              "      <th>League</th>\n",
              "      <th>Season</th>\n",
              "      <th>Stage</th>\n",
              "      <th>Player</th>\n",
              "      <th>Team</th>\n",
              "      <th>GP</th>\n",
              "      <th>MIN</th>\n",
              "      <th>FGM</th>\n",
              "      <th>FGA</th>\n",
              "      <th>TPM</th>\n",
              "      <th>...</th>\n",
              "      <th>birth_date</th>\n",
              "      <th>height</th>\n",
              "      <th>height_cm</th>\n",
              "      <th>weight</th>\n",
              "      <th>weight_kg</th>\n",
              "      <th>nationality</th>\n",
              "      <th>high_school</th>\n",
              "      <th>draft_round</th>\n",
              "      <th>draft_pick</th>\n",
              "      <th>draft_team</th>\n",
              "    </tr>\n",
              "  </thead>\n",
              "  <tbody>\n",
              "    <tr>\n",
              "      <th>0</th>\n",
              "      <td>NBA</td>\n",
              "      <td>1999 - 2000</td>\n",
              "      <td>Regular_Season</td>\n",
              "      <td>Shaquille O'Neal</td>\n",
              "      <td>LAL</td>\n",
              "      <td>79</td>\n",
              "      <td>3163.0</td>\n",
              "      <td>956</td>\n",
              "      <td>1665</td>\n",
              "      <td>0</td>\n",
              "      <td>...</td>\n",
              "      <td>Mar 6, 1972</td>\n",
              "      <td>7-1</td>\n",
              "      <td>216.0</td>\n",
              "      <td>325.0</td>\n",
              "      <td>147.0</td>\n",
              "      <td>United States</td>\n",
              "      <td>Robert G. Cole High School</td>\n",
              "      <td>1.0</td>\n",
              "      <td>1.0</td>\n",
              "      <td>Orlando Magic</td>\n",
              "    </tr>\n",
              "    <tr>\n",
              "      <th>1</th>\n",
              "      <td>NBA</td>\n",
              "      <td>1999 - 2000</td>\n",
              "      <td>Regular_Season</td>\n",
              "      <td>Vince Carter</td>\n",
              "      <td>TOR</td>\n",
              "      <td>82</td>\n",
              "      <td>3126.0</td>\n",
              "      <td>788</td>\n",
              "      <td>1696</td>\n",
              "      <td>95</td>\n",
              "      <td>...</td>\n",
              "      <td>Jan 26, 1977</td>\n",
              "      <td>6-6</td>\n",
              "      <td>198.0</td>\n",
              "      <td>220.0</td>\n",
              "      <td>100.0</td>\n",
              "      <td>United States</td>\n",
              "      <td>Mainland High School</td>\n",
              "      <td>1.0</td>\n",
              "      <td>5.0</td>\n",
              "      <td>Golden State Warriors</td>\n",
              "    </tr>\n",
              "    <tr>\n",
              "      <th>2</th>\n",
              "      <td>NBA</td>\n",
              "      <td>1999 - 2000</td>\n",
              "      <td>Regular_Season</td>\n",
              "      <td>Karl Malone</td>\n",
              "      <td>UTA</td>\n",
              "      <td>82</td>\n",
              "      <td>2947.0</td>\n",
              "      <td>752</td>\n",
              "      <td>1476</td>\n",
              "      <td>2</td>\n",
              "      <td>...</td>\n",
              "      <td>Jul 24, 1963</td>\n",
              "      <td>6-9</td>\n",
              "      <td>206.0</td>\n",
              "      <td>265.0</td>\n",
              "      <td>120.0</td>\n",
              "      <td>United States</td>\n",
              "      <td>Summerfield High School</td>\n",
              "      <td>1.0</td>\n",
              "      <td>13.0</td>\n",
              "      <td>Utah Jazz</td>\n",
              "    </tr>\n",
              "    <tr>\n",
              "      <th>3</th>\n",
              "      <td>NBA</td>\n",
              "      <td>1999 - 2000</td>\n",
              "      <td>Regular_Season</td>\n",
              "      <td>Allen Iverson</td>\n",
              "      <td>PHI</td>\n",
              "      <td>70</td>\n",
              "      <td>2853.0</td>\n",
              "      <td>729</td>\n",
              "      <td>1733</td>\n",
              "      <td>89</td>\n",
              "      <td>...</td>\n",
              "      <td>Jun 7, 1975</td>\n",
              "      <td>6-0</td>\n",
              "      <td>183.0</td>\n",
              "      <td>165.0</td>\n",
              "      <td>75.0</td>\n",
              "      <td>United States</td>\n",
              "      <td>Bethel High School</td>\n",
              "      <td>1.0</td>\n",
              "      <td>1.0</td>\n",
              "      <td>Philadelphia Sixers</td>\n",
              "    </tr>\n",
              "    <tr>\n",
              "      <th>4</th>\n",
              "      <td>NBA</td>\n",
              "      <td>1999 - 2000</td>\n",
              "      <td>Regular_Season</td>\n",
              "      <td>Gary Payton</td>\n",
              "      <td>SEA</td>\n",
              "      <td>82</td>\n",
              "      <td>3425.0</td>\n",
              "      <td>747</td>\n",
              "      <td>1666</td>\n",
              "      <td>177</td>\n",
              "      <td>...</td>\n",
              "      <td>Jul 23, 1968</td>\n",
              "      <td>6-4</td>\n",
              "      <td>193.0</td>\n",
              "      <td>180.0</td>\n",
              "      <td>82.0</td>\n",
              "      <td>United States</td>\n",
              "      <td>Skyline High School</td>\n",
              "      <td>1.0</td>\n",
              "      <td>2.0</td>\n",
              "      <td>Seattle SuperSonics</td>\n",
              "    </tr>\n",
              "  </tbody>\n",
              "</table>\n",
              "<p>5 rows × 34 columns</p>\n",
              "</div>"
            ],
            "text/plain": [
              "  League       Season           Stage            Player Team  GP     MIN  FGM  \\\n",
              "0    NBA  1999 - 2000  Regular_Season  Shaquille O'Neal  LAL  79  3163.0  956   \n",
              "1    NBA  1999 - 2000  Regular_Season      Vince Carter  TOR  82  3126.0  788   \n",
              "2    NBA  1999 - 2000  Regular_Season       Karl Malone  UTA  82  2947.0  752   \n",
              "3    NBA  1999 - 2000  Regular_Season     Allen Iverson  PHI  70  2853.0  729   \n",
              "4    NBA  1999 - 2000  Regular_Season       Gary Payton  SEA  82  3425.0  747   \n",
              "\n",
              "    FGA  TPM  ...    birth_date  height  height_cm  weight  weight_kg  \\\n",
              "0  1665    0  ...   Mar 6, 1972     7-1      216.0   325.0      147.0   \n",
              "1  1696   95  ...  Jan 26, 1977     6-6      198.0   220.0      100.0   \n",
              "2  1476    2  ...  Jul 24, 1963     6-9      206.0   265.0      120.0   \n",
              "3  1733   89  ...   Jun 7, 1975     6-0      183.0   165.0       75.0   \n",
              "4  1666  177  ...  Jul 23, 1968     6-4      193.0   180.0       82.0   \n",
              "\n",
              "     nationality                  high_school  draft_round  draft_pick  \\\n",
              "0  United States  Robert G. Cole High School           1.0         1.0   \n",
              "1  United States         Mainland High School          1.0         5.0   \n",
              "2  United States      Summerfield High School          1.0        13.0   \n",
              "3  United States          Bethel High School           1.0         1.0   \n",
              "4  United States          Skyline High School          1.0         2.0   \n",
              "\n",
              "              draft_team  \n",
              "0          Orlando Magic  \n",
              "1  Golden State Warriors  \n",
              "2              Utah Jazz  \n",
              "3    Philadelphia Sixers  \n",
              "4    Seattle SuperSonics  \n",
              "\n",
              "[5 rows x 34 columns]"
            ]
          },
          "execution_count": 5,
          "metadata": {},
          "output_type": "execute_result"
        }
      ],
      "source": [
        "data_set.rename(columns={\"3PM\":\"TPM\", \"3PA\": \"TPA\"}, inplace=True)\n",
        "\n",
        "data_set.head()"
      ]
    },
    {
      "cell_type": "code",
      "execution_count": 6,
      "metadata": {
        "colab": {
          "base_uri": "https://localhost:8080/",
          "height": 236
        },
        "id": "COneZXIinoEG",
        "outputId": "1a2b5de3-eb50-4cbc-bf99-150535fd8453"
      },
      "outputs": [
        {
          "data": {
            "text/html": [
              "<div>\n",
              "<style scoped>\n",
              "    .dataframe tbody tr th:only-of-type {\n",
              "        vertical-align: middle;\n",
              "    }\n",
              "\n",
              "    .dataframe tbody tr th {\n",
              "        vertical-align: top;\n",
              "    }\n",
              "\n",
              "    .dataframe thead th {\n",
              "        text-align: right;\n",
              "    }\n",
              "</style>\n",
              "<table border=\"1\" class=\"dataframe\">\n",
              "  <thead>\n",
              "    <tr style=\"text-align: right;\">\n",
              "      <th></th>\n",
              "      <th>League</th>\n",
              "      <th>Season</th>\n",
              "      <th>Stage</th>\n",
              "      <th>Player</th>\n",
              "      <th>Team</th>\n",
              "      <th>GP</th>\n",
              "      <th>MIN</th>\n",
              "      <th>FGM</th>\n",
              "      <th>FGA</th>\n",
              "      <th>TPM</th>\n",
              "      <th>...</th>\n",
              "      <th>height</th>\n",
              "      <th>height_cm</th>\n",
              "      <th>weight</th>\n",
              "      <th>weight_kg</th>\n",
              "      <th>nationality</th>\n",
              "      <th>high_school</th>\n",
              "      <th>draft_round</th>\n",
              "      <th>draft_pick</th>\n",
              "      <th>draft_team</th>\n",
              "      <th>gameper_ast</th>\n",
              "    </tr>\n",
              "  </thead>\n",
              "  <tbody>\n",
              "    <tr>\n",
              "      <th>0</th>\n",
              "      <td>NBA</td>\n",
              "      <td>1999 - 2000</td>\n",
              "      <td>Regular_Season</td>\n",
              "      <td>Shaquille O'Neal</td>\n",
              "      <td>LAL</td>\n",
              "      <td>79</td>\n",
              "      <td>3163.0</td>\n",
              "      <td>956</td>\n",
              "      <td>1665</td>\n",
              "      <td>0</td>\n",
              "      <td>...</td>\n",
              "      <td>7-1</td>\n",
              "      <td>216.0</td>\n",
              "      <td>325.0</td>\n",
              "      <td>147.0</td>\n",
              "      <td>United States</td>\n",
              "      <td>Robert G. Cole High School</td>\n",
              "      <td>1.0</td>\n",
              "      <td>1.0</td>\n",
              "      <td>Orlando Magic</td>\n",
              "      <td>3.784810</td>\n",
              "    </tr>\n",
              "    <tr>\n",
              "      <th>1</th>\n",
              "      <td>NBA</td>\n",
              "      <td>1999 - 2000</td>\n",
              "      <td>Regular_Season</td>\n",
              "      <td>Vince Carter</td>\n",
              "      <td>TOR</td>\n",
              "      <td>82</td>\n",
              "      <td>3126.0</td>\n",
              "      <td>788</td>\n",
              "      <td>1696</td>\n",
              "      <td>95</td>\n",
              "      <td>...</td>\n",
              "      <td>6-6</td>\n",
              "      <td>198.0</td>\n",
              "      <td>220.0</td>\n",
              "      <td>100.0</td>\n",
              "      <td>United States</td>\n",
              "      <td>Mainland High School</td>\n",
              "      <td>1.0</td>\n",
              "      <td>5.0</td>\n",
              "      <td>Golden State Warriors</td>\n",
              "      <td>3.926829</td>\n",
              "    </tr>\n",
              "    <tr>\n",
              "      <th>2</th>\n",
              "      <td>NBA</td>\n",
              "      <td>1999 - 2000</td>\n",
              "      <td>Regular_Season</td>\n",
              "      <td>Karl Malone</td>\n",
              "      <td>UTA</td>\n",
              "      <td>82</td>\n",
              "      <td>2947.0</td>\n",
              "      <td>752</td>\n",
              "      <td>1476</td>\n",
              "      <td>2</td>\n",
              "      <td>...</td>\n",
              "      <td>6-9</td>\n",
              "      <td>206.0</td>\n",
              "      <td>265.0</td>\n",
              "      <td>120.0</td>\n",
              "      <td>United States</td>\n",
              "      <td>Summerfield High School</td>\n",
              "      <td>1.0</td>\n",
              "      <td>13.0</td>\n",
              "      <td>Utah Jazz</td>\n",
              "      <td>3.707317</td>\n",
              "    </tr>\n",
              "    <tr>\n",
              "      <th>3</th>\n",
              "      <td>NBA</td>\n",
              "      <td>1999 - 2000</td>\n",
              "      <td>Regular_Season</td>\n",
              "      <td>Allen Iverson</td>\n",
              "      <td>PHI</td>\n",
              "      <td>70</td>\n",
              "      <td>2853.0</td>\n",
              "      <td>729</td>\n",
              "      <td>1733</td>\n",
              "      <td>89</td>\n",
              "      <td>...</td>\n",
              "      <td>6-0</td>\n",
              "      <td>183.0</td>\n",
              "      <td>165.0</td>\n",
              "      <td>75.0</td>\n",
              "      <td>United States</td>\n",
              "      <td>Bethel High School</td>\n",
              "      <td>1.0</td>\n",
              "      <td>1.0</td>\n",
              "      <td>Philadelphia Sixers</td>\n",
              "      <td>4.685714</td>\n",
              "    </tr>\n",
              "    <tr>\n",
              "      <th>4</th>\n",
              "      <td>NBA</td>\n",
              "      <td>1999 - 2000</td>\n",
              "      <td>Regular_Season</td>\n",
              "      <td>Gary Payton</td>\n",
              "      <td>SEA</td>\n",
              "      <td>82</td>\n",
              "      <td>3425.0</td>\n",
              "      <td>747</td>\n",
              "      <td>1666</td>\n",
              "      <td>177</td>\n",
              "      <td>...</td>\n",
              "      <td>6-4</td>\n",
              "      <td>193.0</td>\n",
              "      <td>180.0</td>\n",
              "      <td>82.0</td>\n",
              "      <td>United States</td>\n",
              "      <td>Skyline High School</td>\n",
              "      <td>1.0</td>\n",
              "      <td>2.0</td>\n",
              "      <td>Seattle SuperSonics</td>\n",
              "      <td>8.926829</td>\n",
              "    </tr>\n",
              "  </tbody>\n",
              "</table>\n",
              "<p>5 rows × 35 columns</p>\n",
              "</div>"
            ],
            "text/plain": [
              "  League       Season           Stage            Player Team  GP     MIN  FGM  \\\n",
              "0    NBA  1999 - 2000  Regular_Season  Shaquille O'Neal  LAL  79  3163.0  956   \n",
              "1    NBA  1999 - 2000  Regular_Season      Vince Carter  TOR  82  3126.0  788   \n",
              "2    NBA  1999 - 2000  Regular_Season       Karl Malone  UTA  82  2947.0  752   \n",
              "3    NBA  1999 - 2000  Regular_Season     Allen Iverson  PHI  70  2853.0  729   \n",
              "4    NBA  1999 - 2000  Regular_Season       Gary Payton  SEA  82  3425.0  747   \n",
              "\n",
              "    FGA  TPM  ...  height  height_cm  weight  weight_kg    nationality  \\\n",
              "0  1665    0  ...     7-1      216.0   325.0      147.0  United States   \n",
              "1  1696   95  ...     6-6      198.0   220.0      100.0  United States   \n",
              "2  1476    2  ...     6-9      206.0   265.0      120.0  United States   \n",
              "3  1733   89  ...     6-0      183.0   165.0       75.0  United States   \n",
              "4  1666  177  ...     6-4      193.0   180.0       82.0  United States   \n",
              "\n",
              "                   high_school  draft_round  draft_pick  \\\n",
              "0  Robert G. Cole High School           1.0         1.0   \n",
              "1         Mainland High School          1.0         5.0   \n",
              "2      Summerfield High School          1.0        13.0   \n",
              "3          Bethel High School           1.0         1.0   \n",
              "4          Skyline High School          1.0         2.0   \n",
              "\n",
              "              draft_team  gameper_ast  \n",
              "0          Orlando Magic     3.784810  \n",
              "1  Golden State Warriors     3.926829  \n",
              "2              Utah Jazz     3.707317  \n",
              "3    Philadelphia Sixers     4.685714  \n",
              "4    Seattle SuperSonics     8.926829  \n",
              "\n",
              "[5 rows x 35 columns]"
            ]
          },
          "execution_count": 6,
          "metadata": {},
          "output_type": "execute_result"
        }
      ],
      "source": [
        "data_set['gameper_ast']=data_set['AST']/data_set['GP']\n",
        "\n",
        "data_set.head()"
      ]
    },
    {
      "cell_type": "code",
      "execution_count": 7,
      "metadata": {
        "colab": {
          "base_uri": "https://localhost:8080/"
        },
        "id": "fueKyuISxKxo",
        "outputId": "c0d90efa-c7bd-4614-b38f-945e460bb4a0"
      },
      "outputs": [
        {
          "name": "stdout",
          "output_type": "stream",
          "text": [
            "(7633, 35)\n",
            "Index(['League', 'Season', 'Stage', 'Player', 'Team', 'GP', 'MIN', 'FGM',\n",
            "       'FGA', 'TPM', 'TPA', 'FTM', 'FTA', 'TOV', 'PF', 'ORB', 'DRB', 'REB',\n",
            "       'AST', 'STL', 'BLK', 'PTS', 'birth_year', 'birth_month', 'birth_date',\n",
            "       'height', 'height_cm', 'weight', 'weight_kg', 'nationality',\n",
            "       'high_school', 'draft_round', 'draft_pick', 'draft_team',\n",
            "       'gameper_ast'],\n",
            "      dtype='object')\n"
          ]
        }
      ],
      "source": [
        "NBA = data_set[data_set['League'] == 'NBA']\n",
        "print(NBA.shape)\n",
        "print(NBA.columns)"
      ]
    },
    {
      "cell_type": "code",
      "execution_count": 8,
      "metadata": {
        "colab": {
          "base_uri": "https://localhost:8080/",
          "height": 236
        },
        "id": "9PmmXB8e4n1g",
        "outputId": "7bbfadf4-ecab-488f-a6ab-eaddbc1df308"
      },
      "outputs": [
        {
          "data": {
            "text/html": [
              "<div>\n",
              "<style scoped>\n",
              "    .dataframe tbody tr th:only-of-type {\n",
              "        vertical-align: middle;\n",
              "    }\n",
              "\n",
              "    .dataframe tbody tr th {\n",
              "        vertical-align: top;\n",
              "    }\n",
              "\n",
              "    .dataframe thead th {\n",
              "        text-align: right;\n",
              "    }\n",
              "</style>\n",
              "<table border=\"1\" class=\"dataframe\">\n",
              "  <thead>\n",
              "    <tr style=\"text-align: right;\">\n",
              "      <th></th>\n",
              "      <th>League</th>\n",
              "      <th>Season</th>\n",
              "      <th>Stage</th>\n",
              "      <th>Player</th>\n",
              "      <th>Team</th>\n",
              "      <th>GP</th>\n",
              "      <th>MIN</th>\n",
              "      <th>FGM</th>\n",
              "      <th>FGA</th>\n",
              "      <th>TPM</th>\n",
              "      <th>...</th>\n",
              "      <th>height</th>\n",
              "      <th>height_cm</th>\n",
              "      <th>weight</th>\n",
              "      <th>weight_kg</th>\n",
              "      <th>nationality</th>\n",
              "      <th>high_school</th>\n",
              "      <th>draft_round</th>\n",
              "      <th>draft_pick</th>\n",
              "      <th>draft_team</th>\n",
              "      <th>gameper_ast</th>\n",
              "    </tr>\n",
              "  </thead>\n",
              "  <tbody>\n",
              "    <tr>\n",
              "      <th>0</th>\n",
              "      <td>NBA</td>\n",
              "      <td>1999 - 2000</td>\n",
              "      <td>Regular_Season</td>\n",
              "      <td>Shaquille O'Neal</td>\n",
              "      <td>LAL</td>\n",
              "      <td>79</td>\n",
              "      <td>3163.0</td>\n",
              "      <td>956</td>\n",
              "      <td>1665</td>\n",
              "      <td>0</td>\n",
              "      <td>...</td>\n",
              "      <td>7-1</td>\n",
              "      <td>216.0</td>\n",
              "      <td>325.0</td>\n",
              "      <td>147.0</td>\n",
              "      <td>United States</td>\n",
              "      <td>Robert G. Cole High School</td>\n",
              "      <td>1.0</td>\n",
              "      <td>1.0</td>\n",
              "      <td>Orlando Magic</td>\n",
              "      <td>3.784810</td>\n",
              "    </tr>\n",
              "    <tr>\n",
              "      <th>1</th>\n",
              "      <td>NBA</td>\n",
              "      <td>1999 - 2000</td>\n",
              "      <td>Regular_Season</td>\n",
              "      <td>Vince Carter</td>\n",
              "      <td>TOR</td>\n",
              "      <td>82</td>\n",
              "      <td>3126.0</td>\n",
              "      <td>788</td>\n",
              "      <td>1696</td>\n",
              "      <td>95</td>\n",
              "      <td>...</td>\n",
              "      <td>6-6</td>\n",
              "      <td>198.0</td>\n",
              "      <td>220.0</td>\n",
              "      <td>100.0</td>\n",
              "      <td>United States</td>\n",
              "      <td>Mainland High School</td>\n",
              "      <td>1.0</td>\n",
              "      <td>5.0</td>\n",
              "      <td>Golden State Warriors</td>\n",
              "      <td>3.926829</td>\n",
              "    </tr>\n",
              "    <tr>\n",
              "      <th>2</th>\n",
              "      <td>NBA</td>\n",
              "      <td>1999 - 2000</td>\n",
              "      <td>Regular_Season</td>\n",
              "      <td>Karl Malone</td>\n",
              "      <td>UTA</td>\n",
              "      <td>82</td>\n",
              "      <td>2947.0</td>\n",
              "      <td>752</td>\n",
              "      <td>1476</td>\n",
              "      <td>2</td>\n",
              "      <td>...</td>\n",
              "      <td>6-9</td>\n",
              "      <td>206.0</td>\n",
              "      <td>265.0</td>\n",
              "      <td>120.0</td>\n",
              "      <td>United States</td>\n",
              "      <td>Summerfield High School</td>\n",
              "      <td>1.0</td>\n",
              "      <td>13.0</td>\n",
              "      <td>Utah Jazz</td>\n",
              "      <td>3.707317</td>\n",
              "    </tr>\n",
              "    <tr>\n",
              "      <th>3</th>\n",
              "      <td>NBA</td>\n",
              "      <td>1999 - 2000</td>\n",
              "      <td>Regular_Season</td>\n",
              "      <td>Allen Iverson</td>\n",
              "      <td>PHI</td>\n",
              "      <td>70</td>\n",
              "      <td>2853.0</td>\n",
              "      <td>729</td>\n",
              "      <td>1733</td>\n",
              "      <td>89</td>\n",
              "      <td>...</td>\n",
              "      <td>6-0</td>\n",
              "      <td>183.0</td>\n",
              "      <td>165.0</td>\n",
              "      <td>75.0</td>\n",
              "      <td>United States</td>\n",
              "      <td>Bethel High School</td>\n",
              "      <td>1.0</td>\n",
              "      <td>1.0</td>\n",
              "      <td>Philadelphia Sixers</td>\n",
              "      <td>4.685714</td>\n",
              "    </tr>\n",
              "    <tr>\n",
              "      <th>4</th>\n",
              "      <td>NBA</td>\n",
              "      <td>1999 - 2000</td>\n",
              "      <td>Regular_Season</td>\n",
              "      <td>Gary Payton</td>\n",
              "      <td>SEA</td>\n",
              "      <td>82</td>\n",
              "      <td>3425.0</td>\n",
              "      <td>747</td>\n",
              "      <td>1666</td>\n",
              "      <td>177</td>\n",
              "      <td>...</td>\n",
              "      <td>6-4</td>\n",
              "      <td>193.0</td>\n",
              "      <td>180.0</td>\n",
              "      <td>82.0</td>\n",
              "      <td>United States</td>\n",
              "      <td>Skyline High School</td>\n",
              "      <td>1.0</td>\n",
              "      <td>2.0</td>\n",
              "      <td>Seattle SuperSonics</td>\n",
              "      <td>8.926829</td>\n",
              "    </tr>\n",
              "  </tbody>\n",
              "</table>\n",
              "<p>5 rows × 35 columns</p>\n",
              "</div>"
            ],
            "text/plain": [
              "  League       Season           Stage            Player Team  GP     MIN  FGM  \\\n",
              "0    NBA  1999 - 2000  Regular_Season  Shaquille O'Neal  LAL  79  3163.0  956   \n",
              "1    NBA  1999 - 2000  Regular_Season      Vince Carter  TOR  82  3126.0  788   \n",
              "2    NBA  1999 - 2000  Regular_Season       Karl Malone  UTA  82  2947.0  752   \n",
              "3    NBA  1999 - 2000  Regular_Season     Allen Iverson  PHI  70  2853.0  729   \n",
              "4    NBA  1999 - 2000  Regular_Season       Gary Payton  SEA  82  3425.0  747   \n",
              "\n",
              "    FGA  TPM  ...  height  height_cm  weight  weight_kg    nationality  \\\n",
              "0  1665    0  ...     7-1      216.0   325.0      147.0  United States   \n",
              "1  1696   95  ...     6-6      198.0   220.0      100.0  United States   \n",
              "2  1476    2  ...     6-9      206.0   265.0      120.0  United States   \n",
              "3  1733   89  ...     6-0      183.0   165.0       75.0  United States   \n",
              "4  1666  177  ...     6-4      193.0   180.0       82.0  United States   \n",
              "\n",
              "                   high_school  draft_round  draft_pick  \\\n",
              "0  Robert G. Cole High School           1.0         1.0   \n",
              "1         Mainland High School          1.0         5.0   \n",
              "2      Summerfield High School          1.0        13.0   \n",
              "3          Bethel High School           1.0         1.0   \n",
              "4          Skyline High School          1.0         2.0   \n",
              "\n",
              "              draft_team  gameper_ast  \n",
              "0          Orlando Magic     3.784810  \n",
              "1  Golden State Warriors     3.926829  \n",
              "2              Utah Jazz     3.707317  \n",
              "3    Philadelphia Sixers     4.685714  \n",
              "4    Seattle SuperSonics     8.926829  \n",
              "\n",
              "[5 rows x 35 columns]"
            ]
          },
          "execution_count": 8,
          "metadata": {},
          "output_type": "execute_result"
        }
      ],
      "source": [
        "NBA.head()"
      ]
    },
    {
      "cell_type": "code",
      "execution_count": 9,
      "metadata": {
        "colab": {
          "base_uri": "https://localhost:8080/"
        },
        "id": "VfQnA4Pt5HbU",
        "outputId": "33eee55a-30c3-4c33-fe9a-1d6678554f0a"
      },
      "outputs": [
        {
          "name": "stdout",
          "output_type": "stream",
          "text": [
            "League           0\n",
            "Season           0\n",
            "Stage            0\n",
            "Player           0\n",
            "Team             0\n",
            "GP               0\n",
            "MIN              0\n",
            "FGM              0\n",
            "FGA              0\n",
            "TPM              0\n",
            "TPA              0\n",
            "FTM              0\n",
            "FTA              0\n",
            "TOV              0\n",
            "PF               0\n",
            "ORB              0\n",
            "DRB              0\n",
            "REB              0\n",
            "AST              0\n",
            "STL              0\n",
            "BLK              0\n",
            "PTS              0\n",
            "birth_year       0\n",
            "birth_month      0\n",
            "birth_date       0\n",
            "height           0\n",
            "height_cm        0\n",
            "weight           0\n",
            "weight_kg        0\n",
            "nationality      0\n",
            "high_school    847\n",
            "draft_round    752\n",
            "draft_pick     752\n",
            "draft_team     752\n",
            "gameper_ast      0\n",
            "dtype: int64\n"
          ]
        }
      ],
      "source": [
        "print(pd.isnull(NBA).sum())"
      ]
    },
    {
      "cell_type": "code",
      "execution_count": 10,
      "metadata": {
        "colab": {
          "base_uri": "https://localhost:8080/"
        },
        "id": "3zoEMu0Ffl2R",
        "outputId": "b1775484-5667-4ce9-d460-d8a772ccc3c5"
      },
      "outputs": [
        {
          "name": "stdout",
          "output_type": "stream",
          "text": [
            "(364, 35)\n",
            "(217, 35)\n",
            "(147, 35)\n"
          ]
        }
      ],
      "source": [
        "NBA03 = NBA[NBA['Season'] == '2002 - 2003']\n",
        "NBA03_S = NBA03[NBA03['Stage'] == 'Regular_Season']\n",
        "NBA03_PO = NBA03[NBA03['Stage'] == 'Playoffs']\n",
        "\n",
        "print(NBA03.shape)\n",
        "print(NBA03_S.shape)\n",
        "print(NBA03_PO.shape)"
      ]
    },
    {
      "cell_type": "markdown",
      "metadata": {
        "id": "iTEdKb_-KP4h"
      },
      "source": [
        "# **Inicio de Analisis**\n",
        "Comenzaremos el proyecto por la visualización de las nacionalidades en la liga NBA"
      ]
    },
    {
      "cell_type": "code",
      "execution_count": 11,
      "metadata": {
        "colab": {
          "base_uri": "https://localhost:8080/",
          "height": 363
        },
        "id": "C5LZ9GOVfyq6",
        "outputId": "8ba9a2d4-054d-4d2b-b3ea-a62f7717679d"
      },
      "outputs": [
        {
          "data": {
            "text/html": [
              "<div>\n",
              "<style scoped>\n",
              "    .dataframe tbody tr th:only-of-type {\n",
              "        vertical-align: middle;\n",
              "    }\n",
              "\n",
              "    .dataframe tbody tr th {\n",
              "        vertical-align: top;\n",
              "    }\n",
              "\n",
              "    .dataframe thead th {\n",
              "        text-align: right;\n",
              "    }\n",
              "</style>\n",
              "<table border=\"1\" class=\"dataframe\">\n",
              "  <thead>\n",
              "    <tr style=\"text-align: right;\">\n",
              "      <th></th>\n",
              "      <th>nationality</th>\n",
              "      <th>League</th>\n",
              "    </tr>\n",
              "  </thead>\n",
              "  <tbody>\n",
              "    <tr>\n",
              "      <th>74</th>\n",
              "      <td>United States</td>\n",
              "      <td>6076</td>\n",
              "    </tr>\n",
              "    <tr>\n",
              "      <th>26</th>\n",
              "      <td>France</td>\n",
              "      <td>132</td>\n",
              "    </tr>\n",
              "    <tr>\n",
              "      <th>11</th>\n",
              "      <td>Canada</td>\n",
              "      <td>95</td>\n",
              "    </tr>\n",
              "    <tr>\n",
              "      <th>65</th>\n",
              "      <td>Spain</td>\n",
              "      <td>79</td>\n",
              "    </tr>\n",
              "    <tr>\n",
              "      <th>1</th>\n",
              "      <td>Argentina</td>\n",
              "      <td>63</td>\n",
              "    </tr>\n",
              "    <tr>\n",
              "      <th>63</th>\n",
              "      <td>Slovenia</td>\n",
              "      <td>61</td>\n",
              "    </tr>\n",
              "    <tr>\n",
              "      <th>9</th>\n",
              "      <td>Brazil</td>\n",
              "      <td>60</td>\n",
              "    </tr>\n",
              "    <tr>\n",
              "      <th>61</th>\n",
              "      <td>Serbia</td>\n",
              "      <td>58</td>\n",
              "    </tr>\n",
              "    <tr>\n",
              "      <th>72</th>\n",
              "      <td>Turkey</td>\n",
              "      <td>57</td>\n",
              "    </tr>\n",
              "    <tr>\n",
              "      <th>3</th>\n",
              "      <td>Australia</td>\n",
              "      <td>54</td>\n",
              "    </tr>\n",
              "  </tbody>\n",
              "</table>\n",
              "</div>"
            ],
            "text/plain": [
              "      nationality  League\n",
              "74  United States    6076\n",
              "26         France     132\n",
              "11         Canada      95\n",
              "65          Spain      79\n",
              "1       Argentina      63\n",
              "63       Slovenia      61\n",
              "9          Brazil      60\n",
              "61         Serbia      58\n",
              "72         Turkey      57\n",
              "3       Australia      54"
            ]
          },
          "execution_count": 11,
          "metadata": {},
          "output_type": "execute_result"
        }
      ],
      "source": [
        "NBA.groupby('nationality').count().reset_index().iloc[:,:2].sort_values('League', ascending=False).head(10)"
      ]
    },
    {
      "cell_type": "markdown",
      "metadata": {
        "id": "ISEzR0ZKhGpZ"
      },
      "source": [
        "Como es evidente que hay una mayoría de jugadores Estadounidenses, aparatamos a USA y graficamos las nacionalidades por jugador en la NBA"
      ]
    },
    {
      "cell_type": "code",
      "execution_count": 12,
      "metadata": {
        "colab": {
          "base_uri": "https://localhost:8080/",
          "height": 482
        },
        "id": "giCRdi5ff5Cy",
        "outputId": "ec86c86f-7425-4fcc-82ac-2f995f3eab8e"
      },
      "outputs": [
        {
          "name": "stderr",
          "output_type": "stream",
          "text": [
            "c:\\Users\\Santi\\anaconda3\\lib\\site-packages\\seaborn\\_decorators.py:36: FutureWarning: Pass the following variable as a keyword arg: x. From version 0.12, the only valid positional argument will be `data`, and passing other arguments without an explicit keyword will result in an error or misinterpretation.\n",
            "  warnings.warn(\n"
          ]
        },
        {
          "data": {
            "image/png": "[encoded data removed]",
            "text/plain": [
              "<Figure size 1080x432 with 1 Axes>"
            ]
          },
          "metadata": {
            "needs_background": "light"
          },
          "output_type": "display_data"
        }
      ],
      "source": [
        "# Sin USA\n",
        "plt.figure(figsize=(15, 6))\n",
        "sns.countplot(NBA[NBA['nationality'] != 'United States'].nationality, order = NBA[NBA['nationality'] != 'United States']['nationality'].value_counts().iloc[:10].index)\n",
        "l=plt.xticks(rotation=90)"
      ]
    },
    {
      "cell_type": "markdown",
      "metadata": {
        "id": "fZOZfKdTh0rt"
      },
      "source": [
        "Ahora observamos las nacionalidades por jugador en la temporada y playoffs del año 2002-03"
      ]
    },
    {
      "cell_type": "code",
      "execution_count": 13,
      "metadata": {
        "colab": {
          "base_uri": "https://localhost:8080/",
          "height": 556
        },
        "id": "2ON6tUpYgIU6",
        "outputId": "76c78d3a-453e-4d17-b1d8-9b9bb45f8433"
      },
      "outputs": [
        {
          "name": "stderr",
          "output_type": "stream",
          "text": [
            "c:\\Users\\Santi\\anaconda3\\lib\\site-packages\\seaborn\\_decorators.py:36: FutureWarning: Pass the following variable as a keyword arg: x. From version 0.12, the only valid positional argument will be `data`, and passing other arguments without an explicit keyword will result in an error or misinterpretation.\n",
            "  warnings.warn(\n"
          ]
        },
        {
          "data": {
            "image/png": "[encoded data removed]",
            "text/plain": [
              "<Figure size 1080x432 with 1 Axes>"
            ]
          },
          "metadata": {
            "needs_background": "light"
          },
          "output_type": "display_data"
        }
      ],
      "source": [
        "# Sin USA\n",
        "plt.figure(figsize=(15, 6))\n",
        "sns.countplot(NBA[(NBA['nationality'] != 'United States') & (NBA['Season'] == '2002 - 2003')].nationality, order = NBA[(NBA['nationality'] != 'United States') & (NBA['Season'] == '2002 - 2003')]['nationality'].value_counts().iloc[:10].index)\n",
        "l=plt.xticks(rotation=90)"
      ]
    },
    {
      "cell_type": "markdown",
      "metadata": {
        "id": "tMzuLAvMnNda"
      },
      "source": [
        "A continuación veremos que jugadores fueron los que mayor partidos jugaron en la temporada 2002-03. Y luego los jugadores que menor cantidad de presencias tuvieron."
      ]
    },
    {
      "cell_type": "code",
      "execution_count": 14,
      "metadata": {
        "colab": {
          "base_uri": "https://localhost:8080/",
          "height": 542
        },
        "id": "kB5i23YAlZri",
        "outputId": "638f2420-fb9b-4d7d-b346-5379e9713084"
      },
      "outputs": [
        {
          "data": {
            "application/vnd.plotly.v1+json": {
              "config": {
                "plotlyServerURL": "https://plot.ly"
              },
              "data": [
                {
                  "type": "funnel",
                  "x": [
                    82,
                    82,
                    82,
                    82,
                    82,
                    82,
                    82,
                    82,
                    82
                  ],
                  "y": [
                    "Alan Henderson",
                    "Jason Richardson",
                    "Tony Parker",
                    "Michael Redd",
                    "Kevin Ollie",
                    "Morris Peterson",
                    "Amar'e Stoudemire",
                    "Walter McCarty",
                    "Kobe Bryant"
                  ]
                }
              ],
              "layout": {
                "template": {
                  "data": {
                    "bar": [
                      {
                        "error_x": {
                          "color": "#2a3f5f"
                        },
                        "error_y": {
                          "color": "#2a3f5f"
                        },
                        "marker": {
                          "line": {
                            "color": "#E5ECF6",
                            "width": 0.5
                          },
                          "pattern": {
                            "fillmode": "overlay",
                            "size": 10,
                            "solidity": 0.2
                          }
                        },
                        "type": "bar"
                      }
                    ],
                    "barpolar": [
                      {
                        "marker": {
                          "line": {
                            "color": "#E5ECF6",
                            "width": 0.5
                          },
                          "pattern": {
                            "fillmode": "overlay",
                            "size": 10,
                            "solidity": 0.2
                          }
                        },
                        "type": "barpolar"
                      }
                    ],
                    "carpet": [
                      {
                        "aaxis": {
                          "endlinecolor": "#2a3f5f",
                          "gridcolor": "white",
                          "linecolor": "white",
                          "minorgridcolor": "white",
                          "startlinecolor": "#2a3f5f"
                        },
                        "baxis": {
                          "endlinecolor": "#2a3f5f",
                          "gridcolor": "white",
                          "linecolor": "white",
                          "minorgridcolor": "white",
                          "startlinecolor": "#2a3f5f"
                        },
                        "type": "carpet"
                      }
                    ],
                    "choropleth": [
                      {
                        "colorbar": {
                          "outlinewidth": 0,
                          "ticks": ""
                        },
                        "type": "choropleth"
                      }
                    ],
                    "contour": [
                      {
                        "colorbar": {
                          "outlinewidth": 0,
                          "ticks": ""
                        },
                        "colorscale": [
                          [
                            0,
                            "#0d0887"
                          ],
                          [
                            0.1111111111111111,
                            "#46039f"
                          ],
                          [
                            0.2222222222222222,
                            "#7201a8"
                          ],
                          [
                            0.3333333333333333,
                            "#9c179e"
                          ],
                          [
                            0.4444444444444444,
                            "#bd3786"
                          ],
                          [
                            0.5555555555555556,
                            "#d8576b"
                          ],
                          [
                            0.6666666666666666,
                            "#ed7953"
                          ],
                          [
                            0.7777777777777778,
                            "#fb9f3a"
                          ],
                          [
                            0.8888888888888888,
                            "#fdca26"
                          ],
                          [
                            1,
                            "#f0f921"
                          ]
                        ],
                        "type": "contour"
                      }
                    ],
                    "contourcarpet": [
                      {
                        "colorbar": {
                          "outlinewidth": 0,
                          "ticks": ""
                        },
                        "type": "contourcarpet"
                      }
                    ],
                    "heatmap": [
                      {
                        "colorbar": {
                          "outlinewidth": 0,
                          "ticks": ""
                        },
                        "colorscale": [
                          [
                            0,
                            "#0d0887"
                          ],
                          [
                            0.1111111111111111,
                            "#46039f"
                          ],
                          [
                            0.2222222222222222,
                            "#7201a8"
                          ],
                          [
                            0.3333333333333333,
                            "#9c179e"
                          ],
                          [
                            0.4444444444444444,
                            "#bd3786"
                          ],
                          [
                            0.5555555555555556,
                            "#d8576b"
                          ],
                          [
                            0.6666666666666666,
                            "#ed7953"
                          ],
                          [
                            0.7777777777777778,
                            "#fb9f3a"
                          ],
                          [
                            0.8888888888888888,
                            "#fdca26"
                          ],
                          [
                            1,
                            "#f0f921"
                          ]
                        ],
                        "type": "heatmap"
                      }
                    ],
                    "heatmapgl": [
                      {
                        "colorbar": {
                          "outlinewidth": 0,
                          "ticks": ""
                        },
                        "colorscale": [
                          [
                            0,
                            "#0d0887"
                          ],
                          [
                            0.1111111111111111,
                            "#46039f"
                          ],
                          [
                            0.2222222222222222,
                            "#7201a8"
                          ],
                          [
                            0.3333333333333333,
                            "#9c179e"
                          ],
                          [
                            0.4444444444444444,
                            "#bd3786"
                          ],
                          [
                            0.5555555555555556,
                            "#d8576b"
                          ],
                          [
                            0.6666666666666666,
                            "#ed7953"
                          ],
                          [
                            0.7777777777777778,
                            "#fb9f3a"
                          ],
                          [
                            0.8888888888888888,
                            "#fdca26"
                          ],
                          [
                            1,
                            "#f0f921"
                          ]
                        ],
                        "type": "heatmapgl"
                      }
                    ],
                    "histogram": [
                      {
                        "marker": {
                          "pattern": {
                            "fillmode": "overlay",
                            "size": 10,
                            "solidity": 0.2
                          }
                        },
                        "type": "histogram"
                      }
                    ],
                    "histogram2d": [
                      {
                        "colorbar": {
                          "outlinewidth": 0,
                          "ticks": ""
                        },
                        "colorscale": [
                          [
                            0,
                            "#0d0887"
                          ],
                          [
                            0.1111111111111111,
                            "#46039f"
                          ],
                          [
                            0.2222222222222222,
                            "#7201a8"
                          ],
                          [
                            0.3333333333333333,
                            "#9c179e"
                          ],
                          [
                            0.4444444444444444,
                            "#bd3786"
                          ],
                          [
                            0.5555555555555556,
                            "#d8576b"
                          ],
                          [
                            0.6666666666666666,
                            "#ed7953"
                          ],
                          [
                            0.7777777777777778,
                            "#fb9f3a"
                          ],
                          [
                            0.8888888888888888,
                            "#fdca26"
                          ],
                          [
                            1,
                            "#f0f921"
                          ]
                        ],
                        "type": "histogram2d"
                      }
                    ],
                    "histogram2dcontour": [
                      {
                        "colorbar": {
                          "outlinewidth": 0,
                          "ticks": ""
                        },
                        "colorscale": [
                          [
                            0,
                            "#0d0887"
                          ],
                          [
                            0.1111111111111111,
                            "#46039f"
                          ],
                          [
                            0.2222222222222222,
                            "#7201a8"
                          ],
                          [
                            0.3333333333333333,
                            "#9c179e"
                          ],
                          [
                            0.4444444444444444,
                            "#bd3786"
                          ],
                          [
                            0.5555555555555556,
                            "#d8576b"
                          ],
                          [
                            0.6666666666666666,
                            "#ed7953"
                          ],
                          [
                            0.7777777777777778,
                            "#fb9f3a"
                          ],
                          [
                            0.8888888888888888,
                            "#fdca26"
                          ],
                          [
                            1,
                            "#f0f921"
                          ]
                        ],
                        "type": "histogram2dcontour"
                      }
                    ],
                    "mesh3d": [
                      {
                        "colorbar": {
                          "outlinewidth": 0,
                          "ticks": ""
                        },
                        "type": "mesh3d"
                      }
                    ],
                    "parcoords": [
                      {
                        "line": {
                          "colorbar": {
                            "outlinewidth": 0,
                            "ticks": ""
                          }
                        },
                        "type": "parcoords"
                      }
                    ],
                    "pie": [
                      {
                        "automargin": true,
                        "type": "pie"
                      }
                    ],
                    "scatter": [
                      {
                        "fillpattern": {
                          "fillmode": "overlay",
                          "size": 10,
                          "solidity": 0.2
                        },
                        "type": "scatter"
                      }
                    ],
                    "scatter3d": [
                      {
                        "line": {
                          "colorbar": {
                            "outlinewidth": 0,
                            "ticks": ""
                          }
                        },
                        "marker": {
                          "colorbar": {
                            "outlinewidth": 0,
                            "ticks": ""
                          }
                        },
                        "type": "scatter3d"
                      }
                    ],
                    "scattercarpet": [
                      {
                        "marker": {
                          "colorbar": {
                            "outlinewidth": 0,
                            "ticks": ""
                          }
                        },
                        "type": "scattercarpet"
                      }
                    ],
                    "scattergeo": [
                      {
                        "marker": {
                          "colorbar": {
                            "outlinewidth": 0,
                            "ticks": ""
                          }
                        },
                        "type": "scattergeo"
                      }
                    ],
                    "scattergl": [
                      {
                        "marker": {
                          "colorbar": {
                            "outlinewidth": 0,
                            "ticks": ""
                          }
                        },
                        "type": "scattergl"
                      }
                    ],
                    "scattermapbox": [
                      {
                        "marker": {
                          "colorbar": {
                            "outlinewidth": 0,
                            "ticks": ""
                          }
                        },
                        "type": "scattermapbox"
                      }
                    ],
                    "scatterpolar": [
                      {
                        "marker": {
                          "colorbar": {
                            "outlinewidth": 0,
                            "ticks": ""
                          }
                        },
                        "type": "scatterpolar"
                      }
                    ],
                    "scatterpolargl": [
                      {
                        "marker": {
                          "colorbar": {
                            "outlinewidth": 0,
                            "ticks": ""
                          }
                        },
                        "type": "scatterpolargl"
                      }
                    ],
                    "scatterternary": [
                      {
                        "marker": {
                          "colorbar": {
                            "outlinewidth": 0,
                            "ticks": ""
                          }
                        },
                        "type": "scatterternary"
                      }
                    ],
                    "surface": [
                      {
                        "colorbar": {
                          "outlinewidth": 0,
                          "ticks": ""
                        },
                        "colorscale": [
                          [
                            0,
                            "#0d0887"
                          ],
                          [
                            0.1111111111111111,
                            "#46039f"
                          ],
                          [
                            0.2222222222222222,
                            "#7201a8"
                          ],
                          [
                            0.3333333333333333,
                            "#9c179e"
                          ],
                          [
                            0.4444444444444444,
                            "#bd3786"
                          ],
                          [
                            0.5555555555555556,
                            "#d8576b"
                          ],
                          [
                            0.6666666666666666,
                            "#ed7953"
                          ],
                          [
                            0.7777777777777778,
                            "#fb9f3a"
                          ],
                          [
                            0.8888888888888888,
                            "#fdca26"
                          ],
                          [
                            1,
                            "#f0f921"
                          ]
                        ],
                        "type": "surface"
                      }
                    ],
                    "table": [
                      {
                        "cells": {
                          "fill": {
                            "color": "#EBF0F8"
                          },
                          "line": {
                            "color": "white"
                          }
                        },
                        "header": {
                          "fill": {
                            "color": "#C8D4E3"
                          },
                          "line": {
                            "color": "white"
                          }
                        },
                        "type": "table"
                      }
                    ]
                  },
                  "layout": {
                    "annotationdefaults": {
                      "arrowcolor": "#2a3f5f",
                      "arrowhead": 0,
                      "arrowwidth": 1
                    },
                    "autotypenumbers": "strict",
                    "coloraxis": {
                      "colorbar": {
                        "outlinewidth": 0,
                        "ticks": ""
                      }
                    },
                    "colorscale": {
                      "diverging": [
                        [
                          0,
                          "#8e0152"
                        ],
                        [
                          0.1,
                          "#c51b7d"
                        ],
                        [
                          0.2,
                          "#de77ae"
                        ],
                        [
                          0.3,
                          "#f1b6da"
                        ],
                        [
                          0.4,
                          "#fde0ef"
                        ],
                        [
                          0.5,
                          "#f7f7f7"
                        ],
                        [
                          0.6,
                          "#e6f5d0"
                        ],
                        [
                          0.7,
                          "#b8e186"
                        ],
                        [
                          0.8,
                          "#7fbc41"
                        ],
                        [
                          0.9,
                          "#4d9221"
                        ],
                        [
                          1,
                          "#276419"
                        ]
                      ],
                      "sequential": [
                        [
                          0,
                          "#0d0887"
                        ],
                        [
                          0.1111111111111111,
                          "#46039f"
                        ],
                        [
                          0.2222222222222222,
                          "#7201a8"
                        ],
                        [
                          0.3333333333333333,
                          "#9c179e"
                        ],
                        [
                          0.4444444444444444,
                          "#bd3786"
                        ],
                        [
                          0.5555555555555556,
                          "#d8576b"
                        ],
                        [
                          0.6666666666666666,
                          "#ed7953"
                        ],
                        [
                          0.7777777777777778,
                          "#fb9f3a"
                        ],
                        [
                          0.8888888888888888,
                          "#fdca26"
                        ],
                        [
                          1,
                          "#f0f921"
                        ]
                      ],
                      "sequentialminus": [
                        [
                          0,
                          "#0d0887"
                        ],
                        [
                          0.1111111111111111,
                          "#46039f"
                        ],
                        [
                          0.2222222222222222,
                          "#7201a8"
                        ],
                        [
                          0.3333333333333333,
                          "#9c179e"
                        ],
                        [
                          0.4444444444444444,
                          "#bd3786"
                        ],
                        [
                          0.5555555555555556,
                          "#d8576b"
                        ],
                        [
                          0.6666666666666666,
                          "#ed7953"
                        ],
                        [
                          0.7777777777777778,
                          "#fb9f3a"
                        ],
                        [
                          0.8888888888888888,
                          "#fdca26"
                        ],
                        [
                          1,
                          "#f0f921"
                        ]
                      ]
                    },
                    "colorway": [
                      "#636efa",
                      "#EF553B",
                      "#00cc96",
                      "#ab63fa",
                      "#FFA15A",
                      "#19d3f3",
                      "#FF6692",
                      "#B6E880",
                      "#FF97FF",
                      "#FECB52"
                    ],
                    "font": {
                      "color": "#2a3f5f"
                    },
                    "geo": {
                      "bgcolor": "white",
                      "lakecolor": "white",
                      "landcolor": "#E5ECF6",
                      "showlakes": true,
                      "showland": true,
                      "subunitcolor": "white"
                    },
                    "hoverlabel": {
                      "align": "left"
                    },
                    "hovermode": "closest",
                    "mapbox": {
                      "style": "light"
                    },
                    "paper_bgcolor": "white",
                    "plot_bgcolor": "#E5ECF6",
                    "polar": {
                      "angularaxis": {
                        "gridcolor": "white",
                        "linecolor": "white",
                        "ticks": ""
                      },
                      "bgcolor": "#E5ECF6",
                      "radialaxis": {
                        "gridcolor": "white",
                        "linecolor": "white",
                        "ticks": ""
                      }
                    },
                    "scene": {
                      "xaxis": {
                        "backgroundcolor": "#E5ECF6",
                        "gridcolor": "white",
                        "gridwidth": 2,
                        "linecolor": "white",
                        "showbackground": true,
                        "ticks": "",
                        "zerolinecolor": "white"
                      },
                      "yaxis": {
                        "backgroundcolor": "#E5ECF6",
                        "gridcolor": "white",
                        "gridwidth": 2,
                        "linecolor": "white",
                        "showbackground": true,
                        "ticks": "",
                        "zerolinecolor": "white"
                      },
                      "zaxis": {
                        "backgroundcolor": "#E5ECF6",
                        "gridcolor": "white",
                        "gridwidth": 2,
                        "linecolor": "white",
                        "showbackground": true,
                        "ticks": "",
                        "zerolinecolor": "white"
                      }
                    },
                    "shapedefaults": {
                      "line": {
                        "color": "#2a3f5f"
                      }
                    },
                    "ternary": {
                      "aaxis": {
                        "gridcolor": "white",
                        "linecolor": "white",
                        "ticks": ""
                      },
                      "baxis": {
                        "gridcolor": "white",
                        "linecolor": "white",
                        "ticks": ""
                      },
                      "bgcolor": "#E5ECF6",
                      "caxis": {
                        "gridcolor": "white",
                        "linecolor": "white",
                        "ticks": ""
                      }
                    },
                    "title": {
                      "x": 0.05
                    },
                    "xaxis": {
                      "automargin": true,
                      "gridcolor": "white",
                      "linecolor": "white",
                      "ticks": "",
                      "title": {
                        "standoff": 15
                      },
                      "zerolinecolor": "white",
                      "zerolinewidth": 2
                    },
                    "yaxis": {
                      "automargin": true,
                      "gridcolor": "white",
                      "linecolor": "white",
                      "ticks": "",
                      "title": {
                        "standoff": 15
                      },
                      "zerolinecolor": "white",
                      "zerolinewidth": 2
                    }
                  }
                },
                "title": {
                  "text": "Top 10 Jugadores con GP en la temporada 2002-03",
                  "x": 0.5
                }
              }
            }
          },
          "metadata": {},
          "output_type": "display_data"
        }
      ],
      "source": [
        "# Mayor cantidades de PJ en 2002-03\n",
        "maxgameS = NBA03_S.sort_values('GP',ascending=True)\n",
        "\n",
        "maxgameS = maxgameS[207:216]\n",
        "\n",
        "fig = go.Figure(go.Funnel(\n",
        "    y =  list(maxgameS['Player']),\n",
        "    x = list(maxgameS['GP']))) \n",
        "fig.update_layout(title = \"Top 10 Jugadores con GP en la temporada 2002-03\",title_x=0.5)\n",
        "fig.show()"
      ]
    },
    {
      "cell_type": "code",
      "execution_count": 15,
      "metadata": {
        "colab": {
          "base_uri": "https://localhost:8080/",
          "height": 542
        },
        "id": "YPQud1NKnpu2",
        "outputId": "0d7b2120-c0e6-4259-e32b-4d7eb509dca3"
      },
      "outputs": [
        {
          "data": {
            "application/vnd.plotly.v1+json": {
              "config": {
                "plotlyServerURL": "https://plot.ly"
              },
              "data": [
                {
                  "type": "funnel",
                  "x": [
                    59,
                    63,
                    64,
                    64,
                    64,
                    64,
                    65,
                    65,
                    65,
                    65
                  ],
                  "y": [
                    "Bobby Jackson",
                    "Jim Jackson",
                    "John Salmons",
                    "Derrick Coleman",
                    "David Robinson",
                    "J.R. Bremer",
                    "Kerry Kittles",
                    "Anthony Mason",
                    "Chucky Atkins",
                    "Danny Ferry"
                  ]
                }
              ],
              "layout": {
                "template": {
                  "data": {
                    "bar": [
                      {
                        "error_x": {
                          "color": "#2a3f5f"
                        },
                        "error_y": {
                          "color": "#2a3f5f"
                        },
                        "marker": {
                          "line": {
                            "color": "#E5ECF6",
                            "width": 0.5
                          },
                          "pattern": {
                            "fillmode": "overlay",
                            "size": 10,
                            "solidity": 0.2
                          }
                        },
                        "type": "bar"
                      }
                    ],
                    "barpolar": [
                      {
                        "marker": {
                          "line": {
                            "color": "#E5ECF6",
                            "width": 0.5
                          },
                          "pattern": {
                            "fillmode": "overlay",
                            "size": 10,
                            "solidity": 0.2
                          }
                        },
                        "type": "barpolar"
                      }
                    ],
                    "carpet": [
                      {
                        "aaxis": {
                          "endlinecolor": "#2a3f5f",
                          "gridcolor": "white",
                          "linecolor": "white",
                          "minorgridcolor": "white",
                          "startlinecolor": "#2a3f5f"
                        },
                        "baxis": {
                          "endlinecolor": "#2a3f5f",
                          "gridcolor": "white",
                          "linecolor": "white",
                          "minorgridcolor": "white",
                          "startlinecolor": "#2a3f5f"
                        },
                        "type": "carpet"
                      }
                    ],
                    "choropleth": [
                      {
                        "colorbar": {
                          "outlinewidth": 0,
                          "ticks": ""
                        },
                        "type": "choropleth"
                      }
                    ],
                    "contour": [
                      {
                        "colorbar": {
                          "outlinewidth": 0,
                          "ticks": ""
                        },
                        "colorscale": [
                          [
                            0,
                            "#0d0887"
                          ],
                          [
                            0.1111111111111111,
                            "#46039f"
                          ],
                          [
                            0.2222222222222222,
                            "#7201a8"
                          ],
                          [
                            0.3333333333333333,
                            "#9c179e"
                          ],
                          [
                            0.4444444444444444,
                            "#bd3786"
                          ],
                          [
                            0.5555555555555556,
                            "#d8576b"
                          ],
                          [
                            0.6666666666666666,
                            "#ed7953"
                          ],
                          [
                            0.7777777777777778,
                            "#fb9f3a"
                          ],
                          [
                            0.8888888888888888,
                            "#fdca26"
                          ],
                          [
                            1,
                            "#f0f921"
                          ]
                        ],
                        "type": "contour"
                      }
                    ],
                    "contourcarpet": [
                      {
                        "colorbar": {
                          "outlinewidth": 0,
                          "ticks": ""
                        },
                        "type": "contourcarpet"
                      }
                    ],
                    "heatmap": [
                      {
                        "colorbar": {
                          "outlinewidth": 0,
                          "ticks": ""
                        },
                        "colorscale": [
                          [
                            0,
                            "#0d0887"
                          ],
                          [
                            0.1111111111111111,
                            "#46039f"
                          ],
                          [
                            0.2222222222222222,
                            "#7201a8"
                          ],
                          [
                            0.3333333333333333,
                            "#9c179e"
                          ],
                          [
                            0.4444444444444444,
                            "#bd3786"
                          ],
                          [
                            0.5555555555555556,
                            "#d8576b"
                          ],
                          [
                            0.6666666666666666,
                            "#ed7953"
                          ],
                          [
                            0.7777777777777778,
                            "#fb9f3a"
                          ],
                          [
                            0.8888888888888888,
                            "#fdca26"
                          ],
                          [
                            1,
                            "#f0f921"
                          ]
                        ],
                        "type": "heatmap"
                      }
                    ],
                    "heatmapgl": [
                      {
                        "colorbar": {
                          "outlinewidth": 0,
                          "ticks": ""
                        },
                        "colorscale": [
                          [
                            0,
                            "#0d0887"
                          ],
                          [
                            0.1111111111111111,
                            "#46039f"
                          ],
                          [
                            0.2222222222222222,
                            "#7201a8"
                          ],
                          [
                            0.3333333333333333,
                            "#9c179e"
                          ],
                          [
                            0.4444444444444444,
                            "#bd3786"
                          ],
                          [
                            0.5555555555555556,
                            "#d8576b"
                          ],
                          [
                            0.6666666666666666,
                            "#ed7953"
                          ],
                          [
                            0.7777777777777778,
                            "#fb9f3a"
                          ],
                          [
                            0.8888888888888888,
                            "#fdca26"
                          ],
                          [
                            1,
                            "#f0f921"
                          ]
                        ],
                        "type": "heatmapgl"
                      }
                    ],
                    "histogram": [
                      {
                        "marker": {
                          "pattern": {
                            "fillmode": "overlay",
                            "size": 10,
                            "solidity": 0.2
                          }
                        },
                        "type": "histogram"
                      }
                    ],
                    "histogram2d": [
                      {
                        "colorbar": {
                          "outlinewidth": 0,
                          "ticks": ""
                        },
                        "colorscale": [
                          [
                            0,
                            "#0d0887"
                          ],
                          [
                            0.1111111111111111,
                            "#46039f"
                          ],
                          [
                            0.2222222222222222,
                            "#7201a8"
                          ],
                          [
                            0.3333333333333333,
                            "#9c179e"
                          ],
                          [
                            0.4444444444444444,
                            "#bd3786"
                          ],
                          [
                            0.5555555555555556,
                            "#d8576b"
                          ],
                          [
                            0.6666666666666666,
                            "#ed7953"
                          ],
                          [
                            0.7777777777777778,
                            "#fb9f3a"
                          ],
                          [
                            0.8888888888888888,
                            "#fdca26"
                          ],
                          [
                            1,
                            "#f0f921"
                          ]
                        ],
                        "type": "histogram2d"
                      }
                    ],
                    "histogram2dcontour": [
                      {
                        "colorbar": {
                          "outlinewidth": 0,
                          "ticks": ""
                        },
                        "colorscale": [
                          [
                            0,
                            "#0d0887"
                          ],
                          [
                            0.1111111111111111,
                            "#46039f"
                          ],
                          [
                            0.2222222222222222,
                            "#7201a8"
                          ],
                          [
                            0.3333333333333333,
                            "#9c179e"
                          ],
                          [
                            0.4444444444444444,
                            "#bd3786"
                          ],
                          [
                            0.5555555555555556,
                            "#d8576b"
                          ],
                          [
                            0.6666666666666666,
                            "#ed7953"
                          ],
                          [
                            0.7777777777777778,
                            "#fb9f3a"
                          ],
                          [
                            0.8888888888888888,
                            "#fdca26"
                          ],
                          [
                            1,
                            "#f0f921"
                          ]
                        ],
                        "type": "histogram2dcontour"
                      }
                    ],
                    "mesh3d": [
                      {
                        "colorbar": {
                          "outlinewidth": 0,
                          "ticks": ""
                        },
                        "type": "mesh3d"
                      }
                    ],
                    "parcoords": [
                      {
                        "line": {
                          "colorbar": {
                            "outlinewidth": 0,
                            "ticks": ""
                          }
                        },
                        "type": "parcoords"
                      }
                    ],
                    "pie": [
                      {
                        "automargin": true,
                        "type": "pie"
                      }
                    ],
                    "scatter": [
                      {
                        "fillpattern": {
                          "fillmode": "overlay",
                          "size": 10,
                          "solidity": 0.2
                        },
                        "type": "scatter"
                      }
                    ],
                    "scatter3d": [
                      {
                        "line": {
                          "colorbar": {
                            "outlinewidth": 0,
                            "ticks": ""
                          }
                        },
                        "marker": {
                          "colorbar": {
                            "outlinewidth": 0,
                            "ticks": ""
                          }
                        },
                        "type": "scatter3d"
                      }
                    ],
                    "scattercarpet": [
                      {
                        "marker": {
                          "colorbar": {
                            "outlinewidth": 0,
                            "ticks": ""
                          }
                        },
                        "type": "scattercarpet"
                      }
                    ],
                    "scattergeo": [
                      {
                        "marker": {
                          "colorbar": {
                            "outlinewidth": 0,
                            "ticks": ""
                          }
                        },
                        "type": "scattergeo"
                      }
                    ],
                    "scattergl": [
                      {
                        "marker": {
                          "colorbar": {
                            "outlinewidth": 0,
                            "ticks": ""
                          }
                        },
                        "type": "scattergl"
                      }
                    ],
                    "scattermapbox": [
                      {
                        "marker": {
                          "colorbar": {
                            "outlinewidth": 0,
                            "ticks": ""
                          }
                        },
                        "type": "scattermapbox"
                      }
                    ],
                    "scatterpolar": [
                      {
                        "marker": {
                          "colorbar": {
                            "outlinewidth": 0,
                            "ticks": ""
                          }
                        },
                        "type": "scatterpolar"
                      }
                    ],
                    "scatterpolargl": [
                      {
                        "marker": {
                          "colorbar": {
                            "outlinewidth": 0,
                            "ticks": ""
                          }
                        },
                        "type": "scatterpolargl"
                      }
                    ],
                    "scatterternary": [
                      {
                        "marker": {
                          "colorbar": {
                            "outlinewidth": 0,
                            "ticks": ""
                          }
                        },
                        "type": "scatterternary"
                      }
                    ],
                    "surface": [
                      {
                        "colorbar": {
                          "outlinewidth": 0,
                          "ticks": ""
                        },
                        "colorscale": [
                          [
                            0,
                            "#0d0887"
                          ],
                          [
                            0.1111111111111111,
                            "#46039f"
                          ],
                          [
                            0.2222222222222222,
                            "#7201a8"
                          ],
                          [
                            0.3333333333333333,
                            "#9c179e"
                          ],
                          [
                            0.4444444444444444,
                            "#bd3786"
                          ],
                          [
                            0.5555555555555556,
                            "#d8576b"
                          ],
                          [
                            0.6666666666666666,
                            "#ed7953"
                          ],
                          [
                            0.7777777777777778,
                            "#fb9f3a"
                          ],
                          [
                            0.8888888888888888,
                            "#fdca26"
                          ],
                          [
                            1,
                            "#f0f921"
                          ]
                        ],
                        "type": "surface"
                      }
                    ],
                    "table": [
                      {
                        "cells": {
                          "fill": {
                            "color": "#EBF0F8"
                          },
                          "line": {
                            "color": "white"
                          }
                        },
                        "header": {
                          "fill": {
                            "color": "#C8D4E3"
                          },
                          "line": {
                            "color": "white"
                          }
                        },
                        "type": "table"
                      }
                    ]
                  },
                  "layout": {
                    "annotationdefaults": {
                      "arrowcolor": "#2a3f5f",
                      "arrowhead": 0,
                      "arrowwidth": 1
                    },
                    "autotypenumbers": "strict",
                    "coloraxis": {
                      "colorbar": {
                        "outlinewidth": 0,
                        "ticks": ""
                      }
                    },
                    "colorscale": {
                      "diverging": [
                        [
                          0,
                          "#8e0152"
                        ],
                        [
                          0.1,
                          "#c51b7d"
                        ],
                        [
                          0.2,
                          "#de77ae"
                        ],
                        [
                          0.3,
                          "#f1b6da"
                        ],
                        [
                          0.4,
                          "#fde0ef"
                        ],
                        [
                          0.5,
                          "#f7f7f7"
                        ],
                        [
                          0.6,
                          "#e6f5d0"
                        ],
                        [
                          0.7,
                          "#b8e186"
                        ],
                        [
                          0.8,
                          "#7fbc41"
                        ],
                        [
                          0.9,
                          "#4d9221"
                        ],
                        [
                          1,
                          "#276419"
                        ]
                      ],
                      "sequential": [
                        [
                          0,
                          "#0d0887"
                        ],
                        [
                          0.1111111111111111,
                          "#46039f"
                        ],
                        [
                          0.2222222222222222,
                          "#7201a8"
                        ],
                        [
                          0.3333333333333333,
                          "#9c179e"
                        ],
                        [
                          0.4444444444444444,
                          "#bd3786"
                        ],
                        [
                          0.5555555555555556,
                          "#d8576b"
                        ],
                        [
                          0.6666666666666666,
                          "#ed7953"
                        ],
                        [
                          0.7777777777777778,
                          "#fb9f3a"
                        ],
                        [
                          0.8888888888888888,
                          "#fdca26"
                        ],
                        [
                          1,
                          "#f0f921"
                        ]
                      ],
                      "sequentialminus": [
                        [
                          0,
                          "#0d0887"
                        ],
                        [
                          0.1111111111111111,
                          "#46039f"
                        ],
                        [
                          0.2222222222222222,
                          "#7201a8"
                        ],
                        [
                          0.3333333333333333,
                          "#9c179e"
                        ],
                        [
                          0.4444444444444444,
                          "#bd3786"
                        ],
                        [
                          0.5555555555555556,
                          "#d8576b"
                        ],
                        [
                          0.6666666666666666,
                          "#ed7953"
                        ],
                        [
                          0.7777777777777778,
                          "#fb9f3a"
                        ],
                        [
                          0.8888888888888888,
                          "#fdca26"
                        ],
                        [
                          1,
                          "#f0f921"
                        ]
                      ]
                    },
                    "colorway": [
                      "#636efa",
                      "#EF553B",
                      "#00cc96",
                      "#ab63fa",
                      "#FFA15A",
                      "#19d3f3",
                      "#FF6692",
                      "#B6E880",
                      "#FF97FF",
                      "#FECB52"
                    ],
                    "font": {
                      "color": "#2a3f5f"
                    },
                    "geo": {
                      "bgcolor": "white",
                      "lakecolor": "white",
                      "landcolor": "#E5ECF6",
                      "showlakes": true,
                      "showland": true,
                      "subunitcolor": "white"
                    },
                    "hoverlabel": {
                      "align": "left"
                    },
                    "hovermode": "closest",
                    "mapbox": {
                      "style": "light"
                    },
                    "paper_bgcolor": "white",
                    "plot_bgcolor": "#E5ECF6",
                    "polar": {
                      "angularaxis": {
                        "gridcolor": "white",
                        "linecolor": "white",
                        "ticks": ""
                      },
                      "bgcolor": "#E5ECF6",
                      "radialaxis": {
                        "gridcolor": "white",
                        "linecolor": "white",
                        "ticks": ""
                      }
                    },
                    "scene": {
                      "xaxis": {
                        "backgroundcolor": "#E5ECF6",
                        "gridcolor": "white",
                        "gridwidth": 2,
                        "linecolor": "white",
                        "showbackground": true,
                        "ticks": "",
                        "zerolinecolor": "white"
                      },
                      "yaxis": {
                        "backgroundcolor": "#E5ECF6",
                        "gridcolor": "white",
                        "gridwidth": 2,
                        "linecolor": "white",
                        "showbackground": true,
                        "ticks": "",
                        "zerolinecolor": "white"
                      },
                      "zaxis": {
                        "backgroundcolor": "#E5ECF6",
                        "gridcolor": "white",
                        "gridwidth": 2,
                        "linecolor": "white",
                        "showbackground": true,
                        "ticks": "",
                        "zerolinecolor": "white"
                      }
                    },
                    "shapedefaults": {
                      "line": {
                        "color": "#2a3f5f"
                      }
                    },
                    "ternary": {
                      "aaxis": {
                        "gridcolor": "white",
                        "linecolor": "white",
                        "ticks": ""
                      },
                      "baxis": {
                        "gridcolor": "white",
                        "linecolor": "white",
                        "ticks": ""
                      },
                      "bgcolor": "#E5ECF6",
                      "caxis": {
                        "gridcolor": "white",
                        "linecolor": "white",
                        "ticks": ""
                      }
                    },
                    "title": {
                      "x": 0.05
                    },
                    "xaxis": {
                      "automargin": true,
                      "gridcolor": "white",
                      "linecolor": "white",
                      "ticks": "",
                      "title": {
                        "standoff": 15
                      },
                      "zerolinecolor": "white",
                      "zerolinewidth": 2
                    },
                    "yaxis": {
                      "automargin": true,
                      "gridcolor": "white",
                      "linecolor": "white",
                      "ticks": "",
                      "title": {
                        "standoff": 15
                      },
                      "zerolinecolor": "white",
                      "zerolinewidth": 2
                    }
                  }
                },
                "title": {
                  "text": "Jugadores con menor cantidad de GP en la temporada 2002-03",
                  "x": 0.5
                }
              }
            }
          },
          "metadata": {},
          "output_type": "display_data"
        }
      ],
      "source": [
        "# Menor cantidades de PJ en 2002-03\n",
        "mingameS=NBA03_S.sort_values('GP',ascending=True)\n",
        "\n",
        "mingameS=mingameS[0:10]\n",
        "\n",
        "fig = go.Figure(go.Funnel(\n",
        "    y =  list(mingameS['Player']),\n",
        "    x = list(mingameS['GP']))) \n",
        "fig.update_layout(title = \"Jugadores con menor cantidad de GP en la temporada 2002-03\",title_x=0.5)\n",
        "fig.show()"
      ]
    },
    {
      "cell_type": "markdown",
      "metadata": {
        "id": "qWLEk5jVLQBN"
      },
      "source": [
        "Haremos lo mismo que antes solo que con los Playoffs de 2002-03"
      ]
    },
    {
      "cell_type": "code",
      "execution_count": 16,
      "metadata": {
        "colab": {
          "base_uri": "https://localhost:8080/",
          "height": 542
        },
        "id": "V_idzV0WoArz",
        "outputId": "0ab6ffeb-4151-4d39-800a-62f980096a22"
      },
      "outputs": [
        {
          "data": {
            "application/vnd.plotly.v1+json": {
              "config": {
                "plotlyServerURL": "https://plot.ly"
              },
              "data": [
                {
                  "type": "funnel",
                  "x": [
                    24,
                    24,
                    24,
                    24,
                    24,
                    24,
                    24,
                    23,
                    20,
                    20
                  ],
                  "y": [
                    "Tim Duncan",
                    "Stephen Jackson",
                    "Bruce Bowen",
                    "Malik Rose",
                    "Manu Ginobili",
                    "Speedy Claxton",
                    "Tony Parker",
                    "David Robinson",
                    "Kerry Kittles",
                    "Lucious Harris"
                  ]
                }
              ],
              "layout": {
                "template": {
                  "data": {
                    "bar": [
                      {
                        "error_x": {
                          "color": "#2a3f5f"
                        },
                        "error_y": {
                          "color": "#2a3f5f"
                        },
                        "marker": {
                          "line": {
                            "color": "#E5ECF6",
                            "width": 0.5
                          },
                          "pattern": {
                            "fillmode": "overlay",
                            "size": 10,
                            "solidity": 0.2
                          }
                        },
                        "type": "bar"
                      }
                    ],
                    "barpolar": [
                      {
                        "marker": {
                          "line": {
                            "color": "#E5ECF6",
                            "width": 0.5
                          },
                          "pattern": {
                            "fillmode": "overlay",
                            "size": 10,
                            "solidity": 0.2
                          }
                        },
                        "type": "barpolar"
                      }
                    ],
                    "carpet": [
                      {
                        "aaxis": {
                          "endlinecolor": "#2a3f5f",
                          "gridcolor": "white",
                          "linecolor": "white",
                          "minorgridcolor": "white",
                          "startlinecolor": "#2a3f5f"
                        },
                        "baxis": {
                          "endlinecolor": "#2a3f5f",
                          "gridcolor": "white",
                          "linecolor": "white",
                          "minorgridcolor": "white",
                          "startlinecolor": "#2a3f5f"
                        },
                        "type": "carpet"
                      }
                    ],
                    "choropleth": [
                      {
                        "colorbar": {
                          "outlinewidth": 0,
                          "ticks": ""
                        },
                        "type": "choropleth"
                      }
                    ],
                    "contour": [
                      {
                        "colorbar": {
                          "outlinewidth": 0,
                          "ticks": ""
                        },
                        "colorscale": [
                          [
                            0,
                            "#0d0887"
                          ],
                          [
                            0.1111111111111111,
                            "#46039f"
                          ],
                          [
                            0.2222222222222222,
                            "#7201a8"
                          ],
                          [
                            0.3333333333333333,
                            "#9c179e"
                          ],
                          [
                            0.4444444444444444,
                            "#bd3786"
                          ],
                          [
                            0.5555555555555556,
                            "#d8576b"
                          ],
                          [
                            0.6666666666666666,
                            "#ed7953"
                          ],
                          [
                            0.7777777777777778,
                            "#fb9f3a"
                          ],
                          [
                            0.8888888888888888,
                            "#fdca26"
                          ],
                          [
                            1,
                            "#f0f921"
                          ]
                        ],
                        "type": "contour"
                      }
                    ],
                    "contourcarpet": [
                      {
                        "colorbar": {
                          "outlinewidth": 0,
                          "ticks": ""
                        },
                        "type": "contourcarpet"
                      }
                    ],
                    "heatmap": [
                      {
                        "colorbar": {
                          "outlinewidth": 0,
                          "ticks": ""
                        },
                        "colorscale": [
                          [
                            0,
                            "#0d0887"
                          ],
                          [
                            0.1111111111111111,
                            "#46039f"
                          ],
                          [
                            0.2222222222222222,
                            "#7201a8"
                          ],
                          [
                            0.3333333333333333,
                            "#9c179e"
                          ],
                          [
                            0.4444444444444444,
                            "#bd3786"
                          ],
                          [
                            0.5555555555555556,
                            "#d8576b"
                          ],
                          [
                            0.6666666666666666,
                            "#ed7953"
                          ],
                          [
                            0.7777777777777778,
                            "#fb9f3a"
                          ],
                          [
                            0.8888888888888888,
                            "#fdca26"
                          ],
                          [
                            1,
                            "#f0f921"
                          ]
                        ],
                        "type": "heatmap"
                      }
                    ],
                    "heatmapgl": [
                      {
                        "colorbar": {
                          "outlinewidth": 0,
                          "ticks": ""
                        },
                        "colorscale": [
                          [
                            0,
                            "#0d0887"
                          ],
                          [
                            0.1111111111111111,
                            "#46039f"
                          ],
                          [
                            0.2222222222222222,
                            "#7201a8"
                          ],
                          [
                            0.3333333333333333,
                            "#9c179e"
                          ],
                          [
                            0.4444444444444444,
                            "#bd3786"
                          ],
                          [
                            0.5555555555555556,
                            "#d8576b"
                          ],
                          [
                            0.6666666666666666,
                            "#ed7953"
                          ],
                          [
                            0.7777777777777778,
                            "#fb9f3a"
                          ],
                          [
                            0.8888888888888888,
                            "#fdca26"
                          ],
                          [
                            1,
                            "#f0f921"
                          ]
                        ],
                        "type": "heatmapgl"
                      }
                    ],
                    "histogram": [
                      {
                        "marker": {
                          "pattern": {
                            "fillmode": "overlay",
                            "size": 10,
                            "solidity": 0.2
                          }
                        },
                        "type": "histogram"
                      }
                    ],
                    "histogram2d": [
                      {
                        "colorbar": {
                          "outlinewidth": 0,
                          "ticks": ""
                        },
                        "colorscale": [
                          [
                            0,
                            "#0d0887"
                          ],
                          [
                            0.1111111111111111,
                            "#46039f"
                          ],
                          [
                            0.2222222222222222,
                            "#7201a8"
                          ],
                          [
                            0.3333333333333333,
                            "#9c179e"
                          ],
                          [
                            0.4444444444444444,
                            "#bd3786"
                          ],
                          [
                            0.5555555555555556,
                            "#d8576b"
                          ],
                          [
                            0.6666666666666666,
                            "#ed7953"
                          ],
                          [
                            0.7777777777777778,
                            "#fb9f3a"
                          ],
                          [
                            0.8888888888888888,
                            "#fdca26"
                          ],
                          [
                            1,
                            "#f0f921"
                          ]
                        ],
                        "type": "histogram2d"
                      }
                    ],
                    "histogram2dcontour": [
                      {
                        "colorbar": {
                          "outlinewidth": 0,
                          "ticks": ""
                        },
                        "colorscale": [
                          [
                            0,
                            "#0d0887"
                          ],
                          [
                            0.1111111111111111,
                            "#46039f"
                          ],
                          [
                            0.2222222222222222,
                            "#7201a8"
                          ],
                          [
                            0.3333333333333333,
                            "#9c179e"
                          ],
                          [
                            0.4444444444444444,
                            "#bd3786"
                          ],
                          [
                            0.5555555555555556,
                            "#d8576b"
                          ],
                          [
                            0.6666666666666666,
                            "#ed7953"
                          ],
                          [
                            0.7777777777777778,
                            "#fb9f3a"
                          ],
                          [
                            0.8888888888888888,
                            "#fdca26"
                          ],
                          [
                            1,
                            "#f0f921"
                          ]
                        ],
                        "type": "histogram2dcontour"
                      }
                    ],
                    "mesh3d": [
                      {
                        "colorbar": {
                          "outlinewidth": 0,
                          "ticks": ""
                        },
                        "type": "mesh3d"
                      }
                    ],
                    "parcoords": [
                      {
                        "line": {
                          "colorbar": {
                            "outlinewidth": 0,
                            "ticks": ""
                          }
                        },
                        "type": "parcoords"
                      }
                    ],
                    "pie": [
                      {
                        "automargin": true,
                        "type": "pie"
                      }
                    ],
                    "scatter": [
                      {
                        "fillpattern": {
                          "fillmode": "overlay",
                          "size": 10,
                          "solidity": 0.2
                        },
                        "type": "scatter"
                      }
                    ],
                    "scatter3d": [
                      {
                        "line": {
                          "colorbar": {
                            "outlinewidth": 0,
                            "ticks": ""
                          }
                        },
                        "marker": {
                          "colorbar": {
                            "outlinewidth": 0,
                            "ticks": ""
                          }
                        },
                        "type": "scatter3d"
                      }
                    ],
                    "scattercarpet": [
                      {
                        "marker": {
                          "colorbar": {
                            "outlinewidth": 0,
                            "ticks": ""
                          }
                        },
                        "type": "scattercarpet"
                      }
                    ],
                    "scattergeo": [
                      {
                        "marker": {
                          "colorbar": {
                            "outlinewidth": 0,
                            "ticks": ""
                          }
                        },
                        "type": "scattergeo"
                      }
                    ],
                    "scattergl": [
                      {
                        "marker": {
                          "colorbar": {
                            "outlinewidth": 0,
                            "ticks": ""
                          }
                        },
                        "type": "scattergl"
                      }
                    ],
                    "scattermapbox": [
                      {
                        "marker": {
                          "colorbar": {
                            "outlinewidth": 0,
                            "ticks": ""
                          }
                        },
                        "type": "scattermapbox"
                      }
                    ],
                    "scatterpolar": [
                      {
                        "marker": {
                          "colorbar": {
                            "outlinewidth": 0,
                            "ticks": ""
                          }
                        },
                        "type": "scatterpolar"
                      }
                    ],
                    "scatterpolargl": [
                      {
                        "marker": {
                          "colorbar": {
                            "outlinewidth": 0,
                            "ticks": ""
                          }
                        },
                        "type": "scatterpolargl"
                      }
                    ],
                    "scatterternary": [
                      {
                        "marker": {
                          "colorbar": {
                            "outlinewidth": 0,
                            "ticks": ""
                          }
                        },
                        "type": "scatterternary"
                      }
                    ],
                    "surface": [
                      {
                        "colorbar": {
                          "outlinewidth": 0,
                          "ticks": ""
                        },
                        "colorscale": [
                          [
                            0,
                            "#0d0887"
                          ],
                          [
                            0.1111111111111111,
                            "#46039f"
                          ],
                          [
                            0.2222222222222222,
                            "#7201a8"
                          ],
                          [
                            0.3333333333333333,
                            "#9c179e"
                          ],
                          [
                            0.4444444444444444,
                            "#bd3786"
                          ],
                          [
                            0.5555555555555556,
                            "#d8576b"
                          ],
                          [
                            0.6666666666666666,
                            "#ed7953"
                          ],
                          [
                            0.7777777777777778,
                            "#fb9f3a"
                          ],
                          [
                            0.8888888888888888,
                            "#fdca26"
                          ],
                          [
                            1,
                            "#f0f921"
                          ]
                        ],
                        "type": "surface"
                      }
                    ],
                    "table": [
                      {
                        "cells": {
                          "fill": {
                            "color": "#EBF0F8"
                          },
                          "line": {
                            "color": "white"
                          }
                        },
                        "header": {
                          "fill": {
                            "color": "#C8D4E3"
                          },
                          "line": {
                            "color": "white"
                          }
                        },
                        "type": "table"
                      }
                    ]
                  },
                  "layout": {
                    "annotationdefaults": {
                      "arrowcolor": "#2a3f5f",
                      "arrowhead": 0,
                      "arrowwidth": 1
                    },
                    "autotypenumbers": "strict",
                    "coloraxis": {
                      "colorbar": {
                        "outlinewidth": 0,
                        "ticks": ""
                      }
                    },
                    "colorscale": {
                      "diverging": [
                        [
                          0,
                          "#8e0152"
                        ],
                        [
                          0.1,
                          "#c51b7d"
                        ],
                        [
                          0.2,
                          "#de77ae"
                        ],
                        [
                          0.3,
                          "#f1b6da"
                        ],
                        [
                          0.4,
                          "#fde0ef"
                        ],
                        [
                          0.5,
                          "#f7f7f7"
                        ],
                        [
                          0.6,
                          "#e6f5d0"
                        ],
                        [
                          0.7,
                          "#b8e186"
                        ],
                        [
                          0.8,
                          "#7fbc41"
                        ],
                        [
                          0.9,
                          "#4d9221"
                        ],
                        [
                          1,
                          "#276419"
                        ]
                      ],
                      "sequential": [
                        [
                          0,
                          "#0d0887"
                        ],
                        [
                          0.1111111111111111,
                          "#46039f"
                        ],
                        [
                          0.2222222222222222,
                          "#7201a8"
                        ],
                        [
                          0.3333333333333333,
                          "#9c179e"
                        ],
                        [
                          0.4444444444444444,
                          "#bd3786"
                        ],
                        [
                          0.5555555555555556,
                          "#d8576b"
                        ],
                        [
                          0.6666666666666666,
                          "#ed7953"
                        ],
                        [
                          0.7777777777777778,
                          "#fb9f3a"
                        ],
                        [
                          0.8888888888888888,
                          "#fdca26"
                        ],
                        [
                          1,
                          "#f0f921"
                        ]
                      ],
                      "sequentialminus": [
                        [
                          0,
                          "#0d0887"
                        ],
                        [
                          0.1111111111111111,
                          "#46039f"
                        ],
                        [
                          0.2222222222222222,
                          "#7201a8"
                        ],
                        [
                          0.3333333333333333,
                          "#9c179e"
                        ],
                        [
                          0.4444444444444444,
                          "#bd3786"
                        ],
                        [
                          0.5555555555555556,
                          "#d8576b"
                        ],
                        [
                          0.6666666666666666,
                          "#ed7953"
                        ],
                        [
                          0.7777777777777778,
                          "#fb9f3a"
                        ],
                        [
                          0.8888888888888888,
                          "#fdca26"
                        ],
                        [
                          1,
                          "#f0f921"
                        ]
                      ]
                    },
                    "colorway": [
                      "#636efa",
                      "#EF553B",
                      "#00cc96",
                      "#ab63fa",
                      "#FFA15A",
                      "#19d3f3",
                      "#FF6692",
                      "#B6E880",
                      "#FF97FF",
                      "#FECB52"
                    ],
                    "font": {
                      "color": "#2a3f5f"
                    },
                    "geo": {
                      "bgcolor": "white",
                      "lakecolor": "white",
                      "landcolor": "#E5ECF6",
                      "showlakes": true,
                      "showland": true,
                      "subunitcolor": "white"
                    },
                    "hoverlabel": {
                      "align": "left"
                    },
                    "hovermode": "closest",
                    "mapbox": {
                      "style": "light"
                    },
                    "paper_bgcolor": "white",
                    "plot_bgcolor": "#E5ECF6",
                    "polar": {
                      "angularaxis": {
                        "gridcolor": "white",
                        "linecolor": "white",
                        "ticks": ""
                      },
                      "bgcolor": "#E5ECF6",
                      "radialaxis": {
                        "gridcolor": "white",
                        "linecolor": "white",
                        "ticks": ""
                      }
                    },
                    "scene": {
                      "xaxis": {
                        "backgroundcolor": "#E5ECF6",
                        "gridcolor": "white",
                        "gridwidth": 2,
                        "linecolor": "white",
                        "showbackground": true,
                        "ticks": "",
                        "zerolinecolor": "white"
                      },
                      "yaxis": {
                        "backgroundcolor": "#E5ECF6",
                        "gridcolor": "white",
                        "gridwidth": 2,
                        "linecolor": "white",
                        "showbackground": true,
                        "ticks": "",
                        "zerolinecolor": "white"
                      },
                      "zaxis": {
                        "backgroundcolor": "#E5ECF6",
                        "gridcolor": "white",
                        "gridwidth": 2,
                        "linecolor": "white",
                        "showbackground": true,
                        "ticks": "",
                        "zerolinecolor": "white"
                      }
                    },
                    "shapedefaults": {
                      "line": {
                        "color": "#2a3f5f"
                      }
                    },
                    "ternary": {
                      "aaxis": {
                        "gridcolor": "white",
                        "linecolor": "white",
                        "ticks": ""
                      },
                      "baxis": {
                        "gridcolor": "white",
                        "linecolor": "white",
                        "ticks": ""
                      },
                      "bgcolor": "#E5ECF6",
                      "caxis": {
                        "gridcolor": "white",
                        "linecolor": "white",
                        "ticks": ""
                      }
                    },
                    "title": {
                      "x": 0.05
                    },
                    "xaxis": {
                      "automargin": true,
                      "gridcolor": "white",
                      "linecolor": "white",
                      "ticks": "",
                      "title": {
                        "standoff": 15
                      },
                      "zerolinecolor": "white",
                      "zerolinewidth": 2
                    },
                    "yaxis": {
                      "automargin": true,
                      "gridcolor": "white",
                      "linecolor": "white",
                      "ticks": "",
                      "title": {
                        "standoff": 15
                      },
                      "zerolinecolor": "white",
                      "zerolinewidth": 2
                    }
                  }
                },
                "title": {
                  "text": "Top 10 Jugadores con GP en los Playoffs de 2002-03",
                  "x": 0.5
                }
              }
            }
          },
          "metadata": {},
          "output_type": "display_data"
        }
      ],
      "source": [
        "# Mayores cantidades de PJ en 2002-03 Playoffs\n",
        "mingame=NBA03_PO.sort_values('GP',ascending=False)\n",
        "\n",
        "mingame=mingame[0:10]\n",
        "\n",
        "fig = go.Figure(go.Funnel(\n",
        "    y =  list(mingame['Player']),\n",
        "    x = list(mingame['GP']))) \n",
        "fig.update_layout(title = \"Top 10 Jugadores con GP en los Playoffs de 2002-03\",title_x=0.5)\n",
        "fig.show()"
      ]
    },
    {
      "cell_type": "code",
      "execution_count": 17,
      "metadata": {
        "colab": {
          "base_uri": "https://localhost:8080/",
          "height": 542
        },
        "id": "0K3fbgm0mmif",
        "outputId": "4de308ac-72d2-4735-bd7e-5325fae8c30f"
      },
      "outputs": [
        {
          "data": {
            "application/vnd.plotly.v1+json": {
              "config": {
                "plotlyServerURL": "https://plot.ly"
              },
              "data": [
                {
                  "type": "funnel",
                  "x": [
                    5,
                    5,
                    5,
                    5,
                    5,
                    4,
                    4,
                    4,
                    4,
                    4
                  ],
                  "y": [
                    "Calbert Cheaney",
                    "Tony Massenburg",
                    "Baron Davis",
                    "Karl Malone",
                    "Andrei Kirilenko",
                    "Jamal Mashburn",
                    "Stacey Augmon",
                    "Scottie Pippen",
                    "Jerome Moiso",
                    "Rick Fox"
                  ]
                }
              ],
              "layout": {
                "template": {
                  "data": {
                    "bar": [
                      {
                        "error_x": {
                          "color": "#2a3f5f"
                        },
                        "error_y": {
                          "color": "#2a3f5f"
                        },
                        "marker": {
                          "line": {
                            "color": "#E5ECF6",
                            "width": 0.5
                          },
                          "pattern": {
                            "fillmode": "overlay",
                            "size": 10,
                            "solidity": 0.2
                          }
                        },
                        "type": "bar"
                      }
                    ],
                    "barpolar": [
                      {
                        "marker": {
                          "line": {
                            "color": "#E5ECF6",
                            "width": 0.5
                          },
                          "pattern": {
                            "fillmode": "overlay",
                            "size": 10,
                            "solidity": 0.2
                          }
                        },
                        "type": "barpolar"
                      }
                    ],
                    "carpet": [
                      {
                        "aaxis": {
                          "endlinecolor": "#2a3f5f",
                          "gridcolor": "white",
                          "linecolor": "white",
                          "minorgridcolor": "white",
                          "startlinecolor": "#2a3f5f"
                        },
                        "baxis": {
                          "endlinecolor": "#2a3f5f",
                          "gridcolor": "white",
                          "linecolor": "white",
                          "minorgridcolor": "white",
                          "startlinecolor": "#2a3f5f"
                        },
                        "type": "carpet"
                      }
                    ],
                    "choropleth": [
                      {
                        "colorbar": {
                          "outlinewidth": 0,
                          "ticks": ""
                        },
                        "type": "choropleth"
                      }
                    ],
                    "contour": [
                      {
                        "colorbar": {
                          "outlinewidth": 0,
                          "ticks": ""
                        },
                        "colorscale": [
                          [
                            0,
                            "#0d0887"
                          ],
                          [
                            0.1111111111111111,
                            "#46039f"
                          ],
                          [
                            0.2222222222222222,
                            "#7201a8"
                          ],
                          [
                            0.3333333333333333,
                            "#9c179e"
                          ],
                          [
                            0.4444444444444444,
                            "#bd3786"
                          ],
                          [
                            0.5555555555555556,
                            "#d8576b"
                          ],
                          [
                            0.6666666666666666,
                            "#ed7953"
                          ],
                          [
                            0.7777777777777778,
                            "#fb9f3a"
                          ],
                          [
                            0.8888888888888888,
                            "#fdca26"
                          ],
                          [
                            1,
                            "#f0f921"
                          ]
                        ],
                        "type": "contour"
                      }
                    ],
                    "contourcarpet": [
                      {
                        "colorbar": {
                          "outlinewidth": 0,
                          "ticks": ""
                        },
                        "type": "contourcarpet"
                      }
                    ],
                    "heatmap": [
                      {
                        "colorbar": {
                          "outlinewidth": 0,
                          "ticks": ""
                        },
                        "colorscale": [
                          [
                            0,
                            "#0d0887"
                          ],
                          [
                            0.1111111111111111,
                            "#46039f"
                          ],
                          [
                            0.2222222222222222,
                            "#7201a8"
                          ],
                          [
                            0.3333333333333333,
                            "#9c179e"
                          ],
                          [
                            0.4444444444444444,
                            "#bd3786"
                          ],
                          [
                            0.5555555555555556,
                            "#d8576b"
                          ],
                          [
                            0.6666666666666666,
                            "#ed7953"
                          ],
                          [
                            0.7777777777777778,
                            "#fb9f3a"
                          ],
                          [
                            0.8888888888888888,
                            "#fdca26"
                          ],
                          [
                            1,
                            "#f0f921"
                          ]
                        ],
                        "type": "heatmap"
                      }
                    ],
                    "heatmapgl": [
                      {
                        "colorbar": {
                          "outlinewidth": 0,
                          "ticks": ""
                        },
                        "colorscale": [
                          [
                            0,
                            "#0d0887"
                          ],
                          [
                            0.1111111111111111,
                            "#46039f"
                          ],
                          [
                            0.2222222222222222,
                            "#7201a8"
                          ],
                          [
                            0.3333333333333333,
                            "#9c179e"
                          ],
                          [
                            0.4444444444444444,
                            "#bd3786"
                          ],
                          [
                            0.5555555555555556,
                            "#d8576b"
                          ],
                          [
                            0.6666666666666666,
                            "#ed7953"
                          ],
                          [
                            0.7777777777777778,
                            "#fb9f3a"
                          ],
                          [
                            0.8888888888888888,
                            "#fdca26"
                          ],
                          [
                            1,
                            "#f0f921"
                          ]
                        ],
                        "type": "heatmapgl"
                      }
                    ],
                    "histogram": [
                      {
                        "marker": {
                          "pattern": {
                            "fillmode": "overlay",
                            "size": 10,
                            "solidity": 0.2
                          }
                        },
                        "type": "histogram"
                      }
                    ],
                    "histogram2d": [
                      {
                        "colorbar": {
                          "outlinewidth": 0,
                          "ticks": ""
                        },
                        "colorscale": [
                          [
                            0,
                            "#0d0887"
                          ],
                          [
                            0.1111111111111111,
                            "#46039f"
                          ],
                          [
                            0.2222222222222222,
                            "#7201a8"
                          ],
                          [
                            0.3333333333333333,
                            "#9c179e"
                          ],
                          [
                            0.4444444444444444,
                            "#bd3786"
                          ],
                          [
                            0.5555555555555556,
                            "#d8576b"
                          ],
                          [
                            0.6666666666666666,
                            "#ed7953"
                          ],
                          [
                            0.7777777777777778,
                            "#fb9f3a"
                          ],
                          [
                            0.8888888888888888,
                            "#fdca26"
                          ],
                          [
                            1,
                            "#f0f921"
                          ]
                        ],
                        "type": "histogram2d"
                      }
                    ],
                    "histogram2dcontour": [
                      {
                        "colorbar": {
                          "outlinewidth": 0,
                          "ticks": ""
                        },
                        "colorscale": [
                          [
                            0,
                            "#0d0887"
                          ],
                          [
                            0.1111111111111111,
                            "#46039f"
                          ],
                          [
                            0.2222222222222222,
                            "#7201a8"
                          ],
                          [
                            0.3333333333333333,
                            "#9c179e"
                          ],
                          [
                            0.4444444444444444,
                            "#bd3786"
                          ],
                          [
                            0.5555555555555556,
                            "#d8576b"
                          ],
                          [
                            0.6666666666666666,
                            "#ed7953"
                          ],
                          [
                            0.7777777777777778,
                            "#fb9f3a"
                          ],
                          [
                            0.8888888888888888,
                            "#fdca26"
                          ],
                          [
                            1,
                            "#f0f921"
                          ]
                        ],
                        "type": "histogram2dcontour"
                      }
                    ],
                    "mesh3d": [
                      {
                        "colorbar": {
                          "outlinewidth": 0,
                          "ticks": ""
                        },
                        "type": "mesh3d"
                      }
                    ],
                    "parcoords": [
                      {
                        "line": {
                          "colorbar": {
                            "outlinewidth": 0,
                            "ticks": ""
                          }
                        },
                        "type": "parcoords"
                      }
                    ],
                    "pie": [
                      {
                        "automargin": true,
                        "type": "pie"
                      }
                    ],
                    "scatter": [
                      {
                        "fillpattern": {
                          "fillmode": "overlay",
                          "size": 10,
                          "solidity": 0.2
                        },
                        "type": "scatter"
                      }
                    ],
                    "scatter3d": [
                      {
                        "line": {
                          "colorbar": {
                            "outlinewidth": 0,
                            "ticks": ""
                          }
                        },
                        "marker": {
                          "colorbar": {
                            "outlinewidth": 0,
                            "ticks": ""
                          }
                        },
                        "type": "scatter3d"
                      }
                    ],
                    "scattercarpet": [
                      {
                        "marker": {
                          "colorbar": {
                            "outlinewidth": 0,
                            "ticks": ""
                          }
                        },
                        "type": "scattercarpet"
                      }
                    ],
                    "scattergeo": [
                      {
                        "marker": {
                          "colorbar": {
                            "outlinewidth": 0,
                            "ticks": ""
                          }
                        },
                        "type": "scattergeo"
                      }
                    ],
                    "scattergl": [
                      {
                        "marker": {
                          "colorbar": {
                            "outlinewidth": 0,
                            "ticks": ""
                          }
                        },
                        "type": "scattergl"
                      }
                    ],
                    "scattermapbox": [
                      {
                        "marker": {
                          "colorbar": {
                            "outlinewidth": 0,
                            "ticks": ""
                          }
                        },
                        "type": "scattermapbox"
                      }
                    ],
                    "scatterpolar": [
                      {
                        "marker": {
                          "colorbar": {
                            "outlinewidth": 0,
                            "ticks": ""
                          }
                        },
                        "type": "scatterpolar"
                      }
                    ],
                    "scatterpolargl": [
                      {
                        "marker": {
                          "colorbar": {
                            "outlinewidth": 0,
                            "ticks": ""
                          }
                        },
                        "type": "scatterpolargl"
                      }
                    ],
                    "scatterternary": [
                      {
                        "marker": {
                          "colorbar": {
                            "outlinewidth": 0,
                            "ticks": ""
                          }
                        },
                        "type": "scatterternary"
                      }
                    ],
                    "surface": [
                      {
                        "colorbar": {
                          "outlinewidth": 0,
                          "ticks": ""
                        },
                        "colorscale": [
                          [
                            0,
                            "#0d0887"
                          ],
                          [
                            0.1111111111111111,
                            "#46039f"
                          ],
                          [
                            0.2222222222222222,
                            "#7201a8"
                          ],
                          [
                            0.3333333333333333,
                            "#9c179e"
                          ],
                          [
                            0.4444444444444444,
                            "#bd3786"
                          ],
                          [
                            0.5555555555555556,
                            "#d8576b"
                          ],
                          [
                            0.6666666666666666,
                            "#ed7953"
                          ],
                          [
                            0.7777777777777778,
                            "#fb9f3a"
                          ],
                          [
                            0.8888888888888888,
                            "#fdca26"
                          ],
                          [
                            1,
                            "#f0f921"
                          ]
                        ],
                        "type": "surface"
                      }
                    ],
                    "table": [
                      {
                        "cells": {
                          "fill": {
                            "color": "#EBF0F8"
                          },
                          "line": {
                            "color": "white"
                          }
                        },
                        "header": {
                          "fill": {
                            "color": "#C8D4E3"
                          },
                          "line": {
                            "color": "white"
                          }
                        },
                        "type": "table"
                      }
                    ]
                  },
                  "layout": {
                    "annotationdefaults": {
                      "arrowcolor": "#2a3f5f",
                      "arrowhead": 0,
                      "arrowwidth": 1
                    },
                    "autotypenumbers": "strict",
                    "coloraxis": {
                      "colorbar": {
                        "outlinewidth": 0,
                        "ticks": ""
                      }
                    },
                    "colorscale": {
                      "diverging": [
                        [
                          0,
                          "#8e0152"
                        ],
                        [
                          0.1,
                          "#c51b7d"
                        ],
                        [
                          0.2,
                          "#de77ae"
                        ],
                        [
                          0.3,
                          "#f1b6da"
                        ],
                        [
                          0.4,
                          "#fde0ef"
                        ],
                        [
                          0.5,
                          "#f7f7f7"
                        ],
                        [
                          0.6,
                          "#e6f5d0"
                        ],
                        [
                          0.7,
                          "#b8e186"
                        ],
                        [
                          0.8,
                          "#7fbc41"
                        ],
                        [
                          0.9,
                          "#4d9221"
                        ],
                        [
                          1,
                          "#276419"
                        ]
                      ],
                      "sequential": [
                        [
                          0,
                          "#0d0887"
                        ],
                        [
                          0.1111111111111111,
                          "#46039f"
                        ],
                        [
                          0.2222222222222222,
                          "#7201a8"
                        ],
                        [
                          0.3333333333333333,
                          "#9c179e"
                        ],
                        [
                          0.4444444444444444,
                          "#bd3786"
                        ],
                        [
                          0.5555555555555556,
                          "#d8576b"
                        ],
                        [
                          0.6666666666666666,
                          "#ed7953"
                        ],
                        [
                          0.7777777777777778,
                          "#fb9f3a"
                        ],
                        [
                          0.8888888888888888,
                          "#fdca26"
                        ],
                        [
                          1,
                          "#f0f921"
                        ]
                      ],
                      "sequentialminus": [
                        [
                          0,
                          "#0d0887"
                        ],
                        [
                          0.1111111111111111,
                          "#46039f"
                        ],
                        [
                          0.2222222222222222,
                          "#7201a8"
                        ],
                        [
                          0.3333333333333333,
                          "#9c179e"
                        ],
                        [
                          0.4444444444444444,
                          "#bd3786"
                        ],
                        [
                          0.5555555555555556,
                          "#d8576b"
                        ],
                        [
                          0.6666666666666666,
                          "#ed7953"
                        ],
                        [
                          0.7777777777777778,
                          "#fb9f3a"
                        ],
                        [
                          0.8888888888888888,
                          "#fdca26"
                        ],
                        [
                          1,
                          "#f0f921"
                        ]
                      ]
                    },
                    "colorway": [
                      "#636efa",
                      "#EF553B",
                      "#00cc96",
                      "#ab63fa",
                      "#FFA15A",
                      "#19d3f3",
                      "#FF6692",
                      "#B6E880",
                      "#FF97FF",
                      "#FECB52"
                    ],
                    "font": {
                      "color": "#2a3f5f"
                    },
                    "geo": {
                      "bgcolor": "white",
                      "lakecolor": "white",
                      "landcolor": "#E5ECF6",
                      "showlakes": true,
                      "showland": true,
                      "subunitcolor": "white"
                    },
                    "hoverlabel": {
                      "align": "left"
                    },
                    "hovermode": "closest",
                    "mapbox": {
                      "style": "light"
                    },
                    "paper_bgcolor": "white",
                    "plot_bgcolor": "#E5ECF6",
                    "polar": {
                      "angularaxis": {
                        "gridcolor": "white",
                        "linecolor": "white",
                        "ticks": ""
                      },
                      "bgcolor": "#E5ECF6",
                      "radialaxis": {
                        "gridcolor": "white",
                        "linecolor": "white",
                        "ticks": ""
                      }
                    },
                    "scene": {
                      "xaxis": {
                        "backgroundcolor": "#E5ECF6",
                        "gridcolor": "white",
                        "gridwidth": 2,
                        "linecolor": "white",
                        "showbackground": true,
                        "ticks": "",
                        "zerolinecolor": "white"
                      },
                      "yaxis": {
                        "backgroundcolor": "#E5ECF6",
                        "gridcolor": "white",
                        "gridwidth": 2,
                        "linecolor": "white",
                        "showbackground": true,
                        "ticks": "",
                        "zerolinecolor": "white"
                      },
                      "zaxis": {
                        "backgroundcolor": "#E5ECF6",
                        "gridcolor": "white",
                        "gridwidth": 2,
                        "linecolor": "white",
                        "showbackground": true,
                        "ticks": "",
                        "zerolinecolor": "white"
                      }
                    },
                    "shapedefaults": {
                      "line": {
                        "color": "#2a3f5f"
                      }
                    },
                    "ternary": {
                      "aaxis": {
                        "gridcolor": "white",
                        "linecolor": "white",
                        "ticks": ""
                      },
                      "baxis": {
                        "gridcolor": "white",
                        "linecolor": "white",
                        "ticks": ""
                      },
                      "bgcolor": "#E5ECF6",
                      "caxis": {
                        "gridcolor": "white",
                        "linecolor": "white",
                        "ticks": ""
                      }
                    },
                    "title": {
                      "x": 0.05
                    },
                    "xaxis": {
                      "automargin": true,
                      "gridcolor": "white",
                      "linecolor": "white",
                      "ticks": "",
                      "title": {
                        "standoff": 15
                      },
                      "zerolinecolor": "white",
                      "zerolinewidth": 2
                    },
                    "yaxis": {
                      "automargin": true,
                      "gridcolor": "white",
                      "linecolor": "white",
                      "ticks": "",
                      "title": {
                        "standoff": 15
                      },
                      "zerolinecolor": "white",
                      "zerolinewidth": 2
                    }
                  }
                },
                "title": {
                  "text": "Jugadores con menor cantidad de GP en los Playoffs 2002-03",
                  "x": 0.5
                }
              }
            }
          },
          "metadata": {},
          "output_type": "display_data"
        }
      ],
      "source": [
        "# Menor cantidades de GP en 2002-03 Playoffs\n",
        "maxgame=NBA03_PO.sort_values('GP',ascending=False)\n",
        "\n",
        "maxgame=maxgame[137:147]\n",
        "\n",
        "fig = go.Figure(go.Funnel(\n",
        "    y =  list(maxgame['Player']),\n",
        "    x = list(maxgame['GP']))) \n",
        "fig.update_layout(title = \"Jugadores con menor cantidad de GP en los Playoffs 2002-03\",title_x=0.5)\n",
        "fig.show()"
      ]
    },
    {
      "cell_type": "markdown",
      "metadata": {
        "id": "JE6_kZLnKstG"
      },
      "source": [
        "Continuamos por observar mediante un grafico de barras horizontal los mayores anotadores de la Temporada Regular 2002-03"
      ]
    },
    {
      "cell_type": "code",
      "execution_count": 18,
      "metadata": {
        "colab": {
          "base_uri": "https://localhost:8080/",
          "height": 542
        },
        "id": "zEJkCUhFbBtL",
        "outputId": "3e4ef529-82be-4537-e534-9c13e2da02c0"
      },
      "outputs": [
        {
          "data": {
            "application/vnd.plotly.v1+json": {
              "config": {
                "plotlyServerURL": "https://plot.ly"
              },
              "data": [
                {
                  "marker": {
                    "color": [
                      1822,
                      1841,
                      1845,
                      1883,
                      1884,
                      2011,
                      2048,
                      2262,
                      2407,
                      2461
                    ],
                    "colorscale": [
                      [
                        0,
                        "rgb(61, 89, 65)"
                      ],
                      [
                        0.16666666666666666,
                        "rgb(119, 136, 104)"
                      ],
                      [
                        0.3333333333333333,
                        "rgb(181, 185, 145)"
                      ],
                      [
                        0.5,
                        "rgb(246, 237, 189)"
                      ],
                      [
                        0.6666666666666666,
                        "rgb(237, 187, 138)"
                      ],
                      [
                        0.8333333333333334,
                        "rgb(222, 138, 90)"
                      ],
                      [
                        1,
                        "rgb(202, 86, 44)"
                      ]
                    ]
                  },
                  "orientation": "h",
                  "text": [
                    1822,
                    1841,
                    1845,
                    1883,
                    1884,
                    2011,
                    2048,
                    2262,
                    2407,
                    2461
                  ],
                  "textposition": "outside",
                  "type": "bar",
                  "x": [
                    1822,
                    1841,
                    1845,
                    1883,
                    1884,
                    2011,
                    2048,
                    2262,
                    2407,
                    2461
                  ],
                  "y": [
                    "Antawn Jamison",
                    "Shaquille O'Neal",
                    "Allan Houston",
                    "Kevin Garnett",
                    "Tim Duncan",
                    "Dirk Nowitzki",
                    "Paul Pierce",
                    "Allen Iverson",
                    "Tracy McGrady",
                    "Kobe Bryant"
                  ]
                }
              ],
              "layout": {
                "template": {
                  "data": {
                    "bar": [
                      {
                        "error_x": {
                          "color": "#2a3f5f"
                        },
                        "error_y": {
                          "color": "#2a3f5f"
                        },
                        "marker": {
                          "line": {
                            "color": "#E5ECF6",
                            "width": 0.5
                          },
                          "pattern": {
                            "fillmode": "overlay",
                            "size": 10,
                            "solidity": 0.2
                          }
                        },
                        "type": "bar"
                      }
                    ],
                    "barpolar": [
                      {
                        "marker": {
                          "line": {
                            "color": "#E5ECF6",
                            "width": 0.5
                          },
                          "pattern": {
                            "fillmode": "overlay",
                            "size": 10,
                            "solidity": 0.2
                          }
                        },
                        "type": "barpolar"
                      }
                    ],
                    "carpet": [
                      {
                        "aaxis": {
                          "endlinecolor": "#2a3f5f",
                          "gridcolor": "white",
                          "linecolor": "white",
                          "minorgridcolor": "white",
                          "startlinecolor": "#2a3f5f"
                        },
                        "baxis": {
                          "endlinecolor": "#2a3f5f",
                          "gridcolor": "white",
                          "linecolor": "white",
                          "minorgridcolor": "white",
                          "startlinecolor": "#2a3f5f"
                        },
                        "type": "carpet"
                      }
                    ],
                    "choropleth": [
                      {
                        "colorbar": {
                          "outlinewidth": 0,
                          "ticks": ""
                        },
                        "type": "choropleth"
                      }
                    ],
                    "contour": [
                      {
                        "colorbar": {
                          "outlinewidth": 0,
                          "ticks": ""
                        },
                        "colorscale": [
                          [
                            0,
                            "#0d0887"
                          ],
                          [
                            0.1111111111111111,
                            "#46039f"
                          ],
                          [
                            0.2222222222222222,
                            "#7201a8"
                          ],
                          [
                            0.3333333333333333,
                            "#9c179e"
                          ],
                          [
                            0.4444444444444444,
                            "#bd3786"
                          ],
                          [
                            0.5555555555555556,
                            "#d8576b"
                          ],
                          [
                            0.6666666666666666,
                            "#ed7953"
                          ],
                          [
                            0.7777777777777778,
                            "#fb9f3a"
                          ],
                          [
                            0.8888888888888888,
                            "#fdca26"
                          ],
                          [
                            1,
                            "#f0f921"
                          ]
                        ],
                        "type": "contour"
                      }
                    ],
                    "contourcarpet": [
                      {
                        "colorbar": {
                          "outlinewidth": 0,
                          "ticks": ""
                        },
                        "type": "contourcarpet"
                      }
                    ],
                    "heatmap": [
                      {
                        "colorbar": {
                          "outlinewidth": 0,
                          "ticks": ""
                        },
                        "colorscale": [
                          [
                            0,
                            "#0d0887"
                          ],
                          [
                            0.1111111111111111,
                            "#46039f"
                          ],
                          [
                            0.2222222222222222,
                            "#7201a8"
                          ],
                          [
                            0.3333333333333333,
                            "#9c179e"
                          ],
                          [
                            0.4444444444444444,
                            "#bd3786"
                          ],
                          [
                            0.5555555555555556,
                            "#d8576b"
                          ],
                          [
                            0.6666666666666666,
                            "#ed7953"
                          ],
                          [
                            0.7777777777777778,
                            "#fb9f3a"
                          ],
                          [
                            0.8888888888888888,
                            "#fdca26"
                          ],
                          [
                            1,
                            "#f0f921"
                          ]
                        ],
                        "type": "heatmap"
                      }
                    ],
                    "heatmapgl": [
                      {
                        "colorbar": {
                          "outlinewidth": 0,
                          "ticks": ""
                        },
                        "colorscale": [
                          [
                            0,
                            "#0d0887"
                          ],
                          [
                            0.1111111111111111,
                            "#46039f"
                          ],
                          [
                            0.2222222222222222,
                            "#7201a8"
                          ],
                          [
                            0.3333333333333333,
                            "#9c179e"
                          ],
                          [
                            0.4444444444444444,
                            "#bd3786"
                          ],
                          [
                            0.5555555555555556,
                            "#d8576b"
                          ],
                          [
                            0.6666666666666666,
                            "#ed7953"
                          ],
                          [
                            0.7777777777777778,
                            "#fb9f3a"
                          ],
                          [
                            0.8888888888888888,
                            "#fdca26"
                          ],
                          [
                            1,
                            "#f0f921"
                          ]
                        ],
                        "type": "heatmapgl"
                      }
                    ],
                    "histogram": [
                      {
                        "marker": {
                          "pattern": {
                            "fillmode": "overlay",
                            "size": 10,
                            "solidity": 0.2
                          }
                        },
                        "type": "histogram"
                      }
                    ],
                    "histogram2d": [
                      {
                        "colorbar": {
                          "outlinewidth": 0,
                          "ticks": ""
                        },
                        "colorscale": [
                          [
                            0,
                            "#0d0887"
                          ],
                          [
                            0.1111111111111111,
                            "#46039f"
                          ],
                          [
                            0.2222222222222222,
                            "#7201a8"
                          ],
                          [
                            0.3333333333333333,
                            "#9c179e"
                          ],
                          [
                            0.4444444444444444,
                            "#bd3786"
                          ],
                          [
                            0.5555555555555556,
                            "#d8576b"
                          ],
                          [
                            0.6666666666666666,
                            "#ed7953"
                          ],
                          [
                            0.7777777777777778,
                            "#fb9f3a"
                          ],
                          [
                            0.8888888888888888,
                            "#fdca26"
                          ],
                          [
                            1,
                            "#f0f921"
                          ]
                        ],
                        "type": "histogram2d"
                      }
                    ],
                    "histogram2dcontour": [
                      {
                        "colorbar": {
                          "outlinewidth": 0,
                          "ticks": ""
                        },
                        "colorscale": [
                          [
                            0,
                            "#0d0887"
                          ],
                          [
                            0.1111111111111111,
                            "#46039f"
                          ],
                          [
                            0.2222222222222222,
                            "#7201a8"
                          ],
                          [
                            0.3333333333333333,
                            "#9c179e"
                          ],
                          [
                            0.4444444444444444,
                            "#bd3786"
                          ],
                          [
                            0.5555555555555556,
                            "#d8576b"
                          ],
                          [
                            0.6666666666666666,
                            "#ed7953"
                          ],
                          [
                            0.7777777777777778,
                            "#fb9f3a"
                          ],
                          [
                            0.8888888888888888,
                            "#fdca26"
                          ],
                          [
                            1,
                            "#f0f921"
                          ]
                        ],
                        "type": "histogram2dcontour"
                      }
                    ],
                    "mesh3d": [
                      {
                        "colorbar": {
                          "outlinewidth": 0,
                          "ticks": ""
                        },
                        "type": "mesh3d"
                      }
                    ],
                    "parcoords": [
                      {
                        "line": {
                          "colorbar": {
                            "outlinewidth": 0,
                            "ticks": ""
                          }
                        },
                        "type": "parcoords"
                      }
                    ],
                    "pie": [
                      {
                        "automargin": true,
                        "type": "pie"
                      }
                    ],
                    "scatter": [
                      {
                        "fillpattern": {
                          "fillmode": "overlay",
                          "size": 10,
                          "solidity": 0.2
                        },
                        "type": "scatter"
                      }
                    ],
                    "scatter3d": [
                      {
                        "line": {
                          "colorbar": {
                            "outlinewidth": 0,
                            "ticks": ""
                          }
                        },
                        "marker": {
                          "colorbar": {
                            "outlinewidth": 0,
                            "ticks": ""
                          }
                        },
                        "type": "scatter3d"
                      }
                    ],
                    "scattercarpet": [
                      {
                        "marker": {
                          "colorbar": {
                            "outlinewidth": 0,
                            "ticks": ""
                          }
                        },
                        "type": "scattercarpet"
                      }
                    ],
                    "scattergeo": [
                      {
                        "marker": {
                          "colorbar": {
                            "outlinewidth": 0,
                            "ticks": ""
                          }
                        },
                        "type": "scattergeo"
                      }
                    ],
                    "scattergl": [
                      {
                        "marker": {
                          "colorbar": {
                            "outlinewidth": 0,
                            "ticks": ""
                          }
                        },
                        "type": "scattergl"
                      }
                    ],
                    "scattermapbox": [
                      {
                        "marker": {
                          "colorbar": {
                            "outlinewidth": 0,
                            "ticks": ""
                          }
                        },
                        "type": "scattermapbox"
                      }
                    ],
                    "scatterpolar": [
                      {
                        "marker": {
                          "colorbar": {
                            "outlinewidth": 0,
                            "ticks": ""
                          }
                        },
                        "type": "scatterpolar"
                      }
                    ],
                    "scatterpolargl": [
                      {
                        "marker": {
                          "colorbar": {
                            "outlinewidth": 0,
                            "ticks": ""
                          }
                        },
                        "type": "scatterpolargl"
                      }
                    ],
                    "scatterternary": [
                      {
                        "marker": {
                          "colorbar": {
                            "outlinewidth": 0,
                            "ticks": ""
                          }
                        },
                        "type": "scatterternary"
                      }
                    ],
                    "surface": [
                      {
                        "colorbar": {
                          "outlinewidth": 0,
                          "ticks": ""
                        },
                        "colorscale": [
                          [
                            0,
                            "#0d0887"
                          ],
                          [
                            0.1111111111111111,
                            "#46039f"
                          ],
                          [
                            0.2222222222222222,
                            "#7201a8"
                          ],
                          [
                            0.3333333333333333,
                            "#9c179e"
                          ],
                          [
                            0.4444444444444444,
                            "#bd3786"
                          ],
                          [
                            0.5555555555555556,
                            "#d8576b"
                          ],
                          [
                            0.6666666666666666,
                            "#ed7953"
                          ],
                          [
                            0.7777777777777778,
                            "#fb9f3a"
                          ],
                          [
                            0.8888888888888888,
                            "#fdca26"
                          ],
                          [
                            1,
                            "#f0f921"
                          ]
                        ],
                        "type": "surface"
                      }
                    ],
                    "table": [
                      {
                        "cells": {
                          "fill": {
                            "color": "#EBF0F8"
                          },
                          "line": {
                            "color": "white"
                          }
                        },
                        "header": {
                          "fill": {
                            "color": "#C8D4E3"
                          },
                          "line": {
                            "color": "white"
                          }
                        },
                        "type": "table"
                      }
                    ]
                  },
                  "layout": {
                    "annotationdefaults": {
                      "arrowcolor": "#2a3f5f",
                      "arrowhead": 0,
                      "arrowwidth": 1
                    },
                    "autotypenumbers": "strict",
                    "coloraxis": {
                      "colorbar": {
                        "outlinewidth": 0,
                        "ticks": ""
                      }
                    },
                    "colorscale": {
                      "diverging": [
                        [
                          0,
                          "#8e0152"
                        ],
                        [
                          0.1,
                          "#c51b7d"
                        ],
                        [
                          0.2,
                          "#de77ae"
                        ],
                        [
                          0.3,
                          "#f1b6da"
                        ],
                        [
                          0.4,
                          "#fde0ef"
                        ],
                        [
                          0.5,
                          "#f7f7f7"
                        ],
                        [
                          0.6,
                          "#e6f5d0"
                        ],
                        [
                          0.7,
                          "#b8e186"
                        ],
                        [
                          0.8,
                          "#7fbc41"
                        ],
                        [
                          0.9,
                          "#4d9221"
                        ],
                        [
                          1,
                          "#276419"
                        ]
                      ],
                      "sequential": [
                        [
                          0,
                          "#0d0887"
                        ],
                        [
                          0.1111111111111111,
                          "#46039f"
                        ],
                        [
                          0.2222222222222222,
                          "#7201a8"
                        ],
                        [
                          0.3333333333333333,
                          "#9c179e"
                        ],
                        [
                          0.4444444444444444,
                          "#bd3786"
                        ],
                        [
                          0.5555555555555556,
                          "#d8576b"
                        ],
                        [
                          0.6666666666666666,
                          "#ed7953"
                        ],
                        [
                          0.7777777777777778,
                          "#fb9f3a"
                        ],
                        [
                          0.8888888888888888,
                          "#fdca26"
                        ],
                        [
                          1,
                          "#f0f921"
                        ]
                      ],
                      "sequentialminus": [
                        [
                          0,
                          "#0d0887"
                        ],
                        [
                          0.1111111111111111,
                          "#46039f"
                        ],
                        [
                          0.2222222222222222,
                          "#7201a8"
                        ],
                        [
                          0.3333333333333333,
                          "#9c179e"
                        ],
                        [
                          0.4444444444444444,
                          "#bd3786"
                        ],
                        [
                          0.5555555555555556,
                          "#d8576b"
                        ],
                        [
                          0.6666666666666666,
                          "#ed7953"
                        ],
                        [
                          0.7777777777777778,
                          "#fb9f3a"
                        ],
                        [
                          0.8888888888888888,
                          "#fdca26"
                        ],
                        [
                          1,
                          "#f0f921"
                        ]
                      ]
                    },
                    "colorway": [
                      "#636efa",
                      "#EF553B",
                      "#00cc96",
                      "#ab63fa",
                      "#FFA15A",
                      "#19d3f3",
                      "#FF6692",
                      "#B6E880",
                      "#FF97FF",
                      "#FECB52"
                    ],
                    "font": {
                      "color": "#2a3f5f"
                    },
                    "geo": {
                      "bgcolor": "white",
                      "lakecolor": "white",
                      "landcolor": "#E5ECF6",
                      "showlakes": true,
                      "showland": true,
                      "subunitcolor": "white"
                    },
                    "hoverlabel": {
                      "align": "left"
                    },
                    "hovermode": "closest",
                    "mapbox": {
                      "style": "light"
                    },
                    "paper_bgcolor": "white",
                    "plot_bgcolor": "#E5ECF6",
                    "polar": {
                      "angularaxis": {
                        "gridcolor": "white",
                        "linecolor": "white",
                        "ticks": ""
                      },
                      "bgcolor": "#E5ECF6",
                      "radialaxis": {
                        "gridcolor": "white",
                        "linecolor": "white",
                        "ticks": ""
                      }
                    },
                    "scene": {
                      "xaxis": {
                        "backgroundcolor": "#E5ECF6",
                        "gridcolor": "white",
                        "gridwidth": 2,
                        "linecolor": "white",
                        "showbackground": true,
                        "ticks": "",
                        "zerolinecolor": "white"
                      },
                      "yaxis": {
                        "backgroundcolor": "#E5ECF6",
                        "gridcolor": "white",
                        "gridwidth": 2,
                        "linecolor": "white",
                        "showbackground": true,
                        "ticks": "",
                        "zerolinecolor": "white"
                      },
                      "zaxis": {
                        "backgroundcolor": "#E5ECF6",
                        "gridcolor": "white",
                        "gridwidth": 2,
                        "linecolor": "white",
                        "showbackground": true,
                        "ticks": "",
                        "zerolinecolor": "white"
                      }
                    },
                    "shapedefaults": {
                      "line": {
                        "color": "#2a3f5f"
                      }
                    },
                    "ternary": {
                      "aaxis": {
                        "gridcolor": "white",
                        "linecolor": "white",
                        "ticks": ""
                      },
                      "baxis": {
                        "gridcolor": "white",
                        "linecolor": "white",
                        "ticks": ""
                      },
                      "bgcolor": "#E5ECF6",
                      "caxis": {
                        "gridcolor": "white",
                        "linecolor": "white",
                        "ticks": ""
                      }
                    },
                    "title": {
                      "x": 0.05
                    },
                    "xaxis": {
                      "automargin": true,
                      "gridcolor": "white",
                      "linecolor": "white",
                      "ticks": "",
                      "title": {
                        "standoff": 15
                      },
                      "zerolinecolor": "white",
                      "zerolinewidth": 2
                    },
                    "yaxis": {
                      "automargin": true,
                      "gridcolor": "white",
                      "linecolor": "white",
                      "ticks": "",
                      "title": {
                        "standoff": 15
                      },
                      "zerolinecolor": "white",
                      "zerolinewidth": 2
                    }
                  }
                },
                "title": {
                  "text": "Top 10 Players Season Total Points",
                  "x": 0.5
                }
              }
            }
          },
          "metadata": {},
          "output_type": "display_data"
        }
      ],
      "source": [
        "maxscore03=NBA03_S.sort_values('PTS',ascending=True)\n",
        "\n",
        "maxscore03=maxscore03[-10:]\n",
        "\n",
        "fig = go.Figure(go.Bar(\n",
        "    y=maxscore03['Player'],x=maxscore03['PTS'],orientation=\"h\",\n",
        "    marker={'color': maxscore03['PTS'], \n",
        "    'colorscale': 'fall'},  \n",
        "    text=maxscore03['PTS'],\n",
        "    textposition = \"outside\",\n",
        "))\n",
        "fig.update_layout(title = \"Top 10 Players Season Total Points\",title_x=0.5)\n",
        "fig.show()\n",
        "\n",
        "#Observamos que el jugador Kobe Bryant es el jugador con la mayor cantidad de puntos anotados en toda la temporada y post-temoporada 2002-03"
      ]
    },
    {
      "cell_type": "markdown",
      "metadata": {
        "id": "WBpcbuR-Qt4z"
      },
      "source": [
        "Observamos que el jugador Kobe Bryant es el jugador con la mayor cantidad de puntos anotados en toda la temporada y post-temoporada 2002-03\n",
        "\n",
        "Analizaremos al mayor anotador de la temporada, destacando información como la cantidad de partidos jugados, la cantidad de puntos, la cantidad de asisitencias realizadas, rebotes logrados y bloqueos logrados."
      ]
    },
    {
      "cell_type": "code",
      "execution_count": 19,
      "metadata": {
        "colab": {
          "base_uri": "https://localhost:8080/",
          "height": 542
        },
        "id": "Is-ztJESUDv2",
        "outputId": "ba725fc8-68f4-4ea9-eb3d-b40a29fd2996"
      },
      "outputs": [
        {
          "data": {
            "application/vnd.plotly.v1+json": {
              "config": {
                "plotlyServerURL": "https://plot.ly"
              },
              "data": [
                {
                  "domain": {
                    "x": [
                      0.25,
                      1
                    ],
                    "y": [
                      0.1,
                      0.2
                    ]
                  },
                  "gauge": {
                    "axis": {
                      "range": [
                        null,
                        2500
                      ]
                    },
                    "bar": {
                      "color": "blue"
                    },
                    "shape": "bullet"
                  },
                  "mode": "number+gauge",
                  "number": {
                    "font": {
                      "color": "black"
                    }
                  },
                  "title": {
                    "font": {
                      "color": "black",
                      "size": 15
                    },
                    "text": "Partidos Jugados en la temporada regular"
                  },
                  "type": "indicator",
                  "value": 82
                },
                {
                  "domain": {
                    "x": [
                      0.25,
                      1
                    ],
                    "y": [
                      0.3,
                      0.4
                    ]
                  },
                  "gauge": {
                    "axis": {
                      "range": [
                        null,
                        2500
                      ]
                    },
                    "bar": {
                      "color": "cyan"
                    },
                    "shape": "bullet"
                  },
                  "mode": "number+gauge",
                  "number": {
                    "font": {
                      "color": "black"
                    }
                  },
                  "title": {
                    "font": {
                      "color": "black",
                      "size": 15
                    },
                    "text": "Puntos convertidos en la temporada regular"
                  },
                  "type": "indicator",
                  "value": 2461
                },
                {
                  "domain": {
                    "x": [
                      0.25,
                      1
                    ],
                    "y": [
                      0.5,
                      0.6
                    ]
                  },
                  "gauge": {
                    "axis": {
                      "range": [
                        null,
                        2500
                      ]
                    },
                    "bar": {
                      "color": "darkblue"
                    },
                    "shape": "bullet"
                  },
                  "mode": "number+gauge",
                  "number": {
                    "font": {
                      "color": "black"
                    }
                  },
                  "title": {
                    "font": {
                      "color": "black",
                      "size": 15
                    },
                    "text": "Asistencias realizadas en la temporada regular"
                  },
                  "type": "indicator",
                  "value": 480
                },
                {
                  "domain": {
                    "x": [
                      0.25,
                      1
                    ],
                    "y": [
                      0.7,
                      0.8
                    ]
                  },
                  "gauge": {
                    "axis": {
                      "range": [
                        null,
                        2500
                      ]
                    },
                    "bar": {
                      "color": "darkcyan"
                    },
                    "shape": "bullet"
                  },
                  "mode": "number+gauge",
                  "number": {
                    "font": {
                      "color": "black"
                    }
                  },
                  "title": {
                    "font": {
                      "color": "black",
                      "size": 15
                    },
                    "text": "Rebotes ganados en la temporada regular"
                  },
                  "type": "indicator",
                  "value": 564
                },
                {
                  "domain": {
                    "x": [
                      0.25,
                      1
                    ],
                    "y": [
                      0.9,
                      1
                    ]
                  },
                  "gauge": {
                    "axis": {
                      "range": [
                        null,
                        2500
                      ]
                    },
                    "bar": {
                      "color": "red"
                    },
                    "shape": "bullet"
                  },
                  "mode": "number+gauge",
                  "number": {
                    "font": {
                      "color": "black"
                    }
                  },
                  "title": {
                    "font": {
                      "color": "black",
                      "size": 15
                    },
                    "text": "Bloqueos realizados en la temporada regular"
                  },
                  "type": "indicator",
                  "value": 67
                }
              ],
              "layout": {
                "template": {
                  "data": {
                    "bar": [
                      {
                        "error_x": {
                          "color": "#2a3f5f"
                        },
                        "error_y": {
                          "color": "#2a3f5f"
                        },
                        "marker": {
                          "line": {
                            "color": "#E5ECF6",
                            "width": 0.5
                          },
                          "pattern": {
                            "fillmode": "overlay",
                            "size": 10,
                            "solidity": 0.2
                          }
                        },
                        "type": "bar"
                      }
                    ],
                    "barpolar": [
                      {
                        "marker": {
                          "line": {
                            "color": "#E5ECF6",
                            "width": 0.5
                          },
                          "pattern": {
                            "fillmode": "overlay",
                            "size": 10,
                            "solidity": 0.2
                          }
                        },
                        "type": "barpolar"
                      }
                    ],
                    "carpet": [
                      {
                        "aaxis": {
                          "endlinecolor": "#2a3f5f",
                          "gridcolor": "white",
                          "linecolor": "white",
                          "minorgridcolor": "white",
                          "startlinecolor": "#2a3f5f"
                        },
                        "baxis": {
                          "endlinecolor": "#2a3f5f",
                          "gridcolor": "white",
                          "linecolor": "white",
                          "minorgridcolor": "white",
                          "startlinecolor": "#2a3f5f"
                        },
                        "type": "carpet"
                      }
                    ],
                    "choropleth": [
                      {
                        "colorbar": {
                          "outlinewidth": 0,
                          "ticks": ""
                        },
                        "type": "choropleth"
                      }
                    ],
                    "contour": [
                      {
                        "colorbar": {
                          "outlinewidth": 0,
                          "ticks": ""
                        },
                        "colorscale": [
                          [
                            0,
                            "#0d0887"
                          ],
                          [
                            0.1111111111111111,
                            "#46039f"
                          ],
                          [
                            0.2222222222222222,
                            "#7201a8"
                          ],
                          [
                            0.3333333333333333,
                            "#9c179e"
                          ],
                          [
                            0.4444444444444444,
                            "#bd3786"
                          ],
                          [
                            0.5555555555555556,
                            "#d8576b"
                          ],
                          [
                            0.6666666666666666,
                            "#ed7953"
                          ],
                          [
                            0.7777777777777778,
                            "#fb9f3a"
                          ],
                          [
                            0.8888888888888888,
                            "#fdca26"
                          ],
                          [
                            1,
                            "#f0f921"
                          ]
                        ],
                        "type": "contour"
                      }
                    ],
                    "contourcarpet": [
                      {
                        "colorbar": {
                          "outlinewidth": 0,
                          "ticks": ""
                        },
                        "type": "contourcarpet"
                      }
                    ],
                    "heatmap": [
                      {
                        "colorbar": {
                          "outlinewidth": 0,
                          "ticks": ""
                        },
                        "colorscale": [
                          [
                            0,
                            "#0d0887"
                          ],
                          [
                            0.1111111111111111,
                            "#46039f"
                          ],
                          [
                            0.2222222222222222,
                            "#7201a8"
                          ],
                          [
                            0.3333333333333333,
                            "#9c179e"
                          ],
                          [
                            0.4444444444444444,
                            "#bd3786"
                          ],
                          [
                            0.5555555555555556,
                            "#d8576b"
                          ],
                          [
                            0.6666666666666666,
                            "#ed7953"
                          ],
                          [
                            0.7777777777777778,
                            "#fb9f3a"
                          ],
                          [
                            0.8888888888888888,
                            "#fdca26"
                          ],
                          [
                            1,
                            "#f0f921"
                          ]
                        ],
                        "type": "heatmap"
                      }
                    ],
                    "heatmapgl": [
                      {
                        "colorbar": {
                          "outlinewidth": 0,
                          "ticks": ""
                        },
                        "colorscale": [
                          [
                            0,
                            "#0d0887"
                          ],
                          [
                            0.1111111111111111,
                            "#46039f"
                          ],
                          [
                            0.2222222222222222,
                            "#7201a8"
                          ],
                          [
                            0.3333333333333333,
                            "#9c179e"
                          ],
                          [
                            0.4444444444444444,
                            "#bd3786"
                          ],
                          [
                            0.5555555555555556,
                            "#d8576b"
                          ],
                          [
                            0.6666666666666666,
                            "#ed7953"
                          ],
                          [
                            0.7777777777777778,
                            "#fb9f3a"
                          ],
                          [
                            0.8888888888888888,
                            "#fdca26"
                          ],
                          [
                            1,
                            "#f0f921"
                          ]
                        ],
                        "type": "heatmapgl"
                      }
                    ],
                    "histogram": [
                      {
                        "marker": {
                          "pattern": {
                            "fillmode": "overlay",
                            "size": 10,
                            "solidity": 0.2
                          }
                        },
                        "type": "histogram"
                      }
                    ],
                    "histogram2d": [
                      {
                        "colorbar": {
                          "outlinewidth": 0,
                          "ticks": ""
                        },
                        "colorscale": [
                          [
                            0,
                            "#0d0887"
                          ],
                          [
                            0.1111111111111111,
                            "#46039f"
                          ],
                          [
                            0.2222222222222222,
                            "#7201a8"
                          ],
                          [
                            0.3333333333333333,
                            "#9c179e"
                          ],
                          [
                            0.4444444444444444,
                            "#bd3786"
                          ],
                          [
                            0.5555555555555556,
                            "#d8576b"
                          ],
                          [
                            0.6666666666666666,
                            "#ed7953"
                          ],
                          [
                            0.7777777777777778,
                            "#fb9f3a"
                          ],
                          [
                            0.8888888888888888,
                            "#fdca26"
                          ],
                          [
                            1,
                            "#f0f921"
                          ]
                        ],
                        "type": "histogram2d"
                      }
                    ],
                    "histogram2dcontour": [
                      {
                        "colorbar": {
                          "outlinewidth": 0,
                          "ticks": ""
                        },
                        "colorscale": [
                          [
                            0,
                            "#0d0887"
                          ],
                          [
                            0.1111111111111111,
                            "#46039f"
                          ],
                          [
                            0.2222222222222222,
                            "#7201a8"
                          ],
                          [
                            0.3333333333333333,
                            "#9c179e"
                          ],
                          [
                            0.4444444444444444,
                            "#bd3786"
                          ],
                          [
                            0.5555555555555556,
                            "#d8576b"
                          ],
                          [
                            0.6666666666666666,
                            "#ed7953"
                          ],
                          [
                            0.7777777777777778,
                            "#fb9f3a"
                          ],
                          [
                            0.8888888888888888,
                            "#fdca26"
                          ],
                          [
                            1,
                            "#f0f921"
                          ]
                        ],
                        "type": "histogram2dcontour"
                      }
                    ],
                    "mesh3d": [
                      {
                        "colorbar": {
                          "outlinewidth": 0,
                          "ticks": ""
                        },
                        "type": "mesh3d"
                      }
                    ],
                    "parcoords": [
                      {
                        "line": {
                          "colorbar": {
                            "outlinewidth": 0,
                            "ticks": ""
                          }
                        },
                        "type": "parcoords"
                      }
                    ],
                    "pie": [
                      {
                        "automargin": true,
                        "type": "pie"
                      }
                    ],
                    "scatter": [
                      {
                        "fillpattern": {
                          "fillmode": "overlay",
                          "size": 10,
                          "solidity": 0.2
                        },
                        "type": "scatter"
                      }
                    ],
                    "scatter3d": [
                      {
                        "line": {
                          "colorbar": {
                            "outlinewidth": 0,
                            "ticks": ""
                          }
                        },
                        "marker": {
                          "colorbar": {
                            "outlinewidth": 0,
                            "ticks": ""
                          }
                        },
                        "type": "scatter3d"
                      }
                    ],
                    "scattercarpet": [
                      {
                        "marker": {
                          "colorbar": {
                            "outlinewidth": 0,
                            "ticks": ""
                          }
                        },
                        "type": "scattercarpet"
                      }
                    ],
                    "scattergeo": [
                      {
                        "marker": {
                          "colorbar": {
                            "outlinewidth": 0,
                            "ticks": ""
                          }
                        },
                        "type": "scattergeo"
                      }
                    ],
                    "scattergl": [
                      {
                        "marker": {
                          "colorbar": {
                            "outlinewidth": 0,
                            "ticks": ""
                          }
                        },
                        "type": "scattergl"
                      }
                    ],
                    "scattermapbox": [
                      {
                        "marker": {
                          "colorbar": {
                            "outlinewidth": 0,
                            "ticks": ""
                          }
                        },
                        "type": "scattermapbox"
                      }
                    ],
                    "scatterpolar": [
                      {
                        "marker": {
                          "colorbar": {
                            "outlinewidth": 0,
                            "ticks": ""
                          }
                        },
                        "type": "scatterpolar"
                      }
                    ],
                    "scatterpolargl": [
                      {
                        "marker": {
                          "colorbar": {
                            "outlinewidth": 0,
                            "ticks": ""
                          }
                        },
                        "type": "scatterpolargl"
                      }
                    ],
                    "scatterternary": [
                      {
                        "marker": {
                          "colorbar": {
                            "outlinewidth": 0,
                            "ticks": ""
                          }
                        },
                        "type": "scatterternary"
                      }
                    ],
                    "surface": [
                      {
                        "colorbar": {
                          "outlinewidth": 0,
                          "ticks": ""
                        },
                        "colorscale": [
                          [
                            0,
                            "#0d0887"
                          ],
                          [
                            0.1111111111111111,
                            "#46039f"
                          ],
                          [
                            0.2222222222222222,
                            "#7201a8"
                          ],
                          [
                            0.3333333333333333,
                            "#9c179e"
                          ],
                          [
                            0.4444444444444444,
                            "#bd3786"
                          ],
                          [
                            0.5555555555555556,
                            "#d8576b"
                          ],
                          [
                            0.6666666666666666,
                            "#ed7953"
                          ],
                          [
                            0.7777777777777778,
                            "#fb9f3a"
                          ],
                          [
                            0.8888888888888888,
                            "#fdca26"
                          ],
                          [
                            1,
                            "#f0f921"
                          ]
                        ],
                        "type": "surface"
                      }
                    ],
                    "table": [
                      {
                        "cells": {
                          "fill": {
                            "color": "#EBF0F8"
                          },
                          "line": {
                            "color": "white"
                          }
                        },
                        "header": {
                          "fill": {
                            "color": "#C8D4E3"
                          },
                          "line": {
                            "color": "white"
                          }
                        },
                        "type": "table"
                      }
                    ]
                  },
                  "layout": {
                    "annotationdefaults": {
                      "arrowcolor": "#2a3f5f",
                      "arrowhead": 0,
                      "arrowwidth": 1
                    },
                    "autotypenumbers": "strict",
                    "coloraxis": {
                      "colorbar": {
                        "outlinewidth": 0,
                        "ticks": ""
                      }
                    },
                    "colorscale": {
                      "diverging": [
                        [
                          0,
                          "#8e0152"
                        ],
                        [
                          0.1,
                          "#c51b7d"
                        ],
                        [
                          0.2,
                          "#de77ae"
                        ],
                        [
                          0.3,
                          "#f1b6da"
                        ],
                        [
                          0.4,
                          "#fde0ef"
                        ],
                        [
                          0.5,
                          "#f7f7f7"
                        ],
                        [
                          0.6,
                          "#e6f5d0"
                        ],
                        [
                          0.7,
                          "#b8e186"
                        ],
                        [
                          0.8,
                          "#7fbc41"
                        ],
                        [
                          0.9,
                          "#4d9221"
                        ],
                        [
                          1,
                          "#276419"
                        ]
                      ],
                      "sequential": [
                        [
                          0,
                          "#0d0887"
                        ],
                        [
                          0.1111111111111111,
                          "#46039f"
                        ],
                        [
                          0.2222222222222222,
                          "#7201a8"
                        ],
                        [
                          0.3333333333333333,
                          "#9c179e"
                        ],
                        [
                          0.4444444444444444,
                          "#bd3786"
                        ],
                        [
                          0.5555555555555556,
                          "#d8576b"
                        ],
                        [
                          0.6666666666666666,
                          "#ed7953"
                        ],
                        [
                          0.7777777777777778,
                          "#fb9f3a"
                        ],
                        [
                          0.8888888888888888,
                          "#fdca26"
                        ],
                        [
                          1,
                          "#f0f921"
                        ]
                      ],
                      "sequentialminus": [
                        [
                          0,
                          "#0d0887"
                        ],
                        [
                          0.1111111111111111,
                          "#46039f"
                        ],
                        [
                          0.2222222222222222,
                          "#7201a8"
                        ],
                        [
                          0.3333333333333333,
                          "#9c179e"
                        ],
                        [
                          0.4444444444444444,
                          "#bd3786"
                        ],
                        [
                          0.5555555555555556,
                          "#d8576b"
                        ],
                        [
                          0.6666666666666666,
                          "#ed7953"
                        ],
                        [
                          0.7777777777777778,
                          "#fb9f3a"
                        ],
                        [
                          0.8888888888888888,
                          "#fdca26"
                        ],
                        [
                          1,
                          "#f0f921"
                        ]
                      ]
                    },
                    "colorway": [
                      "#636efa",
                      "#EF553B",
                      "#00cc96",
                      "#ab63fa",
                      "#FFA15A",
                      "#19d3f3",
                      "#FF6692",
                      "#B6E880",
                      "#FF97FF",
                      "#FECB52"
                    ],
                    "font": {
                      "color": "#2a3f5f"
                    },
                    "geo": {
                      "bgcolor": "white",
                      "lakecolor": "white",
                      "landcolor": "#E5ECF6",
                      "showlakes": true,
                      "showland": true,
                      "subunitcolor": "white"
                    },
                    "hoverlabel": {
                      "align": "left"
                    },
                    "hovermode": "closest",
                    "mapbox": {
                      "style": "light"
                    },
                    "paper_bgcolor": "white",
                    "plot_bgcolor": "#E5ECF6",
                    "polar": {
                      "angularaxis": {
                        "gridcolor": "white",
                        "linecolor": "white",
                        "ticks": ""
                      },
                      "bgcolor": "#E5ECF6",
                      "radialaxis": {
                        "gridcolor": "white",
                        "linecolor": "white",
                        "ticks": ""
                      }
                    },
                    "scene": {
                      "xaxis": {
                        "backgroundcolor": "#E5ECF6",
                        "gridcolor": "white",
                        "gridwidth": 2,
                        "linecolor": "white",
                        "showbackground": true,
                        "ticks": "",
                        "zerolinecolor": "white"
                      },
                      "yaxis": {
                        "backgroundcolor": "#E5ECF6",
                        "gridcolor": "white",
                        "gridwidth": 2,
                        "linecolor": "white",
                        "showbackground": true,
                        "ticks": "",
                        "zerolinecolor": "white"
                      },
                      "zaxis": {
                        "backgroundcolor": "#E5ECF6",
                        "gridcolor": "white",
                        "gridwidth": 2,
                        "linecolor": "white",
                        "showbackground": true,
                        "ticks": "",
                        "zerolinecolor": "white"
                      }
                    },
                    "shapedefaults": {
                      "line": {
                        "color": "#2a3f5f"
                      }
                    },
                    "ternary": {
                      "aaxis": {
                        "gridcolor": "white",
                        "linecolor": "white",
                        "ticks": ""
                      },
                      "baxis": {
                        "gridcolor": "white",
                        "linecolor": "white",
                        "ticks": ""
                      },
                      "bgcolor": "#E5ECF6",
                      "caxis": {
                        "gridcolor": "white",
                        "linecolor": "white",
                        "ticks": ""
                      }
                    },
                    "title": {
                      "x": 0.05
                    },
                    "xaxis": {
                      "automargin": true,
                      "gridcolor": "white",
                      "linecolor": "white",
                      "ticks": "",
                      "title": {
                        "standoff": 15
                      },
                      "zerolinecolor": "white",
                      "zerolinewidth": 2
                    },
                    "yaxis": {
                      "automargin": true,
                      "gridcolor": "white",
                      "linecolor": "white",
                      "ticks": "",
                      "title": {
                        "standoff": 15
                      },
                      "zerolinecolor": "white",
                      "zerolinewidth": 2
                    }
                  }
                },
                "title": {
                  "text": " Kobe Bryant Regular Season  ",
                  "x": 0.5
                }
              }
            }
          },
          "metadata": {},
          "output_type": "display_data"
        }
      ],
      "source": [
        "kobe = NBA03_S[NBA03_S['Player']=='Kobe Bryant']\n",
        "\n",
        "sum_pts=kobe.PTS.sum()\n",
        "\n",
        "sum_ast=kobe.AST.sum()\n",
        "\n",
        "sum_reb=kobe.REB.sum()\n",
        "\n",
        "sum_blk=kobe.BLK.sum()\n",
        "\n",
        "sum_game=kobe.GP.sum()\n",
        "\n",
        "fig = go.Figure()\n",
        "\n",
        "fig.add_trace(go.Indicator(\n",
        "    mode = \"number+gauge\", value =  sum_game,\n",
        "    domain = {'x': [0.25, 1], 'y': [0.1, 0.2]},\n",
        "    title = {'text': \"Partidos Jugados en la temporada regular\",'font':{'color': 'black','size':15}},\n",
        "     number={'font':{'color': 'black'}},\n",
        "    gauge = {\n",
        "        'shape': \"bullet\",\n",
        "        'axis': {'range': [None, 2500]},\n",
        "        'bar': {'color': \"blue\"}}))\n",
        "fig.add_trace(go.Indicator(\n",
        "    mode = \"number+gauge\", value = sum_pts,\n",
        "    domain = {'x': [0.25, 1], 'y': [0.3, 0.4]},\n",
        "    title = {'text': \"Puntos convertidos en la temporada regular\",'font':{'color': 'black','size':15}},\n",
        "    number={'font':{'color': 'black'}},\n",
        "    gauge = {\n",
        "        'shape': \"bullet\",\n",
        "        'axis': {'range': [None,2500]},\n",
        "        'bar': {'color': \"cyan\"}}))\n",
        "\n",
        "fig.add_trace(go.Indicator(\n",
        "    mode = \"number+gauge\", value = sum_ast,\n",
        "    domain = {'x': [0.25, 1], 'y': [0.5, 0.6]},\n",
        "    title = {'text' :\"Asistencias realizadas en la temporada regular\",'font':{'color': 'black','size':15}},\n",
        "     number={'font':{'color': 'black'}},\n",
        "    gauge = {\n",
        "        'shape': \"bullet\",\n",
        "        'axis': {'range': [None,2500]},\n",
        "        'bar': {'color': \"darkblue\"}}\n",
        "))\n",
        "fig.add_trace(go.Indicator(\n",
        "    mode = \"number+gauge\", value = sum_reb,\n",
        "    domain = {'x': [0.25, 1], 'y': [0.7, 0.8]},\n",
        "    title = {'text' :\"Rebotes ganados en la temporada regular\",'font':{'color': 'black','size':15}},\n",
        "     number={'font':{'color': 'black'}},\n",
        "    gauge = {\n",
        "        'shape': \"bullet\",\n",
        "        'axis': {'range': [None,2500]},\n",
        "        'bar': {'color': \"darkcyan\"}}\n",
        "))\n",
        "fig.add_trace(go.Indicator(\n",
        "    mode = \"number+gauge\", value = sum_blk,\n",
        "    domain = {'x': [0.25, 1], 'y': [0.9,1]},\n",
        "    title = {'text' :\"Bloqueos realizados en la temporada regular\",'font':{'color': 'black','size':15}},\n",
        "     number={'font':{'color': 'black'}},\n",
        "    gauge = {\n",
        "        'shape': \"bullet\",\n",
        "        'axis': {'range': [None,2500]},\n",
        "        'bar': {'color': \"red\"}}\n",
        "))\n",
        "fig.update_layout(title=\" Kobe Bryant Regular Season  \",title_x=0.5)\n",
        "fig.show()"
      ]
    },
    {
      "cell_type": "markdown",
      "metadata": {
        "id": "kzp7e-SSiiBS"
      },
      "source": [
        "Analizaremos los Puntos realizados por el mayor anotador de la temporada, Kobe Bryant.\n",
        "Es decir, veremos la comparación de los 3 distintos tipos de tiro (FG, FT, 3P) entre los intentados y los anotados. "
      ]
    },
    {
      "cell_type": "code",
      "execution_count": 20,
      "metadata": {
        "colab": {
          "base_uri": "https://localhost:8080/",
          "height": 297
        },
        "id": "beY5GeReyXaE",
        "outputId": "fbe1cf16-60a8-4912-f1a7-ee0af5a81369"
      },
      "outputs": [
        {
          "data": {
            "image/png": "[encoded data removed]",
            "text/plain": [
              "<Figure size 432x288 with 1 Axes>"
            ]
          },
          "metadata": {
            "needs_background": "light"
          },
          "output_type": "display_data"
        }
      ],
      "source": [
        "sum_fgm_kobe = kobe.FGM.sum()\n",
        "\n",
        "sum_fga_kobe = kobe.FGA.sum()\n",
        "\n",
        "sum_3pm_kobe = kobe.TPM.sum()\n",
        "\n",
        "sum_3pa_kobe = kobe.TPA.sum()\n",
        "\n",
        "sum_ftm_kobe = kobe.FTM.sum()\n",
        "\n",
        "sum_fta_kobe = kobe.FTA.sum()\n",
        "\n",
        "eje_x = ['FGM/FGA', '3PM/3PA', 'FTM/FTA']\n",
        "\n",
        "made = [sum_fgm_kobe, sum_3pm_kobe, sum_ftm_kobe]\n",
        "\n",
        "attempts = [sum_fga_kobe, sum_3pa_kobe, sum_fta_kobe]\n",
        "\n",
        "#Obtenemos la posicion de cada etiqueta en el eje de X\n",
        "x = np.arange(len(eje_x))\n",
        "#tamaño de cada barra\n",
        "width = 0.35\n",
        "\n",
        "fig, ax = plt.subplots()\n",
        "\n",
        "#Generamos las barras para el conjunto de hombres\n",
        "rects1 = ax.bar(x - width/2, made, width, label='ANOTADOS')\n",
        "#Generamos las barras para el conjunto de mujeres\n",
        "rects2 = ax.bar(x + width/2, attempts, width, label='INTENTADOS')\n",
        "\n",
        "#Añadimos las etiquetas de identificacion de valores en el grafico\n",
        "ax.set_ylabel('Puntos')\n",
        "ax.set_title('Composición de puntos de Kobe Bryant')\n",
        "ax.set_xticks(x)\n",
        "ax.set_xticklabels(eje_x)\n",
        "#Añadimos un legen() esto permite mmostrar con colores a que pertence cada valor.\n",
        "ax.legend()\n",
        "\n",
        "def autolabel(rects):\n",
        "    \"\"\"Funcion para agregar una etiqueta con el valor en cada barra\"\"\"\n",
        "    for rect in rects:\n",
        "        height = rect.get_height()\n",
        "        ax.annotate('{}'.format(height),\n",
        "                    xy=(rect.get_x() + rect.get_width() / 2, height),\n",
        "                    xytext=(0, 3),  # 3 points vertical offset\n",
        "                    textcoords=\"offset points\",\n",
        "                    ha='center', va='bottom')\n",
        "\n",
        "#Añadimos las etiquetas para cada barra\n",
        "autolabel(rects1)\n",
        "autolabel(rects2)\n",
        "fig.tight_layout()\n",
        "plt.savefig('doble_barra.png')\n",
        "#Mostramos la grafica con el metodo show()\n",
        "plt.show()"
      ]
    },
    {
      "cell_type": "markdown",
      "metadata": {
        "id": "xXwuKjgGYwLh"
      },
      "source": [
        "A continuación, haremos el mismo analisis pero enfocandonos en los playoffs.\n",
        "Analizaremos lo mismo pero en la instancia de post-temporada. "
      ]
    },
    {
      "cell_type": "code",
      "execution_count": 21,
      "metadata": {
        "colab": {
          "base_uri": "https://localhost:8080/",
          "height": 542
        },
        "id": "leRVc1gC-4eD",
        "outputId": "479cdfac-47ca-4b4b-f195-857d16918b89"
      },
      "outputs": [
        {
          "data": {
            "application/vnd.plotly.v1+json": {
              "config": {
                "plotlyServerURL": "https://plot.ly"
              },
              "data": [
                {
                  "marker": {
                    "color": [
                      352,
                      366,
                      378,
                      380,
                      383,
                      385,
                      389,
                      402,
                      430,
                      593
                    ],
                    "colorscale": [
                      [
                        0,
                        "rgb(61, 89, 65)"
                      ],
                      [
                        0.16666666666666666,
                        "rgb(119, 136, 104)"
                      ],
                      [
                        0.3333333333333333,
                        "rgb(181, 185, 145)"
                      ],
                      [
                        0.5,
                        "rgb(246, 237, 189)"
                      ],
                      [
                        0.6666666666666666,
                        "rgb(237, 187, 138)"
                      ],
                      [
                        0.8333333333333334,
                        "rgb(222, 138, 90)"
                      ],
                      [
                        1,
                        "rgb(202, 86, 44)"
                      ]
                    ]
                  },
                  "orientation": "h",
                  "text": [
                    352,
                    366,
                    378,
                    380,
                    383,
                    385,
                    389,
                    402,
                    430,
                    593
                  ],
                  "textposition": "outside",
                  "type": "bar",
                  "x": [
                    352,
                    366,
                    378,
                    380,
                    383,
                    385,
                    389,
                    402,
                    430,
                    593
                  ],
                  "y": [
                    "Tony Parker",
                    "Michael Finley",
                    "Kenyon Martin",
                    "Allen Iverson",
                    "Richard Hamilton",
                    "Kobe Bryant",
                    "Nick Van Exel",
                    "Jason Kidd",
                    "Dirk Nowitzki",
                    "Tim Duncan"
                  ]
                }
              ],
              "layout": {
                "template": {
                  "data": {
                    "bar": [
                      {
                        "error_x": {
                          "color": "#2a3f5f"
                        },
                        "error_y": {
                          "color": "#2a3f5f"
                        },
                        "marker": {
                          "line": {
                            "color": "#E5ECF6",
                            "width": 0.5
                          },
                          "pattern": {
                            "fillmode": "overlay",
                            "size": 10,
                            "solidity": 0.2
                          }
                        },
                        "type": "bar"
                      }
                    ],
                    "barpolar": [
                      {
                        "marker": {
                          "line": {
                            "color": "#E5ECF6",
                            "width": 0.5
                          },
                          "pattern": {
                            "fillmode": "overlay",
                            "size": 10,
                            "solidity": 0.2
                          }
                        },
                        "type": "barpolar"
                      }
                    ],
                    "carpet": [
                      {
                        "aaxis": {
                          "endlinecolor": "#2a3f5f",
                          "gridcolor": "white",
                          "linecolor": "white",
                          "minorgridcolor": "white",
                          "startlinecolor": "#2a3f5f"
                        },
                        "baxis": {
                          "endlinecolor": "#2a3f5f",
                          "gridcolor": "white",
                          "linecolor": "white",
                          "minorgridcolor": "white",
                          "startlinecolor": "#2a3f5f"
                        },
                        "type": "carpet"
                      }
                    ],
                    "choropleth": [
                      {
                        "colorbar": {
                          "outlinewidth": 0,
                          "ticks": ""
                        },
                        "type": "choropleth"
                      }
                    ],
                    "contour": [
                      {
                        "colorbar": {
                          "outlinewidth": 0,
                          "ticks": ""
                        },
                        "colorscale": [
                          [
                            0,
                            "#0d0887"
                          ],
                          [
                            0.1111111111111111,
                            "#46039f"
                          ],
                          [
                            0.2222222222222222,
                            "#7201a8"
                          ],
                          [
                            0.3333333333333333,
                            "#9c179e"
                          ],
                          [
                            0.4444444444444444,
                            "#bd3786"
                          ],
                          [
                            0.5555555555555556,
                            "#d8576b"
                          ],
                          [
                            0.6666666666666666,
                            "#ed7953"
                          ],
                          [
                            0.7777777777777778,
                            "#fb9f3a"
                          ],
                          [
                            0.8888888888888888,
                            "#fdca26"
                          ],
                          [
                            1,
                            "#f0f921"
                          ]
                        ],
                        "type": "contour"
                      }
                    ],
                    "contourcarpet": [
                      {
                        "colorbar": {
                          "outlinewidth": 0,
                          "ticks": ""
                        },
                        "type": "contourcarpet"
                      }
                    ],
                    "heatmap": [
                      {
                        "colorbar": {
                          "outlinewidth": 0,
                          "ticks": ""
                        },
                        "colorscale": [
                          [
                            0,
                            "#0d0887"
                          ],
                          [
                            0.1111111111111111,
                            "#46039f"
                          ],
                          [
                            0.2222222222222222,
                            "#7201a8"
                          ],
                          [
                            0.3333333333333333,
                            "#9c179e"
                          ],
                          [
                            0.4444444444444444,
                            "#bd3786"
                          ],
                          [
                            0.5555555555555556,
                            "#d8576b"
                          ],
                          [
                            0.6666666666666666,
                            "#ed7953"
                          ],
                          [
                            0.7777777777777778,
                            "#fb9f3a"
                          ],
                          [
                            0.8888888888888888,
                            "#fdca26"
                          ],
                          [
                            1,
                            "#f0f921"
                          ]
                        ],
                        "type": "heatmap"
                      }
                    ],
                    "heatmapgl": [
                      {
                        "colorbar": {
                          "outlinewidth": 0,
                          "ticks": ""
                        },
                        "colorscale": [
                          [
                            0,
                            "#0d0887"
                          ],
                          [
                            0.1111111111111111,
                            "#46039f"
                          ],
                          [
                            0.2222222222222222,
                            "#7201a8"
                          ],
                          [
                            0.3333333333333333,
                            "#9c179e"
                          ],
                          [
                            0.4444444444444444,
                            "#bd3786"
                          ],
                          [
                            0.5555555555555556,
                            "#d8576b"
                          ],
                          [
                            0.6666666666666666,
                            "#ed7953"
                          ],
                          [
                            0.7777777777777778,
                            "#fb9f3a"
                          ],
                          [
                            0.8888888888888888,
                            "#fdca26"
                          ],
                          [
                            1,
                            "#f0f921"
                          ]
                        ],
                        "type": "heatmapgl"
                      }
                    ],
                    "histogram": [
                      {
                        "marker": {
                          "pattern": {
                            "fillmode": "overlay",
                            "size": 10,
                            "solidity": 0.2
                          }
                        },
                        "type": "histogram"
                      }
                    ],
                    "histogram2d": [
                      {
                        "colorbar": {
                          "outlinewidth": 0,
                          "ticks": ""
                        },
                        "colorscale": [
                          [
                            0,
                            "#0d0887"
                          ],
                          [
                            0.1111111111111111,
                            "#46039f"
                          ],
                          [
                            0.2222222222222222,
                            "#7201a8"
                          ],
                          [
                            0.3333333333333333,
                            "#9c179e"
                          ],
                          [
                            0.4444444444444444,
                            "#bd3786"
                          ],
                          [
                            0.5555555555555556,
                            "#d8576b"
                          ],
                          [
                            0.6666666666666666,
                            "#ed7953"
                          ],
                          [
                            0.7777777777777778,
                            "#fb9f3a"
                          ],
                          [
                            0.8888888888888888,
                            "#fdca26"
                          ],
                          [
                            1,
                            "#f0f921"
                          ]
                        ],
                        "type": "histogram2d"
                      }
                    ],
                    "histogram2dcontour": [
                      {
                        "colorbar": {
                          "outlinewidth": 0,
                          "ticks": ""
                        },
                        "colorscale": [
                          [
                            0,
                            "#0d0887"
                          ],
                          [
                            0.1111111111111111,
                            "#46039f"
                          ],
                          [
                            0.2222222222222222,
                            "#7201a8"
                          ],
                          [
                            0.3333333333333333,
                            "#9c179e"
                          ],
                          [
                            0.4444444444444444,
                            "#bd3786"
                          ],
                          [
                            0.5555555555555556,
                            "#d8576b"
                          ],
                          [
                            0.6666666666666666,
                            "#ed7953"
                          ],
                          [
                            0.7777777777777778,
                            "#fb9f3a"
                          ],
                          [
                            0.8888888888888888,
                            "#fdca26"
                          ],
                          [
                            1,
                            "#f0f921"
                          ]
                        ],
                        "type": "histogram2dcontour"
                      }
                    ],
                    "mesh3d": [
                      {
                        "colorbar": {
                          "outlinewidth": 0,
                          "ticks": ""
                        },
                        "type": "mesh3d"
                      }
                    ],
                    "parcoords": [
                      {
                        "line": {
                          "colorbar": {
                            "outlinewidth": 0,
                            "ticks": ""
                          }
                        },
                        "type": "parcoords"
                      }
                    ],
                    "pie": [
                      {
                        "automargin": true,
                        "type": "pie"
                      }
                    ],
                    "scatter": [
                      {
                        "fillpattern": {
                          "fillmode": "overlay",
                          "size": 10,
                          "solidity": 0.2
                        },
                        "type": "scatter"
                      }
                    ],
                    "scatter3d": [
                      {
                        "line": {
                          "colorbar": {
                            "outlinewidth": 0,
                            "ticks": ""
                          }
                        },
                        "marker": {
                          "colorbar": {
                            "outlinewidth": 0,
                            "ticks": ""
                          }
                        },
                        "type": "scatter3d"
                      }
                    ],
                    "scattercarpet": [
                      {
                        "marker": {
                          "colorbar": {
                            "outlinewidth": 0,
                            "ticks": ""
                          }
                        },
                        "type": "scattercarpet"
                      }
                    ],
                    "scattergeo": [
                      {
                        "marker": {
                          "colorbar": {
                            "outlinewidth": 0,
                            "ticks": ""
                          }
                        },
                        "type": "scattergeo"
                      }
                    ],
                    "scattergl": [
                      {
                        "marker": {
                          "colorbar": {
                            "outlinewidth": 0,
                            "ticks": ""
                          }
                        },
                        "type": "scattergl"
                      }
                    ],
                    "scattermapbox": [
                      {
                        "marker": {
                          "colorbar": {
                            "outlinewidth": 0,
                            "ticks": ""
                          }
                        },
                        "type": "scattermapbox"
                      }
                    ],
                    "scatterpolar": [
                      {
                        "marker": {
                          "colorbar": {
                            "outlinewidth": 0,
                            "ticks": ""
                          }
                        },
                        "type": "scatterpolar"
                      }
                    ],
                    "scatterpolargl": [
                      {
                        "marker": {
                          "colorbar": {
                            "outlinewidth": 0,
                            "ticks": ""
                          }
                        },
                        "type": "scatterpolargl"
                      }
                    ],
                    "scatterternary": [
                      {
                        "marker": {
                          "colorbar": {
                            "outlinewidth": 0,
                            "ticks": ""
                          }
                        },
                        "type": "scatterternary"
                      }
                    ],
                    "surface": [
                      {
                        "colorbar": {
                          "outlinewidth": 0,
                          "ticks": ""
                        },
                        "colorscale": [
                          [
                            0,
                            "#0d0887"
                          ],
                          [
                            0.1111111111111111,
                            "#46039f"
                          ],
                          [
                            0.2222222222222222,
                            "#7201a8"
                          ],
                          [
                            0.3333333333333333,
                            "#9c179e"
                          ],
                          [
                            0.4444444444444444,
                            "#bd3786"
                          ],
                          [
                            0.5555555555555556,
                            "#d8576b"
                          ],
                          [
                            0.6666666666666666,
                            "#ed7953"
                          ],
                          [
                            0.7777777777777778,
                            "#fb9f3a"
                          ],
                          [
                            0.8888888888888888,
                            "#fdca26"
                          ],
                          [
                            1,
                            "#f0f921"
                          ]
                        ],
                        "type": "surface"
                      }
                    ],
                    "table": [
                      {
                        "cells": {
                          "fill": {
                            "color": "#EBF0F8"
                          },
                          "line": {
                            "color": "white"
                          }
                        },
                        "header": {
                          "fill": {
                            "color": "#C8D4E3"
                          },
                          "line": {
                            "color": "white"
                          }
                        },
                        "type": "table"
                      }
                    ]
                  },
                  "layout": {
                    "annotationdefaults": {
                      "arrowcolor": "#2a3f5f",
                      "arrowhead": 0,
                      "arrowwidth": 1
                    },
                    "autotypenumbers": "strict",
                    "coloraxis": {
                      "colorbar": {
                        "outlinewidth": 0,
                        "ticks": ""
                      }
                    },
                    "colorscale": {
                      "diverging": [
                        [
                          0,
                          "#8e0152"
                        ],
                        [
                          0.1,
                          "#c51b7d"
                        ],
                        [
                          0.2,
                          "#de77ae"
                        ],
                        [
                          0.3,
                          "#f1b6da"
                        ],
                        [
                          0.4,
                          "#fde0ef"
                        ],
                        [
                          0.5,
                          "#f7f7f7"
                        ],
                        [
                          0.6,
                          "#e6f5d0"
                        ],
                        [
                          0.7,
                          "#b8e186"
                        ],
                        [
                          0.8,
                          "#7fbc41"
                        ],
                        [
                          0.9,
                          "#4d9221"
                        ],
                        [
                          1,
                          "#276419"
                        ]
                      ],
                      "sequential": [
                        [
                          0,
                          "#0d0887"
                        ],
                        [
                          0.1111111111111111,
                          "#46039f"
                        ],
                        [
                          0.2222222222222222,
                          "#7201a8"
                        ],
                        [
                          0.3333333333333333,
                          "#9c179e"
                        ],
                        [
                          0.4444444444444444,
                          "#bd3786"
                        ],
                        [
                          0.5555555555555556,
                          "#d8576b"
                        ],
                        [
                          0.6666666666666666,
                          "#ed7953"
                        ],
                        [
                          0.7777777777777778,
                          "#fb9f3a"
                        ],
                        [
                          0.8888888888888888,
                          "#fdca26"
                        ],
                        [
                          1,
                          "#f0f921"
                        ]
                      ],
                      "sequentialminus": [
                        [
                          0,
                          "#0d0887"
                        ],
                        [
                          0.1111111111111111,
                          "#46039f"
                        ],
                        [
                          0.2222222222222222,
                          "#7201a8"
                        ],
                        [
                          0.3333333333333333,
                          "#9c179e"
                        ],
                        [
                          0.4444444444444444,
                          "#bd3786"
                        ],
                        [
                          0.5555555555555556,
                          "#d8576b"
                        ],
                        [
                          0.6666666666666666,
                          "#ed7953"
                        ],
                        [
                          0.7777777777777778,
                          "#fb9f3a"
                        ],
                        [
                          0.8888888888888888,
                          "#fdca26"
                        ],
                        [
                          1,
                          "#f0f921"
                        ]
                      ]
                    },
                    "colorway": [
                      "#636efa",
                      "#EF553B",
                      "#00cc96",
                      "#ab63fa",
                      "#FFA15A",
                      "#19d3f3",
                      "#FF6692",
                      "#B6E880",
                      "#FF97FF",
                      "#FECB52"
                    ],
                    "font": {
                      "color": "#2a3f5f"
                    },
                    "geo": {
                      "bgcolor": "white",
                      "lakecolor": "white",
                      "landcolor": "#E5ECF6",
                      "showlakes": true,
                      "showland": true,
                      "subunitcolor": "white"
                    },
                    "hoverlabel": {
                      "align": "left"
                    },
                    "hovermode": "closest",
                    "mapbox": {
                      "style": "light"
                    },
                    "paper_bgcolor": "white",
                    "plot_bgcolor": "#E5ECF6",
                    "polar": {
                      "angularaxis": {
                        "gridcolor": "white",
                        "linecolor": "white",
                        "ticks": ""
                      },
                      "bgcolor": "#E5ECF6",
                      "radialaxis": {
                        "gridcolor": "white",
                        "linecolor": "white",
                        "ticks": ""
                      }
                    },
                    "scene": {
                      "xaxis": {
                        "backgroundcolor": "#E5ECF6",
                        "gridcolor": "white",
                        "gridwidth": 2,
                        "linecolor": "white",
                        "showbackground": true,
                        "ticks": "",
                        "zerolinecolor": "white"
                      },
                      "yaxis": {
                        "backgroundcolor": "#E5ECF6",
                        "gridcolor": "white",
                        "gridwidth": 2,
                        "linecolor": "white",
                        "showbackground": true,
                        "ticks": "",
                        "zerolinecolor": "white"
                      },
                      "zaxis": {
                        "backgroundcolor": "#E5ECF6",
                        "gridcolor": "white",
                        "gridwidth": 2,
                        "linecolor": "white",
                        "showbackground": true,
                        "ticks": "",
                        "zerolinecolor": "white"
                      }
                    },
                    "shapedefaults": {
                      "line": {
                        "color": "#2a3f5f"
                      }
                    },
                    "ternary": {
                      "aaxis": {
                        "gridcolor": "white",
                        "linecolor": "white",
                        "ticks": ""
                      },
                      "baxis": {
                        "gridcolor": "white",
                        "linecolor": "white",
                        "ticks": ""
                      },
                      "bgcolor": "#E5ECF6",
                      "caxis": {
                        "gridcolor": "white",
                        "linecolor": "white",
                        "ticks": ""
                      }
                    },
                    "title": {
                      "x": 0.05
                    },
                    "xaxis": {
                      "automargin": true,
                      "gridcolor": "white",
                      "linecolor": "white",
                      "ticks": "",
                      "title": {
                        "standoff": 15
                      },
                      "zerolinecolor": "white",
                      "zerolinewidth": 2
                    },
                    "yaxis": {
                      "automargin": true,
                      "gridcolor": "white",
                      "linecolor": "white",
                      "ticks": "",
                      "title": {
                        "standoff": 15
                      },
                      "zerolinecolor": "white",
                      "zerolinewidth": 2
                    }
                  }
                },
                "title": {
                  "text": "Top 10 Players Season Total Points",
                  "x": 0.5
                }
              }
            }
          },
          "metadata": {},
          "output_type": "display_data"
        }
      ],
      "source": [
        "### TOP SCORES PLAYOFFS ###\n",
        "\n",
        "maxscore03PO=NBA03_PO.sort_values('PTS',ascending=True)\n",
        "\n",
        "maxscore03PO=maxscore03PO[-10:]\n",
        "\n",
        "fig = go.Figure(go.Bar(\n",
        "    y=maxscore03PO['Player'],x=maxscore03PO['PTS'],orientation=\"h\",\n",
        "    marker={'color': maxscore03PO['PTS'], \n",
        "    'colorscale': 'fall'},  \n",
        "    text=maxscore03PO['PTS'],\n",
        "    textposition = \"outside\",\n",
        "))\n",
        "fig.update_layout(title = \"Top 10 Players Season Total Points\",title_x=0.5)\n",
        "fig.show()"
      ]
    },
    {
      "cell_type": "markdown",
      "metadata": {
        "id": "h1aph-BvZEDT"
      },
      "source": [
        "Al ser Tim Duncan el jugador con la mayor cantidad de punto anotados en los Playoffs, analisaremos sus estadisticas de la misma manera que lo hicimos con Kobe Bryant."
      ]
    },
    {
      "cell_type": "code",
      "execution_count": 22,
      "metadata": {
        "colab": {
          "base_uri": "https://localhost:8080/",
          "height": 542
        },
        "id": "-tINCtloFxo7",
        "outputId": "c1bc2a38-578e-4e29-da79-bf98f25d8ff8"
      },
      "outputs": [
        {
          "data": {
            "application/vnd.plotly.v1+json": {
              "config": {
                "plotlyServerURL": "https://plot.ly"
              },
              "data": [
                {
                  "domain": {
                    "x": [
                      0.25,
                      1
                    ],
                    "y": [
                      0.1,
                      0.2
                    ]
                  },
                  "gauge": {
                    "axis": {
                      "range": [
                        null,
                        750
                      ]
                    },
                    "bar": {
                      "color": "blue"
                    },
                    "shape": "bullet"
                  },
                  "mode": "number+gauge",
                  "number": {
                    "font": {
                      "color": "black"
                    }
                  },
                  "title": {
                    "font": {
                      "color": "black",
                      "size": 15
                    },
                    "text": "Partidos Jugados en los Playoffs"
                  },
                  "type": "indicator",
                  "value": 24
                },
                {
                  "domain": {
                    "x": [
                      0.25,
                      1
                    ],
                    "y": [
                      0.3,
                      0.4
                    ]
                  },
                  "gauge": {
                    "axis": {
                      "range": [
                        null,
                        750
                      ]
                    },
                    "bar": {
                      "color": "cyan"
                    },
                    "shape": "bullet"
                  },
                  "mode": "number+gauge",
                  "number": {
                    "font": {
                      "color": "black"
                    }
                  },
                  "title": {
                    "font": {
                      "color": "black",
                      "size": 15
                    },
                    "text": "Puntos anotados en los Playoffs"
                  },
                  "type": "indicator",
                  "value": 593
                },
                {
                  "domain": {
                    "x": [
                      0.25,
                      1
                    ],
                    "y": [
                      0.5,
                      0.6
                    ]
                  },
                  "gauge": {
                    "axis": {
                      "range": [
                        null,
                        750
                      ]
                    },
                    "bar": {
                      "color": "darkblue"
                    },
                    "shape": "bullet"
                  },
                  "mode": "number+gauge",
                  "number": {
                    "font": {
                      "color": "black"
                    }
                  },
                  "title": {
                    "font": {
                      "color": "black",
                      "size": 15
                    },
                    "text": "Asistencias realizadas en los Playoffs"
                  },
                  "type": "indicator",
                  "value": 127
                },
                {
                  "domain": {
                    "x": [
                      0.25,
                      1
                    ],
                    "y": [
                      0.7,
                      0.8
                    ]
                  },
                  "gauge": {
                    "axis": {
                      "range": [
                        null,
                        750
                      ]
                    },
                    "bar": {
                      "color": "darkcyan"
                    },
                    "shape": "bullet"
                  },
                  "mode": "number+gauge",
                  "number": {
                    "font": {
                      "color": "black"
                    }
                  },
                  "title": {
                    "font": {
                      "color": "black",
                      "size": 15
                    },
                    "text": "Rebotes ganados en los Playoffs"
                  },
                  "type": "indicator",
                  "value": 369
                },
                {
                  "domain": {
                    "x": [
                      0.25,
                      1
                    ],
                    "y": [
                      0.9,
                      1
                    ]
                  },
                  "gauge": {
                    "axis": {
                      "range": [
                        null,
                        750
                      ]
                    },
                    "bar": {
                      "color": "red"
                    },
                    "shape": "bullet"
                  },
                  "mode": "number+gauge",
                  "number": {
                    "font": {
                      "color": "black"
                    }
                  },
                  "title": {
                    "font": {
                      "color": "black",
                      "size": 15
                    },
                    "text": "Bloqueos realizados en los Playoffs"
                  },
                  "type": "indicator",
                  "value": 79
                }
              ],
              "layout": {
                "template": {
                  "data": {
                    "bar": [
                      {
                        "error_x": {
                          "color": "#2a3f5f"
                        },
                        "error_y": {
                          "color": "#2a3f5f"
                        },
                        "marker": {
                          "line": {
                            "color": "#E5ECF6",
                            "width": 0.5
                          },
                          "pattern": {
                            "fillmode": "overlay",
                            "size": 10,
                            "solidity": 0.2
                          }
                        },
                        "type": "bar"
                      }
                    ],
                    "barpolar": [
                      {
                        "marker": {
                          "line": {
                            "color": "#E5ECF6",
                            "width": 0.5
                          },
                          "pattern": {
                            "fillmode": "overlay",
                            "size": 10,
                            "solidity": 0.2
                          }
                        },
                        "type": "barpolar"
                      }
                    ],
                    "carpet": [
                      {
                        "aaxis": {
                          "endlinecolor": "#2a3f5f",
                          "gridcolor": "white",
                          "linecolor": "white",
                          "minorgridcolor": "white",
                          "startlinecolor": "#2a3f5f"
                        },
                        "baxis": {
                          "endlinecolor": "#2a3f5f",
                          "gridcolor": "white",
                          "linecolor": "white",
                          "minorgridcolor": "white",
                          "startlinecolor": "#2a3f5f"
                        },
                        "type": "carpet"
                      }
                    ],
                    "choropleth": [
                      {
                        "colorbar": {
                          "outlinewidth": 0,
                          "ticks": ""
                        },
                        "type": "choropleth"
                      }
                    ],
                    "contour": [
                      {
                        "colorbar": {
                          "outlinewidth": 0,
                          "ticks": ""
                        },
                        "colorscale": [
                          [
                            0,
                            "#0d0887"
                          ],
                          [
                            0.1111111111111111,
                            "#46039f"
                          ],
                          [
                            0.2222222222222222,
                            "#7201a8"
                          ],
                          [
                            0.3333333333333333,
                            "#9c179e"
                          ],
                          [
                            0.4444444444444444,
                            "#bd3786"
                          ],
                          [
                            0.5555555555555556,
                            "#d8576b"
                          ],
                          [
                            0.6666666666666666,
                            "#ed7953"
                          ],
                          [
                            0.7777777777777778,
                            "#fb9f3a"
                          ],
                          [
                            0.8888888888888888,
                            "#fdca26"
                          ],
                          [
                            1,
                            "#f0f921"
                          ]
                        ],
                        "type": "contour"
                      }
                    ],
                    "contourcarpet": [
                      {
                        "colorbar": {
                          "outlinewidth": 0,
                          "ticks": ""
                        },
                        "type": "contourcarpet"
                      }
                    ],
                    "heatmap": [
                      {
                        "colorbar": {
                          "outlinewidth": 0,
                          "ticks": ""
                        },
                        "colorscale": [
                          [
                            0,
                            "#0d0887"
                          ],
                          [
                            0.1111111111111111,
                            "#46039f"
                          ],
                          [
                            0.2222222222222222,
                            "#7201a8"
                          ],
                          [
                            0.3333333333333333,
                            "#9c179e"
                          ],
                          [
                            0.4444444444444444,
                            "#bd3786"
                          ],
                          [
                            0.5555555555555556,
                            "#d8576b"
                          ],
                          [
                            0.6666666666666666,
                            "#ed7953"
                          ],
                          [
                            0.7777777777777778,
                            "#fb9f3a"
                          ],
                          [
                            0.8888888888888888,
                            "#fdca26"
                          ],
                          [
                            1,
                            "#f0f921"
                          ]
                        ],
                        "type": "heatmap"
                      }
                    ],
                    "heatmapgl": [
                      {
                        "colorbar": {
                          "outlinewidth": 0,
                          "ticks": ""
                        },
                        "colorscale": [
                          [
                            0,
                            "#0d0887"
                          ],
                          [
                            0.1111111111111111,
                            "#46039f"
                          ],
                          [
                            0.2222222222222222,
                            "#7201a8"
                          ],
                          [
                            0.3333333333333333,
                            "#9c179e"
                          ],
                          [
                            0.4444444444444444,
                            "#bd3786"
                          ],
                          [
                            0.5555555555555556,
                            "#d8576b"
                          ],
                          [
                            0.6666666666666666,
                            "#ed7953"
                          ],
                          [
                            0.7777777777777778,
                            "#fb9f3a"
                          ],
                          [
                            0.8888888888888888,
                            "#fdca26"
                          ],
                          [
                            1,
                            "#f0f921"
                          ]
                        ],
                        "type": "heatmapgl"
                      }
                    ],
                    "histogram": [
                      {
                        "marker": {
                          "pattern": {
                            "fillmode": "overlay",
                            "size": 10,
                            "solidity": 0.2
                          }
                        },
                        "type": "histogram"
                      }
                    ],
                    "histogram2d": [
                      {
                        "colorbar": {
                          "outlinewidth": 0,
                          "ticks": ""
                        },
                        "colorscale": [
                          [
                            0,
                            "#0d0887"
                          ],
                          [
                            0.1111111111111111,
                            "#46039f"
                          ],
                          [
                            0.2222222222222222,
                            "#7201a8"
                          ],
                          [
                            0.3333333333333333,
                            "#9c179e"
                          ],
                          [
                            0.4444444444444444,
                            "#bd3786"
                          ],
                          [
                            0.5555555555555556,
                            "#d8576b"
                          ],
                          [
                            0.6666666666666666,
                            "#ed7953"
                          ],
                          [
                            0.7777777777777778,
                            "#fb9f3a"
                          ],
                          [
                            0.8888888888888888,
                            "#fdca26"
                          ],
                          [
                            1,
                            "#f0f921"
                          ]
                        ],
                        "type": "histogram2d"
                      }
                    ],
                    "histogram2dcontour": [
                      {
                        "colorbar": {
                          "outlinewidth": 0,
                          "ticks": ""
                        },
                        "colorscale": [
                          [
                            0,
                            "#0d0887"
                          ],
                          [
                            0.1111111111111111,
                            "#46039f"
                          ],
                          [
                            0.2222222222222222,
                            "#7201a8"
                          ],
                          [
                            0.3333333333333333,
                            "#9c179e"
                          ],
                          [
                            0.4444444444444444,
                            "#bd3786"
                          ],
                          [
                            0.5555555555555556,
                            "#d8576b"
                          ],
                          [
                            0.6666666666666666,
                            "#ed7953"
                          ],
                          [
                            0.7777777777777778,
                            "#fb9f3a"
                          ],
                          [
                            0.8888888888888888,
                            "#fdca26"
                          ],
                          [
                            1,
                            "#f0f921"
                          ]
                        ],
                        "type": "histogram2dcontour"
                      }
                    ],
                    "mesh3d": [
                      {
                        "colorbar": {
                          "outlinewidth": 0,
                          "ticks": ""
                        },
                        "type": "mesh3d"
                      }
                    ],
                    "parcoords": [
                      {
                        "line": {
                          "colorbar": {
                            "outlinewidth": 0,
                            "ticks": ""
                          }
                        },
                        "type": "parcoords"
                      }
                    ],
                    "pie": [
                      {
                        "automargin": true,
                        "type": "pie"
                      }
                    ],
                    "scatter": [
                      {
                        "fillpattern": {
                          "fillmode": "overlay",
                          "size": 10,
                          "solidity": 0.2
                        },
                        "type": "scatter"
                      }
                    ],
                    "scatter3d": [
                      {
                        "line": {
                          "colorbar": {
                            "outlinewidth": 0,
                            "ticks": ""
                          }
                        },
                        "marker": {
                          "colorbar": {
                            "outlinewidth": 0,
                            "ticks": ""
                          }
                        },
                        "type": "scatter3d"
                      }
                    ],
                    "scattercarpet": [
                      {
                        "marker": {
                          "colorbar": {
                            "outlinewidth": 0,
                            "ticks": ""
                          }
                        },
                        "type": "scattercarpet"
                      }
                    ],
                    "scattergeo": [
                      {
                        "marker": {
                          "colorbar": {
                            "outlinewidth": 0,
                            "ticks": ""
                          }
                        },
                        "type": "scattergeo"
                      }
                    ],
                    "scattergl": [
                      {
                        "marker": {
                          "colorbar": {
                            "outlinewidth": 0,
                            "ticks": ""
                          }
                        },
                        "type": "scattergl"
                      }
                    ],
                    "scattermapbox": [
                      {
                        "marker": {
                          "colorbar": {
                            "outlinewidth": 0,
                            "ticks": ""
                          }
                        },
                        "type": "scattermapbox"
                      }
                    ],
                    "scatterpolar": [
                      {
                        "marker": {
                          "colorbar": {
                            "outlinewidth": 0,
                            "ticks": ""
                          }
                        },
                        "type": "scatterpolar"
                      }
                    ],
                    "scatterpolargl": [
                      {
                        "marker": {
                          "colorbar": {
                            "outlinewidth": 0,
                            "ticks": ""
                          }
                        },
                        "type": "scatterpolargl"
                      }
                    ],
                    "scatterternary": [
                      {
                        "marker": {
                          "colorbar": {
                            "outlinewidth": 0,
                            "ticks": ""
                          }
                        },
                        "type": "scatterternary"
                      }
                    ],
                    "surface": [
                      {
                        "colorbar": {
                          "outlinewidth": 0,
                          "ticks": ""
                        },
                        "colorscale": [
                          [
                            0,
                            "#0d0887"
                          ],
                          [
                            0.1111111111111111,
                            "#46039f"
                          ],
                          [
                            0.2222222222222222,
                            "#7201a8"
                          ],
                          [
                            0.3333333333333333,
                            "#9c179e"
                          ],
                          [
                            0.4444444444444444,
                            "#bd3786"
                          ],
                          [
                            0.5555555555555556,
                            "#d8576b"
                          ],
                          [
                            0.6666666666666666,
                            "#ed7953"
                          ],
                          [
                            0.7777777777777778,
                            "#fb9f3a"
                          ],
                          [
                            0.8888888888888888,
                            "#fdca26"
                          ],
                          [
                            1,
                            "#f0f921"
                          ]
                        ],
                        "type": "surface"
                      }
                    ],
                    "table": [
                      {
                        "cells": {
                          "fill": {
                            "color": "#EBF0F8"
                          },
                          "line": {
                            "color": "white"
                          }
                        },
                        "header": {
                          "fill": {
                            "color": "#C8D4E3"
                          },
                          "line": {
                            "color": "white"
                          }
                        },
                        "type": "table"
                      }
                    ]
                  },
                  "layout": {
                    "annotationdefaults": {
                      "arrowcolor": "#2a3f5f",
                      "arrowhead": 0,
                      "arrowwidth": 1
                    },
                    "autotypenumbers": "strict",
                    "coloraxis": {
                      "colorbar": {
                        "outlinewidth": 0,
                        "ticks": ""
                      }
                    },
                    "colorscale": {
                      "diverging": [
                        [
                          0,
                          "#8e0152"
                        ],
                        [
                          0.1,
                          "#c51b7d"
                        ],
                        [
                          0.2,
                          "#de77ae"
                        ],
                        [
                          0.3,
                          "#f1b6da"
                        ],
                        [
                          0.4,
                          "#fde0ef"
                        ],
                        [
                          0.5,
                          "#f7f7f7"
                        ],
                        [
                          0.6,
                          "#e6f5d0"
                        ],
                        [
                          0.7,
                          "#b8e186"
                        ],
                        [
                          0.8,
                          "#7fbc41"
                        ],
                        [
                          0.9,
                          "#4d9221"
                        ],
                        [
                          1,
                          "#276419"
                        ]
                      ],
                      "sequential": [
                        [
                          0,
                          "#0d0887"
                        ],
                        [
                          0.1111111111111111,
                          "#46039f"
                        ],
                        [
                          0.2222222222222222,
                          "#7201a8"
                        ],
                        [
                          0.3333333333333333,
                          "#9c179e"
                        ],
                        [
                          0.4444444444444444,
                          "#bd3786"
                        ],
                        [
                          0.5555555555555556,
                          "#d8576b"
                        ],
                        [
                          0.6666666666666666,
                          "#ed7953"
                        ],
                        [
                          0.7777777777777778,
                          "#fb9f3a"
                        ],
                        [
                          0.8888888888888888,
                          "#fdca26"
                        ],
                        [
                          1,
                          "#f0f921"
                        ]
                      ],
                      "sequentialminus": [
                        [
                          0,
                          "#0d0887"
                        ],
                        [
                          0.1111111111111111,
                          "#46039f"
                        ],
                        [
                          0.2222222222222222,
                          "#7201a8"
                        ],
                        [
                          0.3333333333333333,
                          "#9c179e"
                        ],
                        [
                          0.4444444444444444,
                          "#bd3786"
                        ],
                        [
                          0.5555555555555556,
                          "#d8576b"
                        ],
                        [
                          0.6666666666666666,
                          "#ed7953"
                        ],
                        [
                          0.7777777777777778,
                          "#fb9f3a"
                        ],
                        [
                          0.8888888888888888,
                          "#fdca26"
                        ],
                        [
                          1,
                          "#f0f921"
                        ]
                      ]
                    },
                    "colorway": [
                      "#636efa",
                      "#EF553B",
                      "#00cc96",
                      "#ab63fa",
                      "#FFA15A",
                      "#19d3f3",
                      "#FF6692",
                      "#B6E880",
                      "#FF97FF",
                      "#FECB52"
                    ],
                    "font": {
                      "color": "#2a3f5f"
                    },
                    "geo": {
                      "bgcolor": "white",
                      "lakecolor": "white",
                      "landcolor": "#E5ECF6",
                      "showlakes": true,
                      "showland": true,
                      "subunitcolor": "white"
                    },
                    "hoverlabel": {
                      "align": "left"
                    },
                    "hovermode": "closest",
                    "mapbox": {
                      "style": "light"
                    },
                    "paper_bgcolor": "white",
                    "plot_bgcolor": "#E5ECF6",
                    "polar": {
                      "angularaxis": {
                        "gridcolor": "white",
                        "linecolor": "white",
                        "ticks": ""
                      },
                      "bgcolor": "#E5ECF6",
                      "radialaxis": {
                        "gridcolor": "white",
                        "linecolor": "white",
                        "ticks": ""
                      }
                    },
                    "scene": {
                      "xaxis": {
                        "backgroundcolor": "#E5ECF6",
                        "gridcolor": "white",
                        "gridwidth": 2,
                        "linecolor": "white",
                        "showbackground": true,
                        "ticks": "",
                        "zerolinecolor": "white"
                      },
                      "yaxis": {
                        "backgroundcolor": "#E5ECF6",
                        "gridcolor": "white",
                        "gridwidth": 2,
                        "linecolor": "white",
                        "showbackground": true,
                        "ticks": "",
                        "zerolinecolor": "white"
                      },
                      "zaxis": {
                        "backgroundcolor": "#E5ECF6",
                        "gridcolor": "white",
                        "gridwidth": 2,
                        "linecolor": "white",
                        "showbackground": true,
                        "ticks": "",
                        "zerolinecolor": "white"
                      }
                    },
                    "shapedefaults": {
                      "line": {
                        "color": "#2a3f5f"
                      }
                    },
                    "ternary": {
                      "aaxis": {
                        "gridcolor": "white",
                        "linecolor": "white",
                        "ticks": ""
                      },
                      "baxis": {
                        "gridcolor": "white",
                        "linecolor": "white",
                        "ticks": ""
                      },
                      "bgcolor": "#E5ECF6",
                      "caxis": {
                        "gridcolor": "white",
                        "linecolor": "white",
                        "ticks": ""
                      }
                    },
                    "title": {
                      "x": 0.05
                    },
                    "xaxis": {
                      "automargin": true,
                      "gridcolor": "white",
                      "linecolor": "white",
                      "ticks": "",
                      "title": {
                        "standoff": 15
                      },
                      "zerolinecolor": "white",
                      "zerolinewidth": 2
                    },
                    "yaxis": {
                      "automargin": true,
                      "gridcolor": "white",
                      "linecolor": "white",
                      "ticks": "",
                      "title": {
                        "standoff": 15
                      },
                      "zerolinecolor": "white",
                      "zerolinewidth": 2
                    }
                  }
                },
                "title": {
                  "text": " Tim duncan Playoffs  ",
                  "x": 0.5
                }
              }
            }
          },
          "metadata": {},
          "output_type": "display_data"
        }
      ],
      "source": [
        "tim = NBA03_PO[NBA03_PO['Player']=='Tim Duncan']\n",
        "\n",
        "sum_pts_tim=tim.PTS.sum()\n",
        "\n",
        "sum_ast_tim=tim.AST.sum()\n",
        "\n",
        "sum_reb_tim=tim.REB.sum()\n",
        "\n",
        "sum_blk_tim=tim.BLK.sum()\n",
        "\n",
        "sum_game_tim=tim.GP.sum()\n",
        "\n",
        "fig = go.Figure()\n",
        "\n",
        "fig.add_trace(go.Indicator(\n",
        "    mode = \"number+gauge\", value =  sum_game_tim,\n",
        "    domain = {'x': [0.25, 1], 'y': [0.1, 0.2]},\n",
        "    title = {'text': \"Partidos Jugados en los Playoffs\",'font':{'color': 'black','size':15}},\n",
        "     number={'font':{'color': 'black'}},\n",
        "    gauge = {\n",
        "        'shape': \"bullet\",\n",
        "        'axis': {'range': [None, 750]},\n",
        "        'bar': {'color': \"blue\"}}))\n",
        "fig.add_trace(go.Indicator(\n",
        "    mode = \"number+gauge\", value = sum_pts_tim,\n",
        "    domain = {'x': [0.25, 1], 'y': [0.3, 0.4]},\n",
        "    title = {'text': \"Puntos anotados en los Playoffs\",'font':{'color': 'black','size':15}},\n",
        "    number={'font':{'color': 'black'}},\n",
        "    gauge = {\n",
        "        'shape': \"bullet\",\n",
        "        'axis': {'range': [None,750]},\n",
        "        'bar': {'color': \"cyan\"}}))\n",
        "\n",
        "fig.add_trace(go.Indicator(\n",
        "    mode = \"number+gauge\", value = sum_ast_tim,\n",
        "    domain = {'x': [0.25, 1], 'y': [0.5, 0.6]},\n",
        "    title = {'text' :\"Asistencias realizadas en los Playoffs\",'font':{'color': 'black','size':15}},\n",
        "     number={'font':{'color': 'black'}},\n",
        "    gauge = {\n",
        "        'shape': \"bullet\",\n",
        "        'axis': {'range': [None,750]},\n",
        "        'bar': {'color': \"darkblue\"}}\n",
        "))\n",
        "fig.add_trace(go.Indicator(\n",
        "    mode = \"number+gauge\", value = sum_reb_tim,\n",
        "    domain = {'x': [0.25, 1], 'y': [0.7, 0.8]},\n",
        "    title = {'text' :\"Rebotes ganados en los Playoffs\",'font':{'color': 'black','size':15}},\n",
        "     number={'font':{'color': 'black'}},\n",
        "    gauge = {\n",
        "        'shape': \"bullet\",\n",
        "        'axis': {'range': [None,750]},\n",
        "        'bar': {'color': \"darkcyan\"}}\n",
        "))\n",
        "fig.add_trace(go.Indicator(\n",
        "    mode = \"number+gauge\", value = sum_blk_tim,\n",
        "    domain = {'x': [0.25, 1], 'y': [0.9,1]},\n",
        "    title = {'text' :\"Bloqueos realizados en los Playoffs\",'font':{'color': 'black','size':15}},\n",
        "     number={'font':{'color': 'black'}},\n",
        "    gauge = {\n",
        "        'shape': \"bullet\",\n",
        "        'axis': {'range': [None,750]},\n",
        "        'bar': {'color': \"red\"}}\n",
        "))\n",
        "fig.update_layout(title=\" Tim duncan Playoffs  \",title_x=0.5)\n",
        "fig.show()"
      ]
    },
    {
      "cell_type": "code",
      "execution_count": 23,
      "metadata": {
        "colab": {
          "base_uri": "https://localhost:8080/",
          "height": 297
        },
        "id": "MxqUk8I3HK7s",
        "outputId": "cb50dfa1-0f35-4a37-b789-a12a29017593"
      },
      "outputs": [
        {
          "data": {
            "image/png": "[encoded data removed]",
            "text/plain": [
              "<Figure size 432x288 with 1 Axes>"
            ]
          },
          "metadata": {
            "needs_background": "light"
          },
          "output_type": "display_data"
        }
      ],
      "source": [
        "sum_fgm_tim = tim.FGM.sum()\n",
        "\n",
        "sum_fga_tim = tim.FGA.sum()\n",
        "\n",
        "sum_3pm_tim = tim.TPM.sum()\n",
        "\n",
        "sum_3pa_tim = tim.TPA.sum()\n",
        "\n",
        "sum_ftm_tim = tim.FTM.sum()\n",
        "\n",
        "sum_fta_tim = tim.FTA.sum()\n",
        "\n",
        "eje_x = ['FGM/FGA', '3PM/3PA', 'FTM/FTA']\n",
        "\n",
        "made = [sum_fgm_tim, sum_3pm_tim, sum_ftm_tim]\n",
        "\n",
        "attempts = [sum_fga_tim, sum_3pa_tim, sum_fta_tim]\n",
        "\n",
        "#Obtenemos la posicion de cada etiqueta en el eje de X\n",
        "x = np.arange(len(eje_x))\n",
        "#tamaño de cada barra\n",
        "width = 0.35\n",
        "\n",
        "fig, ax = plt.subplots()\n",
        "\n",
        "#Generamos las barras para el conjunto de hombres\n",
        "rects1 = ax.bar(x - width/2, made, width, label='ANOTADOS')\n",
        "#Generamos las barras para el conjunto de mujeres\n",
        "rects2 = ax.bar(x + width/2, attempts, width, label='INTENTADOS')\n",
        "\n",
        "#Añadimos las etiquetas de identificacion de valores en el grafico\n",
        "ax.set_ylabel('Puntos')\n",
        "ax.set_title('Composición de puntos de Tim Duncan')\n",
        "ax.set_xticks(x)\n",
        "ax.set_xticklabels(eje_x)\n",
        "#Añadimos un legen() esto permite mmostrar con colores a que pertence cada valor.\n",
        "ax.legend()\n",
        "\n",
        "def autolabel(rects):\n",
        "    \"\"\"Funcion para agregar una etiqueta con el valor en cada barra\"\"\"\n",
        "    for rect in rects:\n",
        "        height = rect.get_height()\n",
        "        ax.annotate('{}'.format(height),\n",
        "                    xy=(rect.get_x() + rect.get_width() / 2, height),\n",
        "                    xytext=(0, 3),  # 3 points vertical offset\n",
        "                    textcoords=\"offset points\",\n",
        "                    ha='center', va='bottom')\n",
        "\n",
        "#Añadimos las etiquetas para cada barra\n",
        "autolabel(rects1)\n",
        "autolabel(rects2)\n",
        "fig.tight_layout()\n",
        "plt.savefig('doble_barra.png')\n",
        "#Mostramos la grafica con el metodo show()\n",
        "plt.show()"
      ]
    },
    {
      "cell_type": "markdown",
      "metadata": {
        "id": "xgzMHb2lZela"
      },
      "source": [
        "A continuación veremos los mayores asistidores de la liga del año 2002-03."
      ]
    },
    {
      "cell_type": "code",
      "execution_count": 24,
      "metadata": {
        "colab": {
          "base_uri": "https://localhost:8080/",
          "height": 542
        },
        "id": "4J1q5EGsaFdE",
        "outputId": "fea6f384-5068-48a4-f96a-b651aa1e786b"
      },
      "outputs": [
        {
          "data": {
            "application/vnd.plotly.v1+json": {
              "config": {
                "plotlyServerURL": "https://plot.ly"
              },
              "data": [
                {
                  "marker": {
                    "color": [
                      537,
                      544,
                      548,
                      598,
                      600,
                      629,
                      631,
                      654,
                      663,
                      711
                    ],
                    "colorscale": [
                      [
                        0,
                        "rgb(61, 89, 65)"
                      ],
                      [
                        0.16666666666666666,
                        "rgb(119, 136, 104)"
                      ],
                      [
                        0.3333333333333333,
                        "rgb(181, 185, 145)"
                      ],
                      [
                        0.5,
                        "rgb(246, 237, 189)"
                      ],
                      [
                        0.6666666666666666,
                        "rgb(237, 187, 138)"
                      ],
                      [
                        0.8333333333333334,
                        "rgb(222, 138, 90)"
                      ],
                      [
                        1,
                        "rgb(202, 86, 44)"
                      ]
                    ]
                  },
                  "orientation": "h",
                  "text": [
                    537,
                    544,
                    548,
                    598,
                    600,
                    629,
                    631,
                    654,
                    663,
                    711
                  ],
                  "textposition": "outside",
                  "type": "bar",
                  "x": [
                    537,
                    544,
                    548,
                    598,
                    600,
                    629,
                    631,
                    654,
                    663,
                    711
                  ],
                  "y": [
                    "Andre Miller",
                    "Eric Snow",
                    "Jamaal Tinsley",
                    "Steve Nash",
                    "Jason Terry",
                    "John Stockton",
                    "Jason Williams",
                    "Stephon Marbury",
                    "Gary Payton",
                    "Jason Kidd"
                  ]
                }
              ],
              "layout": {
                "template": {
                  "data": {
                    "bar": [
                      {
                        "error_x": {
                          "color": "#2a3f5f"
                        },
                        "error_y": {
                          "color": "#2a3f5f"
                        },
                        "marker": {
                          "line": {
                            "color": "#E5ECF6",
                            "width": 0.5
                          },
                          "pattern": {
                            "fillmode": "overlay",
                            "size": 10,
                            "solidity": 0.2
                          }
                        },
                        "type": "bar"
                      }
                    ],
                    "barpolar": [
                      {
                        "marker": {
                          "line": {
                            "color": "#E5ECF6",
                            "width": 0.5
                          },
                          "pattern": {
                            "fillmode": "overlay",
                            "size": 10,
                            "solidity": 0.2
                          }
                        },
                        "type": "barpolar"
                      }
                    ],
                    "carpet": [
                      {
                        "aaxis": {
                          "endlinecolor": "#2a3f5f",
                          "gridcolor": "white",
                          "linecolor": "white",
                          "minorgridcolor": "white",
                          "startlinecolor": "#2a3f5f"
                        },
                        "baxis": {
                          "endlinecolor": "#2a3f5f",
                          "gridcolor": "white",
                          "linecolor": "white",
                          "minorgridcolor": "white",
                          "startlinecolor": "#2a3f5f"
                        },
                        "type": "carpet"
                      }
                    ],
                    "choropleth": [
                      {
                        "colorbar": {
                          "outlinewidth": 0,
                          "ticks": ""
                        },
                        "type": "choropleth"
                      }
                    ],
                    "contour": [
                      {
                        "colorbar": {
                          "outlinewidth": 0,
                          "ticks": ""
                        },
                        "colorscale": [
                          [
                            0,
                            "#0d0887"
                          ],
                          [
                            0.1111111111111111,
                            "#46039f"
                          ],
                          [
                            0.2222222222222222,
                            "#7201a8"
                          ],
                          [
                            0.3333333333333333,
                            "#9c179e"
                          ],
                          [
                            0.4444444444444444,
                            "#bd3786"
                          ],
                          [
                            0.5555555555555556,
                            "#d8576b"
                          ],
                          [
                            0.6666666666666666,
                            "#ed7953"
                          ],
                          [
                            0.7777777777777778,
                            "#fb9f3a"
                          ],
                          [
                            0.8888888888888888,
                            "#fdca26"
                          ],
                          [
                            1,
                            "#f0f921"
                          ]
                        ],
                        "type": "contour"
                      }
                    ],
                    "contourcarpet": [
                      {
                        "colorbar": {
                          "outlinewidth": 0,
                          "ticks": ""
                        },
                        "type": "contourcarpet"
                      }
                    ],
                    "heatmap": [
                      {
                        "colorbar": {
                          "outlinewidth": 0,
                          "ticks": ""
                        },
                        "colorscale": [
                          [
                            0,
                            "#0d0887"
                          ],
                          [
                            0.1111111111111111,
                            "#46039f"
                          ],
                          [
                            0.2222222222222222,
                            "#7201a8"
                          ],
                          [
                            0.3333333333333333,
                            "#9c179e"
                          ],
                          [
                            0.4444444444444444,
                            "#bd3786"
                          ],
                          [
                            0.5555555555555556,
                            "#d8576b"
                          ],
                          [
                            0.6666666666666666,
                            "#ed7953"
                          ],
                          [
                            0.7777777777777778,
                            "#fb9f3a"
                          ],
                          [
                            0.8888888888888888,
                            "#fdca26"
                          ],
                          [
                            1,
                            "#f0f921"
                          ]
                        ],
                        "type": "heatmap"
                      }
                    ],
                    "heatmapgl": [
                      {
                        "colorbar": {
                          "outlinewidth": 0,
                          "ticks": ""
                        },
                        "colorscale": [
                          [
                            0,
                            "#0d0887"
                          ],
                          [
                            0.1111111111111111,
                            "#46039f"
                          ],
                          [
                            0.2222222222222222,
                            "#7201a8"
                          ],
                          [
                            0.3333333333333333,
                            "#9c179e"
                          ],
                          [
                            0.4444444444444444,
                            "#bd3786"
                          ],
                          [
                            0.5555555555555556,
                            "#d8576b"
                          ],
                          [
                            0.6666666666666666,
                            "#ed7953"
                          ],
                          [
                            0.7777777777777778,
                            "#fb9f3a"
                          ],
                          [
                            0.8888888888888888,
                            "#fdca26"
                          ],
                          [
                            1,
                            "#f0f921"
                          ]
                        ],
                        "type": "heatmapgl"
                      }
                    ],
                    "histogram": [
                      {
                        "marker": {
                          "pattern": {
                            "fillmode": "overlay",
                            "size": 10,
                            "solidity": 0.2
                          }
                        },
                        "type": "histogram"
                      }
                    ],
                    "histogram2d": [
                      {
                        "colorbar": {
                          "outlinewidth": 0,
                          "ticks": ""
                        },
                        "colorscale": [
                          [
                            0,
                            "#0d0887"
                          ],
                          [
                            0.1111111111111111,
                            "#46039f"
                          ],
                          [
                            0.2222222222222222,
                            "#7201a8"
                          ],
                          [
                            0.3333333333333333,
                            "#9c179e"
                          ],
                          [
                            0.4444444444444444,
                            "#bd3786"
                          ],
                          [
                            0.5555555555555556,
                            "#d8576b"
                          ],
                          [
                            0.6666666666666666,
                            "#ed7953"
                          ],
                          [
                            0.7777777777777778,
                            "#fb9f3a"
                          ],
                          [
                            0.8888888888888888,
                            "#fdca26"
                          ],
                          [
                            1,
                            "#f0f921"
                          ]
                        ],
                        "type": "histogram2d"
                      }
                    ],
                    "histogram2dcontour": [
                      {
                        "colorbar": {
                          "outlinewidth": 0,
                          "ticks": ""
                        },
                        "colorscale": [
                          [
                            0,
                            "#0d0887"
                          ],
                          [
                            0.1111111111111111,
                            "#46039f"
                          ],
                          [
                            0.2222222222222222,
                            "#7201a8"
                          ],
                          [
                            0.3333333333333333,
                            "#9c179e"
                          ],
                          [
                            0.4444444444444444,
                            "#bd3786"
                          ],
                          [
                            0.5555555555555556,
                            "#d8576b"
                          ],
                          [
                            0.6666666666666666,
                            "#ed7953"
                          ],
                          [
                            0.7777777777777778,
                            "#fb9f3a"
                          ],
                          [
                            0.8888888888888888,
                            "#fdca26"
                          ],
                          [
                            1,
                            "#f0f921"
                          ]
                        ],
                        "type": "histogram2dcontour"
                      }
                    ],
                    "mesh3d": [
                      {
                        "colorbar": {
                          "outlinewidth": 0,
                          "ticks": ""
                        },
                        "type": "mesh3d"
                      }
                    ],
                    "parcoords": [
                      {
                        "line": {
                          "colorbar": {
                            "outlinewidth": 0,
                            "ticks": ""
                          }
                        },
                        "type": "parcoords"
                      }
                    ],
                    "pie": [
                      {
                        "automargin": true,
                        "type": "pie"
                      }
                    ],
                    "scatter": [
                      {
                        "fillpattern": {
                          "fillmode": "overlay",
                          "size": 10,
                          "solidity": 0.2
                        },
                        "type": "scatter"
                      }
                    ],
                    "scatter3d": [
                      {
                        "line": {
                          "colorbar": {
                            "outlinewidth": 0,
                            "ticks": ""
                          }
                        },
                        "marker": {
                          "colorbar": {
                            "outlinewidth": 0,
                            "ticks": ""
                          }
                        },
                        "type": "scatter3d"
                      }
                    ],
                    "scattercarpet": [
                      {
                        "marker": {
                          "colorbar": {
                            "outlinewidth": 0,
                            "ticks": ""
                          }
                        },
                        "type": "scattercarpet"
                      }
                    ],
                    "scattergeo": [
                      {
                        "marker": {
                          "colorbar": {
                            "outlinewidth": 0,
                            "ticks": ""
                          }
                        },
                        "type": "scattergeo"
                      }
                    ],
                    "scattergl": [
                      {
                        "marker": {
                          "colorbar": {
                            "outlinewidth": 0,
                            "ticks": ""
                          }
                        },
                        "type": "scattergl"
                      }
                    ],
                    "scattermapbox": [
                      {
                        "marker": {
                          "colorbar": {
                            "outlinewidth": 0,
                            "ticks": ""
                          }
                        },
                        "type": "scattermapbox"
                      }
                    ],
                    "scatterpolar": [
                      {
                        "marker": {
                          "colorbar": {
                            "outlinewidth": 0,
                            "ticks": ""
                          }
                        },
                        "type": "scatterpolar"
                      }
                    ],
                    "scatterpolargl": [
                      {
                        "marker": {
                          "colorbar": {
                            "outlinewidth": 0,
                            "ticks": ""
                          }
                        },
                        "type": "scatterpolargl"
                      }
                    ],
                    "scatterternary": [
                      {
                        "marker": {
                          "colorbar": {
                            "outlinewidth": 0,
                            "ticks": ""
                          }
                        },
                        "type": "scatterternary"
                      }
                    ],
                    "surface": [
                      {
                        "colorbar": {
                          "outlinewidth": 0,
                          "ticks": ""
                        },
                        "colorscale": [
                          [
                            0,
                            "#0d0887"
                          ],
                          [
                            0.1111111111111111,
                            "#46039f"
                          ],
                          [
                            0.2222222222222222,
                            "#7201a8"
                          ],
                          [
                            0.3333333333333333,
                            "#9c179e"
                          ],
                          [
                            0.4444444444444444,
                            "#bd3786"
                          ],
                          [
                            0.5555555555555556,
                            "#d8576b"
                          ],
                          [
                            0.6666666666666666,
                            "#ed7953"
                          ],
                          [
                            0.7777777777777778,
                            "#fb9f3a"
                          ],
                          [
                            0.8888888888888888,
                            "#fdca26"
                          ],
                          [
                            1,
                            "#f0f921"
                          ]
                        ],
                        "type": "surface"
                      }
                    ],
                    "table": [
                      {
                        "cells": {
                          "fill": {
                            "color": "#EBF0F8"
                          },
                          "line": {
                            "color": "white"
                          }
                        },
                        "header": {
                          "fill": {
                            "color": "#C8D4E3"
                          },
                          "line": {
                            "color": "white"
                          }
                        },
                        "type": "table"
                      }
                    ]
                  },
                  "layout": {
                    "annotationdefaults": {
                      "arrowcolor": "#2a3f5f",
                      "arrowhead": 0,
                      "arrowwidth": 1
                    },
                    "autotypenumbers": "strict",
                    "coloraxis": {
                      "colorbar": {
                        "outlinewidth": 0,
                        "ticks": ""
                      }
                    },
                    "colorscale": {
                      "diverging": [
                        [
                          0,
                          "#8e0152"
                        ],
                        [
                          0.1,
                          "#c51b7d"
                        ],
                        [
                          0.2,
                          "#de77ae"
                        ],
                        [
                          0.3,
                          "#f1b6da"
                        ],
                        [
                          0.4,
                          "#fde0ef"
                        ],
                        [
                          0.5,
                          "#f7f7f7"
                        ],
                        [
                          0.6,
                          "#e6f5d0"
                        ],
                        [
                          0.7,
                          "#b8e186"
                        ],
                        [
                          0.8,
                          "#7fbc41"
                        ],
                        [
                          0.9,
                          "#4d9221"
                        ],
                        [
                          1,
                          "#276419"
                        ]
                      ],
                      "sequential": [
                        [
                          0,
                          "#0d0887"
                        ],
                        [
                          0.1111111111111111,
                          "#46039f"
                        ],
                        [
                          0.2222222222222222,
                          "#7201a8"
                        ],
                        [
                          0.3333333333333333,
                          "#9c179e"
                        ],
                        [
                          0.4444444444444444,
                          "#bd3786"
                        ],
                        [
                          0.5555555555555556,
                          "#d8576b"
                        ],
                        [
                          0.6666666666666666,
                          "#ed7953"
                        ],
                        [
                          0.7777777777777778,
                          "#fb9f3a"
                        ],
                        [
                          0.8888888888888888,
                          "#fdca26"
                        ],
                        [
                          1,
                          "#f0f921"
                        ]
                      ],
                      "sequentialminus": [
                        [
                          0,
                          "#0d0887"
                        ],
                        [
                          0.1111111111111111,
                          "#46039f"
                        ],
                        [
                          0.2222222222222222,
                          "#7201a8"
                        ],
                        [
                          0.3333333333333333,
                          "#9c179e"
                        ],
                        [
                          0.4444444444444444,
                          "#bd3786"
                        ],
                        [
                          0.5555555555555556,
                          "#d8576b"
                        ],
                        [
                          0.6666666666666666,
                          "#ed7953"
                        ],
                        [
                          0.7777777777777778,
                          "#fb9f3a"
                        ],
                        [
                          0.8888888888888888,
                          "#fdca26"
                        ],
                        [
                          1,
                          "#f0f921"
                        ]
                      ]
                    },
                    "colorway": [
                      "#636efa",
                      "#EF553B",
                      "#00cc96",
                      "#ab63fa",
                      "#FFA15A",
                      "#19d3f3",
                      "#FF6692",
                      "#B6E880",
                      "#FF97FF",
                      "#FECB52"
                    ],
                    "font": {
                      "color": "#2a3f5f"
                    },
                    "geo": {
                      "bgcolor": "white",
                      "lakecolor": "white",
                      "landcolor": "#E5ECF6",
                      "showlakes": true,
                      "showland": true,
                      "subunitcolor": "white"
                    },
                    "hoverlabel": {
                      "align": "left"
                    },
                    "hovermode": "closest",
                    "mapbox": {
                      "style": "light"
                    },
                    "paper_bgcolor": "white",
                    "plot_bgcolor": "#E5ECF6",
                    "polar": {
                      "angularaxis": {
                        "gridcolor": "white",
                        "linecolor": "white",
                        "ticks": ""
                      },
                      "bgcolor": "#E5ECF6",
                      "radialaxis": {
                        "gridcolor": "white",
                        "linecolor": "white",
                        "ticks": ""
                      }
                    },
                    "scene": {
                      "xaxis": {
                        "backgroundcolor": "#E5ECF6",
                        "gridcolor": "white",
                        "gridwidth": 2,
                        "linecolor": "white",
                        "showbackground": true,
                        "ticks": "",
                        "zerolinecolor": "white"
                      },
                      "yaxis": {
                        "backgroundcolor": "#E5ECF6",
                        "gridcolor": "white",
                        "gridwidth": 2,
                        "linecolor": "white",
                        "showbackground": true,
                        "ticks": "",
                        "zerolinecolor": "white"
                      },
                      "zaxis": {
                        "backgroundcolor": "#E5ECF6",
                        "gridcolor": "white",
                        "gridwidth": 2,
                        "linecolor": "white",
                        "showbackground": true,
                        "ticks": "",
                        "zerolinecolor": "white"
                      }
                    },
                    "shapedefaults": {
                      "line": {
                        "color": "#2a3f5f"
                      }
                    },
                    "ternary": {
                      "aaxis": {
                        "gridcolor": "white",
                        "linecolor": "white",
                        "ticks": ""
                      },
                      "baxis": {
                        "gridcolor": "white",
                        "linecolor": "white",
                        "ticks": ""
                      },
                      "bgcolor": "#E5ECF6",
                      "caxis": {
                        "gridcolor": "white",
                        "linecolor": "white",
                        "ticks": ""
                      }
                    },
                    "title": {
                      "x": 0.05
                    },
                    "xaxis": {
                      "automargin": true,
                      "gridcolor": "white",
                      "linecolor": "white",
                      "ticks": "",
                      "title": {
                        "standoff": 15
                      },
                      "zerolinecolor": "white",
                      "zerolinewidth": 2
                    },
                    "yaxis": {
                      "automargin": true,
                      "gridcolor": "white",
                      "linecolor": "white",
                      "ticks": "",
                      "title": {
                        "standoff": 15
                      },
                      "zerolinecolor": "white",
                      "zerolinewidth": 2
                    }
                  }
                },
                "title": {
                  "text": "Top 10 Players Season Total Assists",
                  "x": 0.5
                }
              }
            }
          },
          "metadata": {},
          "output_type": "display_data"
        }
      ],
      "source": [
        "maxast03S=NBA03_S.sort_values('AST',ascending=True)\n",
        "\n",
        "maxast03S=maxast03S[-10:]\n",
        "\n",
        "fig = go.Figure(go.Bar(\n",
        "    y=maxast03S['Player'],x=maxast03S['AST'],orientation=\"h\",\n",
        "    marker={'color': maxast03S['AST'], \n",
        "    'colorscale': 'fall'},  \n",
        "    text=maxast03S['AST'],\n",
        "    textposition = \"outside\",\n",
        "))\n",
        "fig.update_layout(title = \"Top 10 Players Season Total Assists\",title_x=0.5)\n",
        "fig.show()"
      ]
    },
    {
      "cell_type": "code",
      "execution_count": 25,
      "metadata": {
        "colab": {
          "base_uri": "https://localhost:8080/",
          "height": 542
        },
        "id": "SJm6cqOQbBl3",
        "outputId": "e8259f23-4de6-4b69-dd7f-e36f5b3ac02a"
      },
      "outputs": [
        {
          "data": {
            "application/vnd.plotly.v1+json": {
              "config": {
                "plotlyServerURL": "https://plot.ly"
              },
              "data": [
                {
                  "marker": {
                    "color": [
                      66,
                      67,
                      67,
                      70,
                      82,
                      85,
                      89,
                      127,
                      145,
                      163
                    ],
                    "colorscale": [
                      [
                        0,
                        "rgb(61, 89, 65)"
                      ],
                      [
                        0.16666666666666666,
                        "rgb(119, 136, 104)"
                      ],
                      [
                        0.3333333333333333,
                        "rgb(181, 185, 145)"
                      ],
                      [
                        0.5,
                        "rgb(246, 237, 189)"
                      ],
                      [
                        0.6666666666666666,
                        "rgb(237, 187, 138)"
                      ],
                      [
                        0.8333333333333334,
                        "rgb(222, 138, 90)"
                      ],
                      [
                        1,
                        "rgb(202, 86, 44)"
                      ]
                    ]
                  },
                  "orientation": "h",
                  "text": [
                    66,
                    67,
                    67,
                    70,
                    82,
                    85,
                    89,
                    127,
                    145,
                    163
                  ],
                  "textposition": "outside",
                  "type": "bar",
                  "x": [
                    66,
                    67,
                    67,
                    70,
                    82,
                    85,
                    89,
                    127,
                    145,
                    163
                  ],
                  "y": [
                    "Chauncey Billups",
                    "Paul Pierce",
                    "Eric Snow",
                    "Manu Ginobili",
                    "Nick Van Exel",
                    "Tony Parker",
                    "Allen Iverson",
                    "Tim Duncan",
                    "Steve Nash",
                    "Jason Kidd"
                  ]
                }
              ],
              "layout": {
                "template": {
                  "data": {
                    "bar": [
                      {
                        "error_x": {
                          "color": "#2a3f5f"
                        },
                        "error_y": {
                          "color": "#2a3f5f"
                        },
                        "marker": {
                          "line": {
                            "color": "#E5ECF6",
                            "width": 0.5
                          },
                          "pattern": {
                            "fillmode": "overlay",
                            "size": 10,
                            "solidity": 0.2
                          }
                        },
                        "type": "bar"
                      }
                    ],
                    "barpolar": [
                      {
                        "marker": {
                          "line": {
                            "color": "#E5ECF6",
                            "width": 0.5
                          },
                          "pattern": {
                            "fillmode": "overlay",
                            "size": 10,
                            "solidity": 0.2
                          }
                        },
                        "type": "barpolar"
                      }
                    ],
                    "carpet": [
                      {
                        "aaxis": {
                          "endlinecolor": "#2a3f5f",
                          "gridcolor": "white",
                          "linecolor": "white",
                          "minorgridcolor": "white",
                          "startlinecolor": "#2a3f5f"
                        },
                        "baxis": {
                          "endlinecolor": "#2a3f5f",
                          "gridcolor": "white",
                          "linecolor": "white",
                          "minorgridcolor": "white",
                          "startlinecolor": "#2a3f5f"
                        },
                        "type": "carpet"
                      }
                    ],
                    "choropleth": [
                      {
                        "colorbar": {
                          "outlinewidth": 0,
                          "ticks": ""
                        },
                        "type": "choropleth"
                      }
                    ],
                    "contour": [
                      {
                        "colorbar": {
                          "outlinewidth": 0,
                          "ticks": ""
                        },
                        "colorscale": [
                          [
                            0,
                            "#0d0887"
                          ],
                          [
                            0.1111111111111111,
                            "#46039f"
                          ],
                          [
                            0.2222222222222222,
                            "#7201a8"
                          ],
                          [
                            0.3333333333333333,
                            "#9c179e"
                          ],
                          [
                            0.4444444444444444,
                            "#bd3786"
                          ],
                          [
                            0.5555555555555556,
                            "#d8576b"
                          ],
                          [
                            0.6666666666666666,
                            "#ed7953"
                          ],
                          [
                            0.7777777777777778,
                            "#fb9f3a"
                          ],
                          [
                            0.8888888888888888,
                            "#fdca26"
                          ],
                          [
                            1,
                            "#f0f921"
                          ]
                        ],
                        "type": "contour"
                      }
                    ],
                    "contourcarpet": [
                      {
                        "colorbar": {
                          "outlinewidth": 0,
                          "ticks": ""
                        },
                        "type": "contourcarpet"
                      }
                    ],
                    "heatmap": [
                      {
                        "colorbar": {
                          "outlinewidth": 0,
                          "ticks": ""
                        },
                        "colorscale": [
                          [
                            0,
                            "#0d0887"
                          ],
                          [
                            0.1111111111111111,
                            "#46039f"
                          ],
                          [
                            0.2222222222222222,
                            "#7201a8"
                          ],
                          [
                            0.3333333333333333,
                            "#9c179e"
                          ],
                          [
                            0.4444444444444444,
                            "#bd3786"
                          ],
                          [
                            0.5555555555555556,
                            "#d8576b"
                          ],
                          [
                            0.6666666666666666,
                            "#ed7953"
                          ],
                          [
                            0.7777777777777778,
                            "#fb9f3a"
                          ],
                          [
                            0.8888888888888888,
                            "#fdca26"
                          ],
                          [
                            1,
                            "#f0f921"
                          ]
                        ],
                        "type": "heatmap"
                      }
                    ],
                    "heatmapgl": [
                      {
                        "colorbar": {
                          "outlinewidth": 0,
                          "ticks": ""
                        },
                        "colorscale": [
                          [
                            0,
                            "#0d0887"
                          ],
                          [
                            0.1111111111111111,
                            "#46039f"
                          ],
                          [
                            0.2222222222222222,
                            "#7201a8"
                          ],
                          [
                            0.3333333333333333,
                            "#9c179e"
                          ],
                          [
                            0.4444444444444444,
                            "#bd3786"
                          ],
                          [
                            0.5555555555555556,
                            "#d8576b"
                          ],
                          [
                            0.6666666666666666,
                            "#ed7953"
                          ],
                          [
                            0.7777777777777778,
                            "#fb9f3a"
                          ],
                          [
                            0.8888888888888888,
                            "#fdca26"
                          ],
                          [
                            1,
                            "#f0f921"
                          ]
                        ],
                        "type": "heatmapgl"
                      }
                    ],
                    "histogram": [
                      {
                        "marker": {
                          "pattern": {
                            "fillmode": "overlay",
                            "size": 10,
                            "solidity": 0.2
                          }
                        },
                        "type": "histogram"
                      }
                    ],
                    "histogram2d": [
                      {
                        "colorbar": {
                          "outlinewidth": 0,
                          "ticks": ""
                        },
                        "colorscale": [
                          [
                            0,
                            "#0d0887"
                          ],
                          [
                            0.1111111111111111,
                            "#46039f"
                          ],
                          [
                            0.2222222222222222,
                            "#7201a8"
                          ],
                          [
                            0.3333333333333333,
                            "#9c179e"
                          ],
                          [
                            0.4444444444444444,
                            "#bd3786"
                          ],
                          [
                            0.5555555555555556,
                            "#d8576b"
                          ],
                          [
                            0.6666666666666666,
                            "#ed7953"
                          ],
                          [
                            0.7777777777777778,
                            "#fb9f3a"
                          ],
                          [
                            0.8888888888888888,
                            "#fdca26"
                          ],
                          [
                            1,
                            "#f0f921"
                          ]
                        ],
                        "type": "histogram2d"
                      }
                    ],
                    "histogram2dcontour": [
                      {
                        "colorbar": {
                          "outlinewidth": 0,
                          "ticks": ""
                        },
                        "colorscale": [
                          [
                            0,
                            "#0d0887"
                          ],
                          [
                            0.1111111111111111,
                            "#46039f"
                          ],
                          [
                            0.2222222222222222,
                            "#7201a8"
                          ],
                          [
                            0.3333333333333333,
                            "#9c179e"
                          ],
                          [
                            0.4444444444444444,
                            "#bd3786"
                          ],
                          [
                            0.5555555555555556,
                            "#d8576b"
                          ],
                          [
                            0.6666666666666666,
                            "#ed7953"
                          ],
                          [
                            0.7777777777777778,
                            "#fb9f3a"
                          ],
                          [
                            0.8888888888888888,
                            "#fdca26"
                          ],
                          [
                            1,
                            "#f0f921"
                          ]
                        ],
                        "type": "histogram2dcontour"
                      }
                    ],
                    "mesh3d": [
                      {
                        "colorbar": {
                          "outlinewidth": 0,
                          "ticks": ""
                        },
                        "type": "mesh3d"
                      }
                    ],
                    "parcoords": [
                      {
                        "line": {
                          "colorbar": {
                            "outlinewidth": 0,
                            "ticks": ""
                          }
                        },
                        "type": "parcoords"
                      }
                    ],
                    "pie": [
                      {
                        "automargin": true,
                        "type": "pie"
                      }
                    ],
                    "scatter": [
                      {
                        "fillpattern": {
                          "fillmode": "overlay",
                          "size": 10,
                          "solidity": 0.2
                        },
                        "type": "scatter"
                      }
                    ],
                    "scatter3d": [
                      {
                        "line": {
                          "colorbar": {
                            "outlinewidth": 0,
                            "ticks": ""
                          }
                        },
                        "marker": {
                          "colorbar": {
                            "outlinewidth": 0,
                            "ticks": ""
                          }
                        },
                        "type": "scatter3d"
                      }
                    ],
                    "scattercarpet": [
                      {
                        "marker": {
                          "colorbar": {
                            "outlinewidth": 0,
                            "ticks": ""
                          }
                        },
                        "type": "scattercarpet"
                      }
                    ],
                    "scattergeo": [
                      {
                        "marker": {
                          "colorbar": {
                            "outlinewidth": 0,
                            "ticks": ""
                          }
                        },
                        "type": "scattergeo"
                      }
                    ],
                    "scattergl": [
                      {
                        "marker": {
                          "colorbar": {
                            "outlinewidth": 0,
                            "ticks": ""
                          }
                        },
                        "type": "scattergl"
                      }
                    ],
                    "scattermapbox": [
                      {
                        "marker": {
                          "colorbar": {
                            "outlinewidth": 0,
                            "ticks": ""
                          }
                        },
                        "type": "scattermapbox"
                      }
                    ],
                    "scatterpolar": [
                      {
                        "marker": {
                          "colorbar": {
                            "outlinewidth": 0,
                            "ticks": ""
                          }
                        },
                        "type": "scatterpolar"
                      }
                    ],
                    "scatterpolargl": [
                      {
                        "marker": {
                          "colorbar": {
                            "outlinewidth": 0,
                            "ticks": ""
                          }
                        },
                        "type": "scatterpolargl"
                      }
                    ],
                    "scatterternary": [
                      {
                        "marker": {
                          "colorbar": {
                            "outlinewidth": 0,
                            "ticks": ""
                          }
                        },
                        "type": "scatterternary"
                      }
                    ],
                    "surface": [
                      {
                        "colorbar": {
                          "outlinewidth": 0,
                          "ticks": ""
                        },
                        "colorscale": [
                          [
                            0,
                            "#0d0887"
                          ],
                          [
                            0.1111111111111111,
                            "#46039f"
                          ],
                          [
                            0.2222222222222222,
                            "#7201a8"
                          ],
                          [
                            0.3333333333333333,
                            "#9c179e"
                          ],
                          [
                            0.4444444444444444,
                            "#bd3786"
                          ],
                          [
                            0.5555555555555556,
                            "#d8576b"
                          ],
                          [
                            0.6666666666666666,
                            "#ed7953"
                          ],
                          [
                            0.7777777777777778,
                            "#fb9f3a"
                          ],
                          [
                            0.8888888888888888,
                            "#fdca26"
                          ],
                          [
                            1,
                            "#f0f921"
                          ]
                        ],
                        "type": "surface"
                      }
                    ],
                    "table": [
                      {
                        "cells": {
                          "fill": {
                            "color": "#EBF0F8"
                          },
                          "line": {
                            "color": "white"
                          }
                        },
                        "header": {
                          "fill": {
                            "color": "#C8D4E3"
                          },
                          "line": {
                            "color": "white"
                          }
                        },
                        "type": "table"
                      }
                    ]
                  },
                  "layout": {
                    "annotationdefaults": {
                      "arrowcolor": "#2a3f5f",
                      "arrowhead": 0,
                      "arrowwidth": 1
                    },
                    "autotypenumbers": "strict",
                    "coloraxis": {
                      "colorbar": {
                        "outlinewidth": 0,
                        "ticks": ""
                      }
                    },
                    "colorscale": {
                      "diverging": [
                        [
                          0,
                          "#8e0152"
                        ],
                        [
                          0.1,
                          "#c51b7d"
                        ],
                        [
                          0.2,
                          "#de77ae"
                        ],
                        [
                          0.3,
                          "#f1b6da"
                        ],
                        [
                          0.4,
                          "#fde0ef"
                        ],
                        [
                          0.5,
                          "#f7f7f7"
                        ],
                        [
                          0.6,
                          "#e6f5d0"
                        ],
                        [
                          0.7,
                          "#b8e186"
                        ],
                        [
                          0.8,
                          "#7fbc41"
                        ],
                        [
                          0.9,
                          "#4d9221"
                        ],
                        [
                          1,
                          "#276419"
                        ]
                      ],
                      "sequential": [
                        [
                          0,
                          "#0d0887"
                        ],
                        [
                          0.1111111111111111,
                          "#46039f"
                        ],
                        [
                          0.2222222222222222,
                          "#7201a8"
                        ],
                        [
                          0.3333333333333333,
                          "#9c179e"
                        ],
                        [
                          0.4444444444444444,
                          "#bd3786"
                        ],
                        [
                          0.5555555555555556,
                          "#d8576b"
                        ],
                        [
                          0.6666666666666666,
                          "#ed7953"
                        ],
                        [
                          0.7777777777777778,
                          "#fb9f3a"
                        ],
                        [
                          0.8888888888888888,
                          "#fdca26"
                        ],
                        [
                          1,
                          "#f0f921"
                        ]
                      ],
                      "sequentialminus": [
                        [
                          0,
                          "#0d0887"
                        ],
                        [
                          0.1111111111111111,
                          "#46039f"
                        ],
                        [
                          0.2222222222222222,
                          "#7201a8"
                        ],
                        [
                          0.3333333333333333,
                          "#9c179e"
                        ],
                        [
                          0.4444444444444444,
                          "#bd3786"
                        ],
                        [
                          0.5555555555555556,
                          "#d8576b"
                        ],
                        [
                          0.6666666666666666,
                          "#ed7953"
                        ],
                        [
                          0.7777777777777778,
                          "#fb9f3a"
                        ],
                        [
                          0.8888888888888888,
                          "#fdca26"
                        ],
                        [
                          1,
                          "#f0f921"
                        ]
                      ]
                    },
                    "colorway": [
                      "#636efa",
                      "#EF553B",
                      "#00cc96",
                      "#ab63fa",
                      "#FFA15A",
                      "#19d3f3",
                      "#FF6692",
                      "#B6E880",
                      "#FF97FF",
                      "#FECB52"
                    ],
                    "font": {
                      "color": "#2a3f5f"
                    },
                    "geo": {
                      "bgcolor": "white",
                      "lakecolor": "white",
                      "landcolor": "#E5ECF6",
                      "showlakes": true,
                      "showland": true,
                      "subunitcolor": "white"
                    },
                    "hoverlabel": {
                      "align": "left"
                    },
                    "hovermode": "closest",
                    "mapbox": {
                      "style": "light"
                    },
                    "paper_bgcolor": "white",
                    "plot_bgcolor": "#E5ECF6",
                    "polar": {
                      "angularaxis": {
                        "gridcolor": "white",
                        "linecolor": "white",
                        "ticks": ""
                      },
                      "bgcolor": "#E5ECF6",
                      "radialaxis": {
                        "gridcolor": "white",
                        "linecolor": "white",
                        "ticks": ""
                      }
                    },
                    "scene": {
                      "xaxis": {
                        "backgroundcolor": "#E5ECF6",
                        "gridcolor": "white",
                        "gridwidth": 2,
                        "linecolor": "white",
                        "showbackground": true,
                        "ticks": "",
                        "zerolinecolor": "white"
                      },
                      "yaxis": {
                        "backgroundcolor": "#E5ECF6",
                        "gridcolor": "white",
                        "gridwidth": 2,
                        "linecolor": "white",
                        "showbackground": true,
                        "ticks": "",
                        "zerolinecolor": "white"
                      },
                      "zaxis": {
                        "backgroundcolor": "#E5ECF6",
                        "gridcolor": "white",
                        "gridwidth": 2,
                        "linecolor": "white",
                        "showbackground": true,
                        "ticks": "",
                        "zerolinecolor": "white"
                      }
                    },
                    "shapedefaults": {
                      "line": {
                        "color": "#2a3f5f"
                      }
                    },
                    "ternary": {
                      "aaxis": {
                        "gridcolor": "white",
                        "linecolor": "white",
                        "ticks": ""
                      },
                      "baxis": {
                        "gridcolor": "white",
                        "linecolor": "white",
                        "ticks": ""
                      },
                      "bgcolor": "#E5ECF6",
                      "caxis": {
                        "gridcolor": "white",
                        "linecolor": "white",
                        "ticks": ""
                      }
                    },
                    "title": {
                      "x": 0.05
                    },
                    "xaxis": {
                      "automargin": true,
                      "gridcolor": "white",
                      "linecolor": "white",
                      "ticks": "",
                      "title": {
                        "standoff": 15
                      },
                      "zerolinecolor": "white",
                      "zerolinewidth": 2
                    },
                    "yaxis": {
                      "automargin": true,
                      "gridcolor": "white",
                      "linecolor": "white",
                      "ticks": "",
                      "title": {
                        "standoff": 15
                      },
                      "zerolinecolor": "white",
                      "zerolinewidth": 2
                    }
                  }
                },
                "title": {
                  "text": "Top 10 Players Season Total Assists",
                  "x": 0.5
                }
              }
            }
          },
          "metadata": {},
          "output_type": "display_data"
        }
      ],
      "source": [
        "maxast03PO=NBA03_PO.sort_values('AST',ascending=True)\n",
        "\n",
        "maxast03PO=maxast03PO[-10:]\n",
        "\n",
        "fig = go.Figure(go.Bar(\n",
        "    y=maxast03PO['Player'],x=maxast03PO['AST'],orientation=\"h\",\n",
        "    marker={'color': maxast03PO['AST'], \n",
        "    'colorscale': 'fall'},  \n",
        "    text=maxast03PO['AST'],\n",
        "    textposition = \"outside\",\n",
        "))\n",
        "fig.update_layout(title = \"Top 10 Players Season Total Assists\",title_x=0.5)\n",
        "fig.show()"
      ]
    },
    {
      "cell_type": "markdown",
      "metadata": {
        "id": "RihnpOGgbVhd"
      },
      "source": [
        "Notamos que Jason Kidd es el mayor asisitidor tanto en la temporada regular como los Playoffs.\n",
        "Haremos un promedio de sus asistencias por partido contemplando ambas instancias."
      ]
    },
    {
      "cell_type": "code",
      "execution_count": 26,
      "metadata": {
        "colab": {
          "base_uri": "https://localhost:8080/",
          "height": 542
        },
        "id": "AzIS2PxcqfDl",
        "outputId": "fdb26e2e-3b2f-4505-d76b-5c03fc61b76a"
      },
      "outputs": [
        {
          "data": {
            "application/vnd.plotly.v1+json": {
              "config": {
                "plotlyServerURL": "https://plot.ly"
              },
              "data": [
                {
                  "domain": {
                    "x": [
                      0.25,
                      1
                    ],
                    "y": [
                      0.9,
                      1
                    ]
                  },
                  "gauge": {
                    "axis": {
                      "range": [
                        null,
                        25
                      ]
                    },
                    "bar": {
                      "color": "red"
                    },
                    "shape": "bullet"
                  },
                  "mode": "number+gauge",
                  "number": {
                    "font": {
                      "color": "black"
                    }
                  },
                  "title": {
                    "font": {
                      "color": "black",
                      "size": 15
                    },
                    "text": "Promedio de AST"
                  },
                  "type": "indicator",
                  "value": 17.0375
                }
              ],
              "layout": {
                "template": {
                  "data": {
                    "bar": [
                      {
                        "error_x": {
                          "color": "#2a3f5f"
                        },
                        "error_y": {
                          "color": "#2a3f5f"
                        },
                        "marker": {
                          "line": {
                            "color": "#E5ECF6",
                            "width": 0.5
                          },
                          "pattern": {
                            "fillmode": "overlay",
                            "size": 10,
                            "solidity": 0.2
                          }
                        },
                        "type": "bar"
                      }
                    ],
                    "barpolar": [
                      {
                        "marker": {
                          "line": {
                            "color": "#E5ECF6",
                            "width": 0.5
                          },
                          "pattern": {
                            "fillmode": "overlay",
                            "size": 10,
                            "solidity": 0.2
                          }
                        },
                        "type": "barpolar"
                      }
                    ],
                    "carpet": [
                      {
                        "aaxis": {
                          "endlinecolor": "#2a3f5f",
                          "gridcolor": "white",
                          "linecolor": "white",
                          "minorgridcolor": "white",
                          "startlinecolor": "#2a3f5f"
                        },
                        "baxis": {
                          "endlinecolor": "#2a3f5f",
                          "gridcolor": "white",
                          "linecolor": "white",
                          "minorgridcolor": "white",
                          "startlinecolor": "#2a3f5f"
                        },
                        "type": "carpet"
                      }
                    ],
                    "choropleth": [
                      {
                        "colorbar": {
                          "outlinewidth": 0,
                          "ticks": ""
                        },
                        "type": "choropleth"
                      }
                    ],
                    "contour": [
                      {
                        "colorbar": {
                          "outlinewidth": 0,
                          "ticks": ""
                        },
                        "colorscale": [
                          [
                            0,
                            "#0d0887"
                          ],
                          [
                            0.1111111111111111,
                            "#46039f"
                          ],
                          [
                            0.2222222222222222,
                            "#7201a8"
                          ],
                          [
                            0.3333333333333333,
                            "#9c179e"
                          ],
                          [
                            0.4444444444444444,
                            "#bd3786"
                          ],
                          [
                            0.5555555555555556,
                            "#d8576b"
                          ],
                          [
                            0.6666666666666666,
                            "#ed7953"
                          ],
                          [
                            0.7777777777777778,
                            "#fb9f3a"
                          ],
                          [
                            0.8888888888888888,
                            "#fdca26"
                          ],
                          [
                            1,
                            "#f0f921"
                          ]
                        ],
                        "type": "contour"
                      }
                    ],
                    "contourcarpet": [
                      {
                        "colorbar": {
                          "outlinewidth": 0,
                          "ticks": ""
                        },
                        "type": "contourcarpet"
                      }
                    ],
                    "heatmap": [
                      {
                        "colorbar": {
                          "outlinewidth": 0,
                          "ticks": ""
                        },
                        "colorscale": [
                          [
                            0,
                            "#0d0887"
                          ],
                          [
                            0.1111111111111111,
                            "#46039f"
                          ],
                          [
                            0.2222222222222222,
                            "#7201a8"
                          ],
                          [
                            0.3333333333333333,
                            "#9c179e"
                          ],
                          [
                            0.4444444444444444,
                            "#bd3786"
                          ],
                          [
                            0.5555555555555556,
                            "#d8576b"
                          ],
                          [
                            0.6666666666666666,
                            "#ed7953"
                          ],
                          [
                            0.7777777777777778,
                            "#fb9f3a"
                          ],
                          [
                            0.8888888888888888,
                            "#fdca26"
                          ],
                          [
                            1,
                            "#f0f921"
                          ]
                        ],
                        "type": "heatmap"
                      }
                    ],
                    "heatmapgl": [
                      {
                        "colorbar": {
                          "outlinewidth": 0,
                          "ticks": ""
                        },
                        "colorscale": [
                          [
                            0,
                            "#0d0887"
                          ],
                          [
                            0.1111111111111111,
                            "#46039f"
                          ],
                          [
                            0.2222222222222222,
                            "#7201a8"
                          ],
                          [
                            0.3333333333333333,
                            "#9c179e"
                          ],
                          [
                            0.4444444444444444,
                            "#bd3786"
                          ],
                          [
                            0.5555555555555556,
                            "#d8576b"
                          ],
                          [
                            0.6666666666666666,
                            "#ed7953"
                          ],
                          [
                            0.7777777777777778,
                            "#fb9f3a"
                          ],
                          [
                            0.8888888888888888,
                            "#fdca26"
                          ],
                          [
                            1,
                            "#f0f921"
                          ]
                        ],
                        "type": "heatmapgl"
                      }
                    ],
                    "histogram": [
                      {
                        "marker": {
                          "pattern": {
                            "fillmode": "overlay",
                            "size": 10,
                            "solidity": 0.2
                          }
                        },
                        "type": "histogram"
                      }
                    ],
                    "histogram2d": [
                      {
                        "colorbar": {
                          "outlinewidth": 0,
                          "ticks": ""
                        },
                        "colorscale": [
                          [
                            0,
                            "#0d0887"
                          ],
                          [
                            0.1111111111111111,
                            "#46039f"
                          ],
                          [
                            0.2222222222222222,
                            "#7201a8"
                          ],
                          [
                            0.3333333333333333,
                            "#9c179e"
                          ],
                          [
                            0.4444444444444444,
                            "#bd3786"
                          ],
                          [
                            0.5555555555555556,
                            "#d8576b"
                          ],
                          [
                            0.6666666666666666,
                            "#ed7953"
                          ],
                          [
                            0.7777777777777778,
                            "#fb9f3a"
                          ],
                          [
                            0.8888888888888888,
                            "#fdca26"
                          ],
                          [
                            1,
                            "#f0f921"
                          ]
                        ],
                        "type": "histogram2d"
                      }
                    ],
                    "histogram2dcontour": [
                      {
                        "colorbar": {
                          "outlinewidth": 0,
                          "ticks": ""
                        },
                        "colorscale": [
                          [
                            0,
                            "#0d0887"
                          ],
                          [
                            0.1111111111111111,
                            "#46039f"
                          ],
                          [
                            0.2222222222222222,
                            "#7201a8"
                          ],
                          [
                            0.3333333333333333,
                            "#9c179e"
                          ],
                          [
                            0.4444444444444444,
                            "#bd3786"
                          ],
                          [
                            0.5555555555555556,
                            "#d8576b"
                          ],
                          [
                            0.6666666666666666,
                            "#ed7953"
                          ],
                          [
                            0.7777777777777778,
                            "#fb9f3a"
                          ],
                          [
                            0.8888888888888888,
                            "#fdca26"
                          ],
                          [
                            1,
                            "#f0f921"
                          ]
                        ],
                        "type": "histogram2dcontour"
                      }
                    ],
                    "mesh3d": [
                      {
                        "colorbar": {
                          "outlinewidth": 0,
                          "ticks": ""
                        },
                        "type": "mesh3d"
                      }
                    ],
                    "parcoords": [
                      {
                        "line": {
                          "colorbar": {
                            "outlinewidth": 0,
                            "ticks": ""
                          }
                        },
                        "type": "parcoords"
                      }
                    ],
                    "pie": [
                      {
                        "automargin": true,
                        "type": "pie"
                      }
                    ],
                    "scatter": [
                      {
                        "fillpattern": {
                          "fillmode": "overlay",
                          "size": 10,
                          "solidity": 0.2
                        },
                        "type": "scatter"
                      }
                    ],
                    "scatter3d": [
                      {
                        "line": {
                          "colorbar": {
                            "outlinewidth": 0,
                            "ticks": ""
                          }
                        },
                        "marker": {
                          "colorbar": {
                            "outlinewidth": 0,
                            "ticks": ""
                          }
                        },
                        "type": "scatter3d"
                      }
                    ],
                    "scattercarpet": [
                      {
                        "marker": {
                          "colorbar": {
                            "outlinewidth": 0,
                            "ticks": ""
                          }
                        },
                        "type": "scattercarpet"
                      }
                    ],
                    "scattergeo": [
                      {
                        "marker": {
                          "colorbar": {
                            "outlinewidth": 0,
                            "ticks": ""
                          }
                        },
                        "type": "scattergeo"
                      }
                    ],
                    "scattergl": [
                      {
                        "marker": {
                          "colorbar": {
                            "outlinewidth": 0,
                            "ticks": ""
                          }
                        },
                        "type": "scattergl"
                      }
                    ],
                    "scattermapbox": [
                      {
                        "marker": {
                          "colorbar": {
                            "outlinewidth": 0,
                            "ticks": ""
                          }
                        },
                        "type": "scattermapbox"
                      }
                    ],
                    "scatterpolar": [
                      {
                        "marker": {
                          "colorbar": {
                            "outlinewidth": 0,
                            "ticks": ""
                          }
                        },
                        "type": "scatterpolar"
                      }
                    ],
                    "scatterpolargl": [
                      {
                        "marker": {
                          "colorbar": {
                            "outlinewidth": 0,
                            "ticks": ""
                          }
                        },
                        "type": "scatterpolargl"
                      }
                    ],
                    "scatterternary": [
                      {
                        "marker": {
                          "colorbar": {
                            "outlinewidth": 0,
                            "ticks": ""
                          }
                        },
                        "type": "scatterternary"
                      }
                    ],
                    "surface": [
                      {
                        "colorbar": {
                          "outlinewidth": 0,
                          "ticks": ""
                        },
                        "colorscale": [
                          [
                            0,
                            "#0d0887"
                          ],
                          [
                            0.1111111111111111,
                            "#46039f"
                          ],
                          [
                            0.2222222222222222,
                            "#7201a8"
                          ],
                          [
                            0.3333333333333333,
                            "#9c179e"
                          ],
                          [
                            0.4444444444444444,
                            "#bd3786"
                          ],
                          [
                            0.5555555555555556,
                            "#d8576b"
                          ],
                          [
                            0.6666666666666666,
                            "#ed7953"
                          ],
                          [
                            0.7777777777777778,
                            "#fb9f3a"
                          ],
                          [
                            0.8888888888888888,
                            "#fdca26"
                          ],
                          [
                            1,
                            "#f0f921"
                          ]
                        ],
                        "type": "surface"
                      }
                    ],
                    "table": [
                      {
                        "cells": {
                          "fill": {
                            "color": "#EBF0F8"
                          },
                          "line": {
                            "color": "white"
                          }
                        },
                        "header": {
                          "fill": {
                            "color": "#C8D4E3"
                          },
                          "line": {
                            "color": "white"
                          }
                        },
                        "type": "table"
                      }
                    ]
                  },
                  "layout": {
                    "annotationdefaults": {
                      "arrowcolor": "#2a3f5f",
                      "arrowhead": 0,
                      "arrowwidth": 1
                    },
                    "autotypenumbers": "strict",
                    "coloraxis": {
                      "colorbar": {
                        "outlinewidth": 0,
                        "ticks": ""
                      }
                    },
                    "colorscale": {
                      "diverging": [
                        [
                          0,
                          "#8e0152"
                        ],
                        [
                          0.1,
                          "#c51b7d"
                        ],
                        [
                          0.2,
                          "#de77ae"
                        ],
                        [
                          0.3,
                          "#f1b6da"
                        ],
                        [
                          0.4,
                          "#fde0ef"
                        ],
                        [
                          0.5,
                          "#f7f7f7"
                        ],
                        [
                          0.6,
                          "#e6f5d0"
                        ],
                        [
                          0.7,
                          "#b8e186"
                        ],
                        [
                          0.8,
                          "#7fbc41"
                        ],
                        [
                          0.9,
                          "#4d9221"
                        ],
                        [
                          1,
                          "#276419"
                        ]
                      ],
                      "sequential": [
                        [
                          0,
                          "#0d0887"
                        ],
                        [
                          0.1111111111111111,
                          "#46039f"
                        ],
                        [
                          0.2222222222222222,
                          "#7201a8"
                        ],
                        [
                          0.3333333333333333,
                          "#9c179e"
                        ],
                        [
                          0.4444444444444444,
                          "#bd3786"
                        ],
                        [
                          0.5555555555555556,
                          "#d8576b"
                        ],
                        [
                          0.6666666666666666,
                          "#ed7953"
                        ],
                        [
                          0.7777777777777778,
                          "#fb9f3a"
                        ],
                        [
                          0.8888888888888888,
                          "#fdca26"
                        ],
                        [
                          1,
                          "#f0f921"
                        ]
                      ],
                      "sequentialminus": [
                        [
                          0,
                          "#0d0887"
                        ],
                        [
                          0.1111111111111111,
                          "#46039f"
                        ],
                        [
                          0.2222222222222222,
                          "#7201a8"
                        ],
                        [
                          0.3333333333333333,
                          "#9c179e"
                        ],
                        [
                          0.4444444444444444,
                          "#bd3786"
                        ],
                        [
                          0.5555555555555556,
                          "#d8576b"
                        ],
                        [
                          0.6666666666666666,
                          "#ed7953"
                        ],
                        [
                          0.7777777777777778,
                          "#fb9f3a"
                        ],
                        [
                          0.8888888888888888,
                          "#fdca26"
                        ],
                        [
                          1,
                          "#f0f921"
                        ]
                      ]
                    },
                    "colorway": [
                      "#636efa",
                      "#EF553B",
                      "#00cc96",
                      "#ab63fa",
                      "#FFA15A",
                      "#19d3f3",
                      "#FF6692",
                      "#B6E880",
                      "#FF97FF",
                      "#FECB52"
                    ],
                    "font": {
                      "color": "#2a3f5f"
                    },
                    "geo": {
                      "bgcolor": "white",
                      "lakecolor": "white",
                      "landcolor": "#E5ECF6",
                      "showlakes": true,
                      "showland": true,
                      "subunitcolor": "white"
                    },
                    "hoverlabel": {
                      "align": "left"
                    },
                    "hovermode": "closest",
                    "mapbox": {
                      "style": "light"
                    },
                    "paper_bgcolor": "white",
                    "plot_bgcolor": "#E5ECF6",
                    "polar": {
                      "angularaxis": {
                        "gridcolor": "white",
                        "linecolor": "white",
                        "ticks": ""
                      },
                      "bgcolor": "#E5ECF6",
                      "radialaxis": {
                        "gridcolor": "white",
                        "linecolor": "white",
                        "ticks": ""
                      }
                    },
                    "scene": {
                      "xaxis": {
                        "backgroundcolor": "#E5ECF6",
                        "gridcolor": "white",
                        "gridwidth": 2,
                        "linecolor": "white",
                        "showbackground": true,
                        "ticks": "",
                        "zerolinecolor": "white"
                      },
                      "yaxis": {
                        "backgroundcolor": "#E5ECF6",
                        "gridcolor": "white",
                        "gridwidth": 2,
                        "linecolor": "white",
                        "showbackground": true,
                        "ticks": "",
                        "zerolinecolor": "white"
                      },
                      "zaxis": {
                        "backgroundcolor": "#E5ECF6",
                        "gridcolor": "white",
                        "gridwidth": 2,
                        "linecolor": "white",
                        "showbackground": true,
                        "ticks": "",
                        "zerolinecolor": "white"
                      }
                    },
                    "shapedefaults": {
                      "line": {
                        "color": "#2a3f5f"
                      }
                    },
                    "ternary": {
                      "aaxis": {
                        "gridcolor": "white",
                        "linecolor": "white",
                        "ticks": ""
                      },
                      "baxis": {
                        "gridcolor": "white",
                        "linecolor": "white",
                        "ticks": ""
                      },
                      "bgcolor": "#E5ECF6",
                      "caxis": {
                        "gridcolor": "white",
                        "linecolor": "white",
                        "ticks": ""
                      }
                    },
                    "title": {
                      "x": 0.05
                    },
                    "xaxis": {
                      "automargin": true,
                      "gridcolor": "white",
                      "linecolor": "white",
                      "ticks": "",
                      "title": {
                        "standoff": 15
                      },
                      "zerolinecolor": "white",
                      "zerolinewidth": 2
                    },
                    "yaxis": {
                      "automargin": true,
                      "gridcolor": "white",
                      "linecolor": "white",
                      "ticks": "",
                      "title": {
                        "standoff": 15
                      },
                      "zerolinecolor": "white",
                      "zerolinewidth": 2
                    }
                  }
                },
                "title": {
                  "text": " Jason Kidd  ",
                  "x": 0.5
                }
              }
            }
          },
          "metadata": {},
          "output_type": "display_data"
        }
      ],
      "source": [
        "jas = NBA03[NBA03['Player']=='Jason Kidd']\n",
        "\n",
        "sum_ast_jas = jas.gameper_ast.sum()\n",
        "\n",
        "fig = go.Figure()\n",
        "\n",
        "fig.add_trace(go.Indicator(\n",
        "    mode = \"number+gauge\", value = sum_ast_jas,\n",
        "    domain = {'x': [0.25, 1], 'y': [0.9,1]},\n",
        "    title = {'text' :\"Promedio de AST\",'font':{'color': 'black','size':15}},\n",
        "     number={'font':{'color': 'black'}},\n",
        "    gauge = {\n",
        "        'shape': \"bullet\",\n",
        "        'axis': {'range': [None,25]},\n",
        "        'bar': {'color': \"red\"}}\n",
        "))\n",
        "fig.update_layout(title=\" Jason Kidd  \",title_x=0.5)\n",
        "fig.show()"
      ]
    },
    {
      "cell_type": "markdown",
      "metadata": {
        "id": "SxIXHl03s4l4"
      },
      "source": [
        "Destacamos que Jason Kidd promedia 17 asistencias por partido.\n",
        "\n",
        "Lo siguiente que haremos es un análisis en los Playoffs del equipo campeón de este año, los San Antonio Spurs."
      ]
    },
    {
      "cell_type": "code",
      "execution_count": 27,
      "metadata": {
        "colab": {
          "base_uri": "https://localhost:8080/"
        },
        "id": "1ElOBaKQBw-S",
        "outputId": "aa9bb185-0ce8-46db-bd1a-d52799525523"
      },
      "outputs": [
        {
          "name": "stdout",
          "output_type": "stream",
          "text": [
            "The teams of NBA are : ['LAL' 'ORL' 'PHI' 'BOS' 'DAL' 'SAS' 'MIN' 'NYK' 'GSW' 'CHI' 'PHX' 'NOP'\n",
            " 'SEA' 'HOU' 'UTA' 'WAS' 'MIL' 'CLE' 'DET' 'ATL' 'IND' 'MEM' 'SAC' 'NJN'\n",
            " 'DEN' 'POR' 'MIA' 'TOR' 'LAC']\n"
          ]
        }
      ],
      "source": [
        "print('The teams of NBA are :',NBA03.Team.unique())"
      ]
    },
    {
      "cell_type": "code",
      "execution_count": 28,
      "metadata": {
        "colab": {
          "base_uri": "https://localhost:8080/",
          "height": 392
        },
        "id": "bVphMTNPKxI7",
        "outputId": "a632c53d-e09c-498c-ee25-5169a5e33821"
      },
      "outputs": [
        {
          "data": {
            "text/html": [
              "<div>\n",
              "<style scoped>\n",
              "    .dataframe tbody tr th:only-of-type {\n",
              "        vertical-align: middle;\n",
              "    }\n",
              "\n",
              "    .dataframe tbody tr th {\n",
              "        vertical-align: top;\n",
              "    }\n",
              "\n",
              "    .dataframe thead th {\n",
              "        text-align: right;\n",
              "    }\n",
              "</style>\n",
              "<table border=\"1\" class=\"dataframe\">\n",
              "  <thead>\n",
              "    <tr style=\"text-align: right;\">\n",
              "      <th></th>\n",
              "      <th>League</th>\n",
              "      <th>Season</th>\n",
              "      <th>Stage</th>\n",
              "      <th>Player</th>\n",
              "      <th>Team</th>\n",
              "      <th>GP</th>\n",
              "      <th>MIN</th>\n",
              "      <th>FGM</th>\n",
              "      <th>FGA</th>\n",
              "      <th>TPM</th>\n",
              "      <th>...</th>\n",
              "      <th>height</th>\n",
              "      <th>height_cm</th>\n",
              "      <th>weight</th>\n",
              "      <th>weight_kg</th>\n",
              "      <th>nationality</th>\n",
              "      <th>high_school</th>\n",
              "      <th>draft_round</th>\n",
              "      <th>draft_pick</th>\n",
              "      <th>draft_team</th>\n",
              "      <th>gameper_ast</th>\n",
              "    </tr>\n",
              "  </thead>\n",
              "  <tbody>\n",
              "    <tr>\n",
              "      <th>1896</th>\n",
              "      <td>NBA</td>\n",
              "      <td>2002 - 2003</td>\n",
              "      <td>Playoffs</td>\n",
              "      <td>Tim Duncan</td>\n",
              "      <td>SAS</td>\n",
              "      <td>24</td>\n",
              "      <td>1021.0</td>\n",
              "      <td>218</td>\n",
              "      <td>412</td>\n",
              "      <td>0</td>\n",
              "      <td>...</td>\n",
              "      <td>6-11</td>\n",
              "      <td>211.0</td>\n",
              "      <td>250.0</td>\n",
              "      <td>113.0</td>\n",
              "      <td>United States</td>\n",
              "      <td>St. Dunstan's Episcopal High School</td>\n",
              "      <td>1.0</td>\n",
              "      <td>1.0</td>\n",
              "      <td>San Antonio Spurs</td>\n",
              "      <td>5.291667</td>\n",
              "    </tr>\n",
              "    <tr>\n",
              "      <th>1905</th>\n",
              "      <td>NBA</td>\n",
              "      <td>2002 - 2003</td>\n",
              "      <td>Playoffs</td>\n",
              "      <td>Tony Parker</td>\n",
              "      <td>SAS</td>\n",
              "      <td>24</td>\n",
              "      <td>814.0</td>\n",
              "      <td>135</td>\n",
              "      <td>335</td>\n",
              "      <td>15</td>\n",
              "      <td>...</td>\n",
              "      <td>6-2</td>\n",
              "      <td>188.0</td>\n",
              "      <td>185.0</td>\n",
              "      <td>84.0</td>\n",
              "      <td>France</td>\n",
              "      <td>NaN</td>\n",
              "      <td>1.0</td>\n",
              "      <td>28.0</td>\n",
              "      <td>San Antonio Spurs</td>\n",
              "      <td>3.541667</td>\n",
              "    </tr>\n",
              "    <tr>\n",
              "      <th>1908</th>\n",
              "      <td>NBA</td>\n",
              "      <td>2002 - 2003</td>\n",
              "      <td>Playoffs</td>\n",
              "      <td>Stephen Jackson</td>\n",
              "      <td>SAS</td>\n",
              "      <td>24</td>\n",
              "      <td>811.0</td>\n",
              "      <td>108</td>\n",
              "      <td>261</td>\n",
              "      <td>38</td>\n",
              "      <td>...</td>\n",
              "      <td>6-8</td>\n",
              "      <td>203.0</td>\n",
              "      <td>220.0</td>\n",
              "      <td>100.0</td>\n",
              "      <td>United States</td>\n",
              "      <td>Oak Hill Academy</td>\n",
              "      <td>2.0</td>\n",
              "      <td>14.0</td>\n",
              "      <td>Phoenix Suns</td>\n",
              "      <td>2.708333</td>\n",
              "    </tr>\n",
              "    <tr>\n",
              "      <th>1913</th>\n",
              "      <td>NBA</td>\n",
              "      <td>2002 - 2003</td>\n",
              "      <td>Playoffs</td>\n",
              "      <td>Manu Ginobili</td>\n",
              "      <td>SAS</td>\n",
              "      <td>24</td>\n",
              "      <td>660.0</td>\n",
              "      <td>71</td>\n",
              "      <td>184</td>\n",
              "      <td>28</td>\n",
              "      <td>...</td>\n",
              "      <td>6-6</td>\n",
              "      <td>198.0</td>\n",
              "      <td>205.0</td>\n",
              "      <td>93.0</td>\n",
              "      <td>Argentina</td>\n",
              "      <td>NaN</td>\n",
              "      <td>2.0</td>\n",
              "      <td>28.0</td>\n",
              "      <td>San Antonio Spurs</td>\n",
              "      <td>2.916667</td>\n",
              "    </tr>\n",
              "    <tr>\n",
              "      <th>1914</th>\n",
              "      <td>NBA</td>\n",
              "      <td>2002 - 2003</td>\n",
              "      <td>Playoffs</td>\n",
              "      <td>Malik Rose</td>\n",
              "      <td>SAS</td>\n",
              "      <td>24</td>\n",
              "      <td>560.0</td>\n",
              "      <td>75</td>\n",
              "      <td>179</td>\n",
              "      <td>0</td>\n",
              "      <td>...</td>\n",
              "      <td>6-7</td>\n",
              "      <td>201.0</td>\n",
              "      <td>250.0</td>\n",
              "      <td>113.0</td>\n",
              "      <td>United States</td>\n",
              "      <td>Overbrook High School</td>\n",
              "      <td>2.0</td>\n",
              "      <td>15.0</td>\n",
              "      <td>Charlotte Hornets</td>\n",
              "      <td>1.000000</td>\n",
              "    </tr>\n",
              "    <tr>\n",
              "      <th>1917</th>\n",
              "      <td>NBA</td>\n",
              "      <td>2002 - 2003</td>\n",
              "      <td>Playoffs</td>\n",
              "      <td>David Robinson</td>\n",
              "      <td>SAS</td>\n",
              "      <td>23</td>\n",
              "      <td>539.0</td>\n",
              "      <td>64</td>\n",
              "      <td>118</td>\n",
              "      <td>0</td>\n",
              "      <td>...</td>\n",
              "      <td>7-1</td>\n",
              "      <td>216.0</td>\n",
              "      <td>250.0</td>\n",
              "      <td>113.0</td>\n",
              "      <td>United States</td>\n",
              "      <td>Osbourn Park High School</td>\n",
              "      <td>1.0</td>\n",
              "      <td>1.0</td>\n",
              "      <td>San Antonio Spurs</td>\n",
              "      <td>0.913043</td>\n",
              "    </tr>\n",
              "    <tr>\n",
              "      <th>1920</th>\n",
              "      <td>NBA</td>\n",
              "      <td>2002 - 2003</td>\n",
              "      <td>Playoffs</td>\n",
              "      <td>Bruce Bowen</td>\n",
              "      <td>SAS</td>\n",
              "      <td>24</td>\n",
              "      <td>750.0</td>\n",
              "      <td>54</td>\n",
              "      <td>145</td>\n",
              "      <td>35</td>\n",
              "      <td>...</td>\n",
              "      <td>6-7</td>\n",
              "      <td>201.0</td>\n",
              "      <td>200.0</td>\n",
              "      <td>91.0</td>\n",
              "      <td>United States</td>\n",
              "      <td>Edison High School</td>\n",
              "      <td>NaN</td>\n",
              "      <td>NaN</td>\n",
              "      <td>NaN</td>\n",
              "      <td>1.625000</td>\n",
              "    </tr>\n",
              "    <tr>\n",
              "      <th>1941</th>\n",
              "      <td>NBA</td>\n",
              "      <td>2002 - 2003</td>\n",
              "      <td>Playoffs</td>\n",
              "      <td>Speedy Claxton</td>\n",
              "      <td>SAS</td>\n",
              "      <td>24</td>\n",
              "      <td>326.0</td>\n",
              "      <td>46</td>\n",
              "      <td>105</td>\n",
              "      <td>0</td>\n",
              "      <td>...</td>\n",
              "      <td>5-11</td>\n",
              "      <td>180.0</td>\n",
              "      <td>170.0</td>\n",
              "      <td>77.0</td>\n",
              "      <td>United States</td>\n",
              "      <td>Christ the King</td>\n",
              "      <td>1.0</td>\n",
              "      <td>20.0</td>\n",
              "      <td>Philadelphia Sixers</td>\n",
              "      <td>1.875000</td>\n",
              "    </tr>\n",
              "    <tr>\n",
              "      <th>1996</th>\n",
              "      <td>NBA</td>\n",
              "      <td>2002 - 2003</td>\n",
              "      <td>Playoffs</td>\n",
              "      <td>Kevin Willis</td>\n",
              "      <td>SAS</td>\n",
              "      <td>18</td>\n",
              "      <td>91.0</td>\n",
              "      <td>21</td>\n",
              "      <td>40</td>\n",
              "      <td>1</td>\n",
              "      <td>...</td>\n",
              "      <td>7-0</td>\n",
              "      <td>213.0</td>\n",
              "      <td>245.0</td>\n",
              "      <td>111.0</td>\n",
              "      <td>United States</td>\n",
              "      <td>Pershing High School</td>\n",
              "      <td>1.0</td>\n",
              "      <td>11.0</td>\n",
              "      <td>Atlanta Hawks</td>\n",
              "      <td>0.111111</td>\n",
              "    </tr>\n",
              "    <tr>\n",
              "      <th>2035</th>\n",
              "      <td>NBA</td>\n",
              "      <td>2002 - 2003</td>\n",
              "      <td>Playoffs</td>\n",
              "      <td>Danny Ferry</td>\n",
              "      <td>SAS</td>\n",
              "      <td>16</td>\n",
              "      <td>101.0</td>\n",
              "      <td>8</td>\n",
              "      <td>28</td>\n",
              "      <td>4</td>\n",
              "      <td>...</td>\n",
              "      <td>6-10</td>\n",
              "      <td>208.0</td>\n",
              "      <td>230.0</td>\n",
              "      <td>104.0</td>\n",
              "      <td>United States</td>\n",
              "      <td>DeMatha Catholic High School</td>\n",
              "      <td>1.0</td>\n",
              "      <td>2.0</td>\n",
              "      <td>Los Angeles Clippers</td>\n",
              "      <td>0.437500</td>\n",
              "    </tr>\n",
              "  </tbody>\n",
              "</table>\n",
              "<p>10 rows × 35 columns</p>\n",
              "</div>"
            ],
            "text/plain": [
              "     League       Season     Stage           Player Team  GP     MIN  FGM  \\\n",
              "1896    NBA  2002 - 2003  Playoffs       Tim Duncan  SAS  24  1021.0  218   \n",
              "1905    NBA  2002 - 2003  Playoffs      Tony Parker  SAS  24   814.0  135   \n",
              "1908    NBA  2002 - 2003  Playoffs  Stephen Jackson  SAS  24   811.0  108   \n",
              "1913    NBA  2002 - 2003  Playoffs    Manu Ginobili  SAS  24   660.0   71   \n",
              "1914    NBA  2002 - 2003  Playoffs       Malik Rose  SAS  24   560.0   75   \n",
              "1917    NBA  2002 - 2003  Playoffs   David Robinson  SAS  23   539.0   64   \n",
              "1920    NBA  2002 - 2003  Playoffs      Bruce Bowen  SAS  24   750.0   54   \n",
              "1941    NBA  2002 - 2003  Playoffs   Speedy Claxton  SAS  24   326.0   46   \n",
              "1996    NBA  2002 - 2003  Playoffs     Kevin Willis  SAS  18    91.0   21   \n",
              "2035    NBA  2002 - 2003  Playoffs      Danny Ferry  SAS  16   101.0    8   \n",
              "\n",
              "      FGA  TPM  ...  height  height_cm  weight  weight_kg    nationality  \\\n",
              "1896  412    0  ...    6-11      211.0   250.0      113.0  United States   \n",
              "1905  335   15  ...     6-2      188.0   185.0       84.0         France   \n",
              "1908  261   38  ...     6-8      203.0   220.0      100.0  United States   \n",
              "1913  184   28  ...     6-6      198.0   205.0       93.0      Argentina   \n",
              "1914  179    0  ...     6-7      201.0   250.0      113.0  United States   \n",
              "1917  118    0  ...     7-1      216.0   250.0      113.0  United States   \n",
              "1920  145   35  ...     6-7      201.0   200.0       91.0  United States   \n",
              "1941  105    0  ...    5-11      180.0   170.0       77.0  United States   \n",
              "1996   40    1  ...     7-0      213.0   245.0      111.0  United States   \n",
              "2035   28    4  ...    6-10      208.0   230.0      104.0  United States   \n",
              "\n",
              "                              high_school  draft_round  draft_pick  \\\n",
              "1896  St. Dunstan's Episcopal High School          1.0         1.0   \n",
              "1905                                  NaN          1.0        28.0   \n",
              "1908                     Oak Hill Academy          2.0        14.0   \n",
              "1913                                  NaN          2.0        28.0   \n",
              "1914                Overbrook High School          2.0        15.0   \n",
              "1917             Osbourn Park High School          1.0         1.0   \n",
              "1920                   Edison High School          NaN         NaN   \n",
              "1941                      Christ the King          1.0        20.0   \n",
              "1996                 Pershing High School          1.0        11.0   \n",
              "2035         DeMatha Catholic High School          1.0         2.0   \n",
              "\n",
              "                draft_team  gameper_ast  \n",
              "1896     San Antonio Spurs     5.291667  \n",
              "1905     San Antonio Spurs     3.541667  \n",
              "1908          Phoenix Suns     2.708333  \n",
              "1913     San Antonio Spurs     2.916667  \n",
              "1914     Charlotte Hornets     1.000000  \n",
              "1917     San Antonio Spurs     0.913043  \n",
              "1920                   NaN     1.625000  \n",
              "1941   Philadelphia Sixers     1.875000  \n",
              "1996         Atlanta Hawks     0.111111  \n",
              "2035  Los Angeles Clippers     0.437500  \n",
              "\n",
              "[10 rows x 35 columns]"
            ]
          },
          "execution_count": 28,
          "metadata": {},
          "output_type": "execute_result"
        }
      ],
      "source": [
        "sas = NBA03_PO[NBA03_PO['Team']=='SAS'] \n",
        "sas.head(10)"
      ]
    },
    {
      "cell_type": "code",
      "execution_count": 29,
      "metadata": {
        "colab": {
          "base_uri": "https://localhost:8080/",
          "height": 542
        },
        "id": "ErdDFnQQLl11",
        "outputId": "7fe3b821-ab80-4195-f085-9aa386ebc484"
      },
      "outputs": [
        {
          "data": {
            "application/vnd.plotly.v1+json": {
              "config": {
                "plotlyServerURL": "https://plot.ly"
              },
              "data": [
                {
                  "domain": {
                    "x": [
                      0.25,
                      1
                    ],
                    "y": [
                      0.1,
                      0.2
                    ]
                  },
                  "gauge": {
                    "axis": {
                      "range": [
                        null,
                        2500
                      ]
                    },
                    "bar": {
                      "color": "blue"
                    },
                    "shape": "bullet"
                  },
                  "mode": "number+gauge",
                  "number": {
                    "font": {
                      "color": "black"
                    }
                  },
                  "title": {
                    "font": {
                      "color": "black",
                      "size": 15
                    },
                    "text": "PTS"
                  },
                  "type": "indicator",
                  "value": 2253
                },
                {
                  "domain": {
                    "x": [
                      0.25,
                      1
                    ],
                    "y": [
                      0.3,
                      0.4
                    ]
                  },
                  "gauge": {
                    "axis": {
                      "range": [
                        null,
                        2500
                      ]
                    },
                    "bar": {
                      "color": "cyan"
                    },
                    "shape": "bullet"
                  },
                  "mode": "number+gauge",
                  "number": {
                    "font": {
                      "color": "black"
                    }
                  },
                  "title": {
                    "font": {
                      "color": "black",
                      "size": 15
                    },
                    "text": "AST"
                  },
                  "type": "indicator",
                  "value": 491
                },
                {
                  "domain": {
                    "x": [
                      0.25,
                      1
                    ],
                    "y": [
                      0.5,
                      0.6
                    ]
                  },
                  "gauge": {
                    "axis": {
                      "range": [
                        null,
                        2500
                      ]
                    },
                    "bar": {
                      "color": "red"
                    },
                    "shape": "bullet"
                  },
                  "mode": "number+gauge",
                  "number": {
                    "font": {
                      "color": "black"
                    }
                  },
                  "title": {
                    "font": {
                      "color": "black",
                      "size": 15
                    },
                    "text": "REB"
                  },
                  "type": "indicator",
                  "value": 1090
                },
                {
                  "domain": {
                    "x": [
                      0.25,
                      1
                    ],
                    "y": [
                      0.7,
                      0.8
                    ]
                  },
                  "gauge": {
                    "axis": {
                      "range": [
                        null,
                        2500
                      ]
                    },
                    "bar": {
                      "color": "red"
                    },
                    "shape": "bullet"
                  },
                  "mode": "number+gauge",
                  "number": {
                    "font": {
                      "color": "black"
                    }
                  },
                  "title": {
                    "font": {
                      "color": "black",
                      "size": 15
                    },
                    "text": "ORB"
                  },
                  "type": "indicator",
                  "value": 290
                },
                {
                  "domain": {
                    "x": [
                      0.25,
                      1
                    ],
                    "y": [
                      0.9,
                      1
                    ]
                  },
                  "gauge": {
                    "axis": {
                      "range": [
                        null,
                        2500
                      ]
                    },
                    "bar": {
                      "color": "red"
                    },
                    "shape": "bullet"
                  },
                  "mode": "number+gauge",
                  "number": {
                    "font": {
                      "color": "black"
                    }
                  },
                  "title": {
                    "font": {
                      "color": "black",
                      "size": 15
                    },
                    "text": "DRB"
                  },
                  "type": "indicator",
                  "value": 800
                }
              ],
              "layout": {
                "template": {
                  "data": {
                    "bar": [
                      {
                        "error_x": {
                          "color": "#2a3f5f"
                        },
                        "error_y": {
                          "color": "#2a3f5f"
                        },
                        "marker": {
                          "line": {
                            "color": "#E5ECF6",
                            "width": 0.5
                          },
                          "pattern": {
                            "fillmode": "overlay",
                            "size": 10,
                            "solidity": 0.2
                          }
                        },
                        "type": "bar"
                      }
                    ],
                    "barpolar": [
                      {
                        "marker": {
                          "line": {
                            "color": "#E5ECF6",
                            "width": 0.5
                          },
                          "pattern": {
                            "fillmode": "overlay",
                            "size": 10,
                            "solidity": 0.2
                          }
                        },
                        "type": "barpolar"
                      }
                    ],
                    "carpet": [
                      {
                        "aaxis": {
                          "endlinecolor": "#2a3f5f",
                          "gridcolor": "white",
                          "linecolor": "white",
                          "minorgridcolor": "white",
                          "startlinecolor": "#2a3f5f"
                        },
                        "baxis": {
                          "endlinecolor": "#2a3f5f",
                          "gridcolor": "white",
                          "linecolor": "white",
                          "minorgridcolor": "white",
                          "startlinecolor": "#2a3f5f"
                        },
                        "type": "carpet"
                      }
                    ],
                    "choropleth": [
                      {
                        "colorbar": {
                          "outlinewidth": 0,
                          "ticks": ""
                        },
                        "type": "choropleth"
                      }
                    ],
                    "contour": [
                      {
                        "colorbar": {
                          "outlinewidth": 0,
                          "ticks": ""
                        },
                        "colorscale": [
                          [
                            0,
                            "#0d0887"
                          ],
                          [
                            0.1111111111111111,
                            "#46039f"
                          ],
                          [
                            0.2222222222222222,
                            "#7201a8"
                          ],
                          [
                            0.3333333333333333,
                            "#9c179e"
                          ],
                          [
                            0.4444444444444444,
                            "#bd3786"
                          ],
                          [
                            0.5555555555555556,
                            "#d8576b"
                          ],
                          [
                            0.6666666666666666,
                            "#ed7953"
                          ],
                          [
                            0.7777777777777778,
                            "#fb9f3a"
                          ],
                          [
                            0.8888888888888888,
                            "#fdca26"
                          ],
                          [
                            1,
                            "#f0f921"
                          ]
                        ],
                        "type": "contour"
                      }
                    ],
                    "contourcarpet": [
                      {
                        "colorbar": {
                          "outlinewidth": 0,
                          "ticks": ""
                        },
                        "type": "contourcarpet"
                      }
                    ],
                    "heatmap": [
                      {
                        "colorbar": {
                          "outlinewidth": 0,
                          "ticks": ""
                        },
                        "colorscale": [
                          [
                            0,
                            "#0d0887"
                          ],
                          [
                            0.1111111111111111,
                            "#46039f"
                          ],
                          [
                            0.2222222222222222,
                            "#7201a8"
                          ],
                          [
                            0.3333333333333333,
                            "#9c179e"
                          ],
                          [
                            0.4444444444444444,
                            "#bd3786"
                          ],
                          [
                            0.5555555555555556,
                            "#d8576b"
                          ],
                          [
                            0.6666666666666666,
                            "#ed7953"
                          ],
                          [
                            0.7777777777777778,
                            "#fb9f3a"
                          ],
                          [
                            0.8888888888888888,
                            "#fdca26"
                          ],
                          [
                            1,
                            "#f0f921"
                          ]
                        ],
                        "type": "heatmap"
                      }
                    ],
                    "heatmapgl": [
                      {
                        "colorbar": {
                          "outlinewidth": 0,
                          "ticks": ""
                        },
                        "colorscale": [
                          [
                            0,
                            "#0d0887"
                          ],
                          [
                            0.1111111111111111,
                            "#46039f"
                          ],
                          [
                            0.2222222222222222,
                            "#7201a8"
                          ],
                          [
                            0.3333333333333333,
                            "#9c179e"
                          ],
                          [
                            0.4444444444444444,
                            "#bd3786"
                          ],
                          [
                            0.5555555555555556,
                            "#d8576b"
                          ],
                          [
                            0.6666666666666666,
                            "#ed7953"
                          ],
                          [
                            0.7777777777777778,
                            "#fb9f3a"
                          ],
                          [
                            0.8888888888888888,
                            "#fdca26"
                          ],
                          [
                            1,
                            "#f0f921"
                          ]
                        ],
                        "type": "heatmapgl"
                      }
                    ],
                    "histogram": [
                      {
                        "marker": {
                          "pattern": {
                            "fillmode": "overlay",
                            "size": 10,
                            "solidity": 0.2
                          }
                        },
                        "type": "histogram"
                      }
                    ],
                    "histogram2d": [
                      {
                        "colorbar": {
                          "outlinewidth": 0,
                          "ticks": ""
                        },
                        "colorscale": [
                          [
                            0,
                            "#0d0887"
                          ],
                          [
                            0.1111111111111111,
                            "#46039f"
                          ],
                          [
                            0.2222222222222222,
                            "#7201a8"
                          ],
                          [
                            0.3333333333333333,
                            "#9c179e"
                          ],
                          [
                            0.4444444444444444,
                            "#bd3786"
                          ],
                          [
                            0.5555555555555556,
                            "#d8576b"
                          ],
                          [
                            0.6666666666666666,
                            "#ed7953"
                          ],
                          [
                            0.7777777777777778,
                            "#fb9f3a"
                          ],
                          [
                            0.8888888888888888,
                            "#fdca26"
                          ],
                          [
                            1,
                            "#f0f921"
                          ]
                        ],
                        "type": "histogram2d"
                      }
                    ],
                    "histogram2dcontour": [
                      {
                        "colorbar": {
                          "outlinewidth": 0,
                          "ticks": ""
                        },
                        "colorscale": [
                          [
                            0,
                            "#0d0887"
                          ],
                          [
                            0.1111111111111111,
                            "#46039f"
                          ],
                          [
                            0.2222222222222222,
                            "#7201a8"
                          ],
                          [
                            0.3333333333333333,
                            "#9c179e"
                          ],
                          [
                            0.4444444444444444,
                            "#bd3786"
                          ],
                          [
                            0.5555555555555556,
                            "#d8576b"
                          ],
                          [
                            0.6666666666666666,
                            "#ed7953"
                          ],
                          [
                            0.7777777777777778,
                            "#fb9f3a"
                          ],
                          [
                            0.8888888888888888,
                            "#fdca26"
                          ],
                          [
                            1,
                            "#f0f921"
                          ]
                        ],
                        "type": "histogram2dcontour"
                      }
                    ],
                    "mesh3d": [
                      {
                        "colorbar": {
                          "outlinewidth": 0,
                          "ticks": ""
                        },
                        "type": "mesh3d"
                      }
                    ],
                    "parcoords": [
                      {
                        "line": {
                          "colorbar": {
                            "outlinewidth": 0,
                            "ticks": ""
                          }
                        },
                        "type": "parcoords"
                      }
                    ],
                    "pie": [
                      {
                        "automargin": true,
                        "type": "pie"
                      }
                    ],
                    "scatter": [
                      {
                        "fillpattern": {
                          "fillmode": "overlay",
                          "size": 10,
                          "solidity": 0.2
                        },
                        "type": "scatter"
                      }
                    ],
                    "scatter3d": [
                      {
                        "line": {
                          "colorbar": {
                            "outlinewidth": 0,
                            "ticks": ""
                          }
                        },
                        "marker": {
                          "colorbar": {
                            "outlinewidth": 0,
                            "ticks": ""
                          }
                        },
                        "type": "scatter3d"
                      }
                    ],
                    "scattercarpet": [
                      {
                        "marker": {
                          "colorbar": {
                            "outlinewidth": 0,
                            "ticks": ""
                          }
                        },
                        "type": "scattercarpet"
                      }
                    ],
                    "scattergeo": [
                      {
                        "marker": {
                          "colorbar": {
                            "outlinewidth": 0,
                            "ticks": ""
                          }
                        },
                        "type": "scattergeo"
                      }
                    ],
                    "scattergl": [
                      {
                        "marker": {
                          "colorbar": {
                            "outlinewidth": 0,
                            "ticks": ""
                          }
                        },
                        "type": "scattergl"
                      }
                    ],
                    "scattermapbox": [
                      {
                        "marker": {
                          "colorbar": {
                            "outlinewidth": 0,
                            "ticks": ""
                          }
                        },
                        "type": "scattermapbox"
                      }
                    ],
                    "scatterpolar": [
                      {
                        "marker": {
                          "colorbar": {
                            "outlinewidth": 0,
                            "ticks": ""
                          }
                        },
                        "type": "scatterpolar"
                      }
                    ],
                    "scatterpolargl": [
                      {
                        "marker": {
                          "colorbar": {
                            "outlinewidth": 0,
                            "ticks": ""
                          }
                        },
                        "type": "scatterpolargl"
                      }
                    ],
                    "scatterternary": [
                      {
                        "marker": {
                          "colorbar": {
                            "outlinewidth": 0,
                            "ticks": ""
                          }
                        },
                        "type": "scatterternary"
                      }
                    ],
                    "surface": [
                      {
                        "colorbar": {
                          "outlinewidth": 0,
                          "ticks": ""
                        },
                        "colorscale": [
                          [
                            0,
                            "#0d0887"
                          ],
                          [
                            0.1111111111111111,
                            "#46039f"
                          ],
                          [
                            0.2222222222222222,
                            "#7201a8"
                          ],
                          [
                            0.3333333333333333,
                            "#9c179e"
                          ],
                          [
                            0.4444444444444444,
                            "#bd3786"
                          ],
                          [
                            0.5555555555555556,
                            "#d8576b"
                          ],
                          [
                            0.6666666666666666,
                            "#ed7953"
                          ],
                          [
                            0.7777777777777778,
                            "#fb9f3a"
                          ],
                          [
                            0.8888888888888888,
                            "#fdca26"
                          ],
                          [
                            1,
                            "#f0f921"
                          ]
                        ],
                        "type": "surface"
                      }
                    ],
                    "table": [
                      {
                        "cells": {
                          "fill": {
                            "color": "#EBF0F8"
                          },
                          "line": {
                            "color": "white"
                          }
                        },
                        "header": {
                          "fill": {
                            "color": "#C8D4E3"
                          },
                          "line": {
                            "color": "white"
                          }
                        },
                        "type": "table"
                      }
                    ]
                  },
                  "layout": {
                    "annotationdefaults": {
                      "arrowcolor": "#2a3f5f",
                      "arrowhead": 0,
                      "arrowwidth": 1
                    },
                    "autotypenumbers": "strict",
                    "coloraxis": {
                      "colorbar": {
                        "outlinewidth": 0,
                        "ticks": ""
                      }
                    },
                    "colorscale": {
                      "diverging": [
                        [
                          0,
                          "#8e0152"
                        ],
                        [
                          0.1,
                          "#c51b7d"
                        ],
                        [
                          0.2,
                          "#de77ae"
                        ],
                        [
                          0.3,
                          "#f1b6da"
                        ],
                        [
                          0.4,
                          "#fde0ef"
                        ],
                        [
                          0.5,
                          "#f7f7f7"
                        ],
                        [
                          0.6,
                          "#e6f5d0"
                        ],
                        [
                          0.7,
                          "#b8e186"
                        ],
                        [
                          0.8,
                          "#7fbc41"
                        ],
                        [
                          0.9,
                          "#4d9221"
                        ],
                        [
                          1,
                          "#276419"
                        ]
                      ],
                      "sequential": [
                        [
                          0,
                          "#0d0887"
                        ],
                        [
                          0.1111111111111111,
                          "#46039f"
                        ],
                        [
                          0.2222222222222222,
                          "#7201a8"
                        ],
                        [
                          0.3333333333333333,
                          "#9c179e"
                        ],
                        [
                          0.4444444444444444,
                          "#bd3786"
                        ],
                        [
                          0.5555555555555556,
                          "#d8576b"
                        ],
                        [
                          0.6666666666666666,
                          "#ed7953"
                        ],
                        [
                          0.7777777777777778,
                          "#fb9f3a"
                        ],
                        [
                          0.8888888888888888,
                          "#fdca26"
                        ],
                        [
                          1,
                          "#f0f921"
                        ]
                      ],
                      "sequentialminus": [
                        [
                          0,
                          "#0d0887"
                        ],
                        [
                          0.1111111111111111,
                          "#46039f"
                        ],
                        [
                          0.2222222222222222,
                          "#7201a8"
                        ],
                        [
                          0.3333333333333333,
                          "#9c179e"
                        ],
                        [
                          0.4444444444444444,
                          "#bd3786"
                        ],
                        [
                          0.5555555555555556,
                          "#d8576b"
                        ],
                        [
                          0.6666666666666666,
                          "#ed7953"
                        ],
                        [
                          0.7777777777777778,
                          "#fb9f3a"
                        ],
                        [
                          0.8888888888888888,
                          "#fdca26"
                        ],
                        [
                          1,
                          "#f0f921"
                        ]
                      ]
                    },
                    "colorway": [
                      "#636efa",
                      "#EF553B",
                      "#00cc96",
                      "#ab63fa",
                      "#FFA15A",
                      "#19d3f3",
                      "#FF6692",
                      "#B6E880",
                      "#FF97FF",
                      "#FECB52"
                    ],
                    "font": {
                      "color": "#2a3f5f"
                    },
                    "geo": {
                      "bgcolor": "white",
                      "lakecolor": "white",
                      "landcolor": "#E5ECF6",
                      "showlakes": true,
                      "showland": true,
                      "subunitcolor": "white"
                    },
                    "hoverlabel": {
                      "align": "left"
                    },
                    "hovermode": "closest",
                    "mapbox": {
                      "style": "light"
                    },
                    "paper_bgcolor": "white",
                    "plot_bgcolor": "#E5ECF6",
                    "polar": {
                      "angularaxis": {
                        "gridcolor": "white",
                        "linecolor": "white",
                        "ticks": ""
                      },
                      "bgcolor": "#E5ECF6",
                      "radialaxis": {
                        "gridcolor": "white",
                        "linecolor": "white",
                        "ticks": ""
                      }
                    },
                    "scene": {
                      "xaxis": {
                        "backgroundcolor": "#E5ECF6",
                        "gridcolor": "white",
                        "gridwidth": 2,
                        "linecolor": "white",
                        "showbackground": true,
                        "ticks": "",
                        "zerolinecolor": "white"
                      },
                      "yaxis": {
                        "backgroundcolor": "#E5ECF6",
                        "gridcolor": "white",
                        "gridwidth": 2,
                        "linecolor": "white",
                        "showbackground": true,
                        "ticks": "",
                        "zerolinecolor": "white"
                      },
                      "zaxis": {
                        "backgroundcolor": "#E5ECF6",
                        "gridcolor": "white",
                        "gridwidth": 2,
                        "linecolor": "white",
                        "showbackground": true,
                        "ticks": "",
                        "zerolinecolor": "white"
                      }
                    },
                    "shapedefaults": {
                      "line": {
                        "color": "#2a3f5f"
                      }
                    },
                    "ternary": {
                      "aaxis": {
                        "gridcolor": "white",
                        "linecolor": "white",
                        "ticks": ""
                      },
                      "baxis": {
                        "gridcolor": "white",
                        "linecolor": "white",
                        "ticks": ""
                      },
                      "bgcolor": "#E5ECF6",
                      "caxis": {
                        "gridcolor": "white",
                        "linecolor": "white",
                        "ticks": ""
                      }
                    },
                    "title": {
                      "x": 0.05
                    },
                    "xaxis": {
                      "automargin": true,
                      "gridcolor": "white",
                      "linecolor": "white",
                      "ticks": "",
                      "title": {
                        "standoff": 15
                      },
                      "zerolinecolor": "white",
                      "zerolinewidth": 2
                    },
                    "yaxis": {
                      "automargin": true,
                      "gridcolor": "white",
                      "linecolor": "white",
                      "ticks": "",
                      "title": {
                        "standoff": 15
                      },
                      "zerolinecolor": "white",
                      "zerolinewidth": 2
                    }
                  }
                },
                "title": {
                  "text": " San Antonio Spurs  ",
                  "x": 0.5
                }
              }
            }
          },
          "metadata": {},
          "output_type": "display_data"
        }
      ],
      "source": [
        "sum_sas_pts = sas.PTS.sum()\n",
        "\n",
        "sum_sas_ast = sas.AST.sum()\n",
        "\n",
        "sum_sas_reb = sas.REB.sum()\n",
        "\n",
        "sum_sas_orb = sas.ORB.sum()\n",
        "\n",
        "sum_sas_drb = sas.DRB.sum()\n",
        "\n",
        "fig = go.Figure()\n",
        "\n",
        "fig.add_trace(go.Indicator(\n",
        "    mode = \"number+gauge\", value =  sum_sas_pts,\n",
        "    domain = {'x': [0.25, 1], 'y': [0.1, 0.2]},\n",
        "    title = {'text': \"PTS\",'font':{'color': 'black','size':15}},\n",
        "     number={'font':{'color': 'black'}},\n",
        "    gauge = {\n",
        "        'shape': \"bullet\",\n",
        "        'axis': {'range': [None, 2500]},\n",
        "        'bar': {'color': \"blue\"}}\n",
        "))\n",
        "fig.add_trace(go.Indicator(\n",
        "    mode = \"number+gauge\", value = sum_sas_ast,\n",
        "    domain = {'x': [0.25, 1], 'y': [0.3, 0.4]},\n",
        "    title = {'text': \"AST\",'font':{'color': 'black','size':15}},\n",
        "    number={'font':{'color': 'black'}},\n",
        "    gauge = {\n",
        "        'shape': \"bullet\",\n",
        "        'axis': {'range': [None,2500]},\n",
        "        'bar': {'color': \"cyan\"}}\n",
        "))\n",
        "fig.add_trace(go.Indicator(\n",
        "    mode = \"number+gauge\", value = sum_sas_reb,\n",
        "    domain = {'x': [0.25, 1], 'y': [0.5,0.6]},\n",
        "    title = {'text' :\"REB\",'font':{'color': 'black','size':15}},\n",
        "     number={'font':{'color': 'black'}},\n",
        "    gauge = {\n",
        "        'shape': \"bullet\",\n",
        "        'axis': {'range': [None,2500]},\n",
        "        'bar': {'color': \"red\"}}\n",
        "))\n",
        "fig.add_trace(go.Indicator(\n",
        "    mode = \"number+gauge\", value = sum_sas_orb,\n",
        "    domain = {'x': [0.25, 1], 'y': [0.7,0.8]},\n",
        "    title = {'text' :\"ORB\",'font':{'color': 'black','size':15}},\n",
        "     number={'font':{'color': 'black'}},\n",
        "    gauge = {\n",
        "        'shape': \"bullet\",\n",
        "        'axis': {'range': [None,2500]},\n",
        "        'bar': {'color': \"red\"}}\n",
        "))\n",
        "fig.add_trace(go.Indicator(\n",
        "    mode = \"number+gauge\", value = sum_sas_drb,\n",
        "    domain = {'x': [0.25, 1], 'y': [0.9,1]},\n",
        "    title = {'text' :\"DRB\",'font':{'color': 'black','size':15}},\n",
        "     number={'font':{'color': 'black'}},\n",
        "    gauge = {\n",
        "        'shape': \"bullet\",\n",
        "        'axis': {'range': [None,2500]},\n",
        "        'bar': {'color': \"red\"}}\n",
        "))\n",
        "fig.update_layout(title=\" San Antonio Spurs  \",title_x=0.5)\n",
        "fig.show()"
      ]
    },
    {
      "cell_type": "markdown",
      "metadata": {
        "id": "ZcX-l2cW5RAM"
      },
      "source": [
        "# **¡Muchas gracias!**"
      ]
    }
  ],
  "metadata": {
    "colab": {
      "provenance": []
    },
    "kernelspec": {
      "display_name": "Python 3",
      "name": "python3"
    },
    "language_info": {
      "codemirror_mode": {
        "name": "ipython",
        "version": 3
      },
      "file_extension": ".py",
      "mimetype": "text/x-python",
      "name": "python",
      "nbconvert_exporter": "python",
      "pygments_lexer": "ipython3",
      "version": "3.9.7"
    }
  },
  "nbformat": 4,
  "nbformat_minor": 0
}
